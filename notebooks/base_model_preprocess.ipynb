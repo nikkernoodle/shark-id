{
  "cells": [
    {
      "cell_type": "markdown",
      "metadata": {
        "id": "NHLV7A8vSXfT"
      },
      "source": [
        "# IMPORTS"
      ]
    },
    {
      "cell_type": "code",
      "source": [
        "#check tensorflow versions\n",
        "!pip freeze | grep tensorflow"
      ],
      "metadata": {
        "colab": {
          "base_uri": "https://localhost:8080/"
        },
        "id": "u_tdTBYhX17a",
        "outputId": "eb35b5d3-c161-405b-c7e1-b4422bae58a6"
      },
      "execution_count": 86,
      "outputs": [
        {
          "output_type": "stream",
          "name": "stdout",
          "text": [
            "tensorflow==2.12.0\n",
            "tensorflow-datasets==4.9.2\n",
            "tensorflow-estimator==2.12.0\n",
            "tensorflow-gcs-config==2.12.0\n",
            "tensorflow-hub==0.13.0\n",
            "tensorflow-io-gcs-filesystem==0.32.0\n",
            "tensorflow-metadata==1.13.1\n",
            "tensorflow-probability==0.20.1\n"
          ]
        }
      ]
    },
    {
      "cell_type": "code",
      "execution_count": 58,
      "metadata": {
        "id": "zLBugN60SXfW",
        "colab": {
          "base_uri": "https://localhost:8080/"
        },
        "outputId": "f4dbec3f-f1ac-4d6e-d28b-6950c5905dee"
      },
      "outputs": [
        {
          "output_type": "stream",
          "name": "stdout",
          "text": [
            "Mounted at /content/drive\n"
          ]
        }
      ],
      "source": [
        "from google.colab import drive\n",
        "drive.mount('/content/drive', force_remount = True)"
      ]
    },
    {
      "cell_type": "code",
      "execution_count": 120,
      "metadata": {
        "id": "mDiCfSnbSXfY"
      },
      "outputs": [],
      "source": [
        "from tensorflow.keras.applications.vgg16 import VGG16, preprocess_input\n",
        "from tensorflow.keras import layers, models, metrics, optimizers\n",
        "from tensorflow.keras.callbacks import EarlyStopping\n",
        "from tensorflow.keras.utils import to_categorical\n",
        "import numpy as np # linear algebra\n",
        "import pandas as pd # data processing, CSV file I/O (e.g. pd.read_csv)\n",
        "import seaborn as sns\n",
        "import matplotlib.pyplot as plt\n",
        "import os, sys\n",
        "import cv2\n",
        "from tqdm import tqdm\n",
        "from PIL import Image\n",
        "from sklearn.metrics import confusion_matrix, ConfusionMatrixDisplay\n",
        "from sklearn.metrics import f1_score, precision_score, accuracy_score, recall_score, balanced_accuracy_score\n"
      ]
    },
    {
      "cell_type": "markdown",
      "metadata": {
        "id": "DDjenuNLSXfY"
      },
      "source": [
        "# PREPROCESSING"
      ]
    },
    {
      "cell_type": "code",
      "source": [
        "def load_sharks_data(loading_method):\n",
        "    if loading_method == 'colab':\n",
        "        data_path = '/content/drive/My Drive/shark-datasets/sharks'\n",
        "    elif loading_method == 'direct':\n",
        "        data_path = '../raw_data/sharks/'\n",
        "    classes = {'basking': 0, 'blue': 1, 'hammerhead': 2, 'mako': 3, 'sand tiger': 4, 'tiger': 5, 'white' : 6,\n",
        "               'blacktip': 7 , 'bull': 8, 'lemon':9 , 'nurse': 10, 'thresher': 11, 'whale': 12, 'whitetip': 13}\n",
        "    imgs = []\n",
        "    labels = []\n",
        "    for (cl, i) in classes.items():\n",
        "        images_path = [elt for elt in os.listdir(os.path.join(data_path, cl))]\n",
        "        for img in tqdm(images_path[:300]):\n",
        "            path = os.path.join(data_path, cl, img)\n",
        "            if os.path.exists(path):\n",
        "                image = Image.open(path)\n",
        "                image = image.resize((224, 224))\n",
        "                image = cv2.cvtColor(np.float32(image), cv2.COLOR_BGR2RGB)\n",
        "                imgs.append(np.array(image))\n",
        "                labels.append(i)\n",
        "\n",
        "    X = np.array(imgs)\n",
        "    num_classes = len(set(labels))\n",
        "    y = to_categorical(labels, num_classes)\n",
        "\n",
        "    # Finally we shuffle:\n",
        "    p = np.random.permutation(len(X))\n",
        "    X, y = X[p], y[p]\n",
        "\n",
        "    first_split = int(len(imgs) /6.)\n",
        "    second_split = first_split + int(len(imgs) * 0.2)\n",
        "    X_test, X_val, X_train = X[:first_split], X[first_split:second_split], X[second_split:]\n",
        "    y_test, y_val, y_train = y[:first_split], y[first_split:second_split], y[second_split:]\n",
        "\n",
        "    return X_train, y_train, X_val, y_val, X_test, y_test, num_classes"
      ],
      "metadata": {
        "id": "7lCj6Hbxy60f"
      },
      "execution_count": 60,
      "outputs": []
    },
    {
      "cell_type": "code",
      "execution_count": 61,
      "metadata": {
        "id": "ki2XFjhmSXfZ",
        "colab": {
          "base_uri": "https://localhost:8080/"
        },
        "outputId": "5ecb996a-1fa8-4943-873e-29863ea86bdd"
      },
      "outputs": [
        {
          "output_type": "stream",
          "name": "stderr",
          "text": [
            "100%|██████████| 93/93 [00:10<00:00,  8.98it/s]\n",
            "100%|██████████| 107/107 [00:08<00:00, 11.98it/s]\n",
            "100%|██████████| 127/127 [00:06<00:00, 18.79it/s]\n",
            "100%|██████████| 101/101 [00:06<00:00, 16.79it/s]\n",
            "100%|██████████| 97/97 [00:09<00:00, 10.01it/s]\n",
            "100%|██████████| 97/97 [00:09<00:00, 10.08it/s]\n",
            "100%|██████████| 135/135 [00:09<00:00, 14.21it/s]\n",
            "100%|██████████| 114/114 [00:05<00:00, 19.66it/s]\n",
            "100%|██████████| 110/110 [00:05<00:00, 18.69it/s]\n",
            "100%|██████████| 119/119 [00:05<00:00, 20.96it/s]\n",
            "100%|██████████| 73/73 [00:04<00:00, 16.63it/s]\n",
            "100%|██████████| 118/118 [00:05<00:00, 22.20it/s]\n",
            "100%|██████████| 133/133 [00:10<00:00, 12.84it/s]\n",
            "100%|██████████| 125/125 [00:06<00:00, 17.99it/s]\n"
          ]
        }
      ],
      "source": [
        "X_train, y_train, X_val, y_val, X_test, y_test, num_classes = load_sharks_data(\"colab\")"
      ]
    },
    {
      "cell_type": "code",
      "execution_count": 62,
      "metadata": {
        "id": "5aTNtTRuSXfa",
        "colab": {
          "base_uri": "https://localhost:8080/"
        },
        "outputId": "1c3d82b8-c304-4d2f-882d-5f155d37c56e"
      },
      "outputs": [
        {
          "output_type": "execute_result",
          "data": {
            "text/plain": [
              "(982, 224, 224, 3)"
            ]
          },
          "metadata": {},
          "execution_count": 62
        }
      ],
      "source": [
        "X_train.shape"
      ]
    },
    {
      "cell_type": "code",
      "execution_count": 63,
      "metadata": {
        "id": "fH4DV2MQSXfa"
      },
      "outputs": [],
      "source": [
        "X_train = preprocess_input(X_train)\n",
        "X_val = preprocess_input(X_val)\n",
        "X_test = preprocess_input(X_test)\n"
      ]
    },
    {
      "cell_type": "markdown",
      "metadata": {
        "id": "KLEsUSv8SXfa"
      },
      "source": [
        "# MODEL"
      ]
    },
    {
      "cell_type": "markdown",
      "metadata": {
        "id": "RYUIJ5zC9Pkf"
      },
      "source": [
        "## Define model\n",
        "\n",
        "wow, very complicated transfer learning..."
      ]
    },
    {
      "cell_type": "code",
      "execution_count": 88,
      "metadata": {
        "id": "DVriRk2FuABI"
      },
      "outputs": [],
      "source": [
        "def load_model():\n",
        "\n",
        "    # $CHALLENGIFY_BEGIN\n",
        "\n",
        "    model = VGG16(weights=\"imagenet\", include_top=False, input_shape=X_train[0].shape)\n",
        "    # model = VGG16(weights=\"imagenet\", include_top=False, input_shape=(244, 244, 3))\n",
        "\n",
        "    # $CHALLENGIFY_END\n",
        "\n",
        "    return model"
      ]
    },
    {
      "cell_type": "code",
      "execution_count": 89,
      "metadata": {
        "colab": {
          "base_uri": "https://localhost:8080/"
        },
        "id": "JtBpKLegF7TO",
        "outputId": "f748c240-b692-439b-d0d1-275a0f56033b",
        "tags": [
          "challengify"
        ]
      },
      "outputs": [
        {
          "output_type": "stream",
          "name": "stdout",
          "text": [
            "Model: \"vgg16\"\n",
            "_________________________________________________________________\n",
            " Layer (type)                Output Shape              Param #   \n",
            "=================================================================\n",
            " input_8 (InputLayer)        [(None, 224, 224, 3)]     0         \n",
            "                                                                 \n",
            " block1_conv1 (Conv2D)       (None, 224, 224, 64)      1792      \n",
            "                                                                 \n",
            " block1_conv2 (Conv2D)       (None, 224, 224, 64)      36928     \n",
            "                                                                 \n",
            " block1_pool (MaxPooling2D)  (None, 112, 112, 64)      0         \n",
            "                                                                 \n",
            " block2_conv1 (Conv2D)       (None, 112, 112, 128)     73856     \n",
            "                                                                 \n",
            " block2_conv2 (Conv2D)       (None, 112, 112, 128)     147584    \n",
            "                                                                 \n",
            " block2_pool (MaxPooling2D)  (None, 56, 56, 128)       0         \n",
            "                                                                 \n",
            " block3_conv1 (Conv2D)       (None, 56, 56, 256)       295168    \n",
            "                                                                 \n",
            " block3_conv2 (Conv2D)       (None, 56, 56, 256)       590080    \n",
            "                                                                 \n",
            " block3_conv3 (Conv2D)       (None, 56, 56, 256)       590080    \n",
            "                                                                 \n",
            " block3_pool (MaxPooling2D)  (None, 28, 28, 256)       0         \n",
            "                                                                 \n",
            " block4_conv1 (Conv2D)       (None, 28, 28, 512)       1180160   \n",
            "                                                                 \n",
            " block4_conv2 (Conv2D)       (None, 28, 28, 512)       2359808   \n",
            "                                                                 \n",
            " block4_conv3 (Conv2D)       (None, 28, 28, 512)       2359808   \n",
            "                                                                 \n",
            " block4_pool (MaxPooling2D)  (None, 14, 14, 512)       0         \n",
            "                                                                 \n",
            " block5_conv1 (Conv2D)       (None, 14, 14, 512)       2359808   \n",
            "                                                                 \n",
            " block5_conv2 (Conv2D)       (None, 14, 14, 512)       2359808   \n",
            "                                                                 \n",
            " block5_conv3 (Conv2D)       (None, 14, 14, 512)       2359808   \n",
            "                                                                 \n",
            " block5_pool (MaxPooling2D)  (None, 7, 7, 512)         0         \n",
            "                                                                 \n",
            "=================================================================\n",
            "Total params: 14,714,688\n",
            "Trainable params: 14,714,688\n",
            "Non-trainable params: 0\n",
            "_________________________________________________________________\n"
          ]
        }
      ],
      "source": [
        "model = load_model()\n",
        "model.summary()"
      ]
    },
    {
      "cell_type": "markdown",
      "metadata": {
        "id": "3qfrSHMu99F_"
      },
      "source": [
        "set model as not trainable, cuz it's massive"
      ]
    },
    {
      "cell_type": "code",
      "execution_count": 90,
      "metadata": {
        "id": "J23sHJa9uABL"
      },
      "outputs": [],
      "source": [
        "def set_nontrainable_layers(model):\n",
        "    # Set the first layers to be untrainable\n",
        "    model.trainable = False\n",
        "\n",
        "    return model"
      ]
    },
    {
      "cell_type": "code",
      "execution_count": 91,
      "metadata": {
        "colab": {
          "base_uri": "https://localhost:8080/"
        },
        "id": "4_XYlwvJZ2vT",
        "outputId": "e21eaa4d-41f4-4100-f71d-f770cd9baf60",
        "tags": [
          "delete"
        ]
      },
      "outputs": [
        {
          "output_type": "stream",
          "name": "stdout",
          "text": [
            "Model: \"vgg16\"\n",
            "_________________________________________________________________\n",
            " Layer (type)                Output Shape              Param #   \n",
            "=================================================================\n",
            " input_8 (InputLayer)        [(None, 224, 224, 3)]     0         \n",
            "                                                                 \n",
            " block1_conv1 (Conv2D)       (None, 224, 224, 64)      1792      \n",
            "                                                                 \n",
            " block1_conv2 (Conv2D)       (None, 224, 224, 64)      36928     \n",
            "                                                                 \n",
            " block1_pool (MaxPooling2D)  (None, 112, 112, 64)      0         \n",
            "                                                                 \n",
            " block2_conv1 (Conv2D)       (None, 112, 112, 128)     73856     \n",
            "                                                                 \n",
            " block2_conv2 (Conv2D)       (None, 112, 112, 128)     147584    \n",
            "                                                                 \n",
            " block2_pool (MaxPooling2D)  (None, 56, 56, 128)       0         \n",
            "                                                                 \n",
            " block3_conv1 (Conv2D)       (None, 56, 56, 256)       295168    \n",
            "                                                                 \n",
            " block3_conv2 (Conv2D)       (None, 56, 56, 256)       590080    \n",
            "                                                                 \n",
            " block3_conv3 (Conv2D)       (None, 56, 56, 256)       590080    \n",
            "                                                                 \n",
            " block3_pool (MaxPooling2D)  (None, 28, 28, 256)       0         \n",
            "                                                                 \n",
            " block4_conv1 (Conv2D)       (None, 28, 28, 512)       1180160   \n",
            "                                                                 \n",
            " block4_conv2 (Conv2D)       (None, 28, 28, 512)       2359808   \n",
            "                                                                 \n",
            " block4_conv3 (Conv2D)       (None, 28, 28, 512)       2359808   \n",
            "                                                                 \n",
            " block4_pool (MaxPooling2D)  (None, 14, 14, 512)       0         \n",
            "                                                                 \n",
            " block5_conv1 (Conv2D)       (None, 14, 14, 512)       2359808   \n",
            "                                                                 \n",
            " block5_conv2 (Conv2D)       (None, 14, 14, 512)       2359808   \n",
            "                                                                 \n",
            " block5_conv3 (Conv2D)       (None, 14, 14, 512)       2359808   \n",
            "                                                                 \n",
            " block5_pool (MaxPooling2D)  (None, 7, 7, 512)         0         \n",
            "                                                                 \n",
            "=================================================================\n",
            "Total params: 14,714,688\n",
            "Trainable params: 0\n",
            "Non-trainable params: 14,714,688\n",
            "_________________________________________________________________\n"
          ]
        }
      ],
      "source": [
        "model = set_nontrainable_layers(model)\n",
        "model.summary()"
      ]
    },
    {
      "cell_type": "markdown",
      "metadata": {
        "id": "D4yedT2VF7TP"
      },
      "source": [
        "### Actually build the model\n",
        "\n",
        "Thx for all your patience"
      ]
    },
    {
      "cell_type": "code",
      "execution_count": 127,
      "metadata": {
        "id": "0pEHWdS3uABN"
      },
      "outputs": [],
      "source": [
        "def add_last_layers(model):\n",
        "    '''Take a pre-trained model, set its parameters as non-trainable, and add additional trainable layers on top'''\n",
        "    # $CHALLENGIFY_BEGIN\n",
        "    base_model = set_nontrainable_layers(model)\n",
        "    flatten_layer = layers.Flatten()\n",
        "    dense_layer = layers.Dense(50, activation='relu')\n",
        "    prediction_layer = layers.Dense(14, activation='softmax')\n",
        "#chanted dense from 500 to 50\n",
        "\n",
        "    model = models.Sequential([\n",
        "        base_model,\n",
        "        flatten_layer,\n",
        "        dense_layer,\n",
        "        prediction_layer\n",
        "    ])\n",
        "    # $CHALLENGIFY_END\n",
        "    return model"
      ]
    },
    {
      "cell_type": "code",
      "execution_count": 128,
      "metadata": {
        "colab": {
          "base_uri": "https://localhost:8080/"
        },
        "id": "0uqGuxsJF7TR",
        "outputId": "bf641ca9-7804-496f-dd7f-2ec2ddafa4eb",
        "tags": [
          "challengify"
        ]
      },
      "outputs": [
        {
          "output_type": "stream",
          "name": "stdout",
          "text": [
            "Model: \"sequential_10\"\n",
            "_________________________________________________________________\n",
            " Layer (type)                Output Shape              Param #   \n",
            "=================================================================\n",
            " sequential_9 (Sequential)   (None, 14)                27266202  \n",
            "                                                                 \n",
            " flatten_10 (Flatten)        (None, 14)                0         \n",
            "                                                                 \n",
            " dense_20 (Dense)            (None, 50)                750       \n",
            "                                                                 \n",
            " dense_21 (Dense)            (None, 14)                714       \n",
            "                                                                 \n",
            "=================================================================\n",
            "Total params: 27,267,666\n",
            "Trainable params: 1,464\n",
            "Non-trainable params: 27,266,202\n",
            "_________________________________________________________________\n"
          ]
        }
      ],
      "source": [
        "model = add_last_layers(model)\n",
        "model.summary()"
      ]
    },
    {
      "cell_type": "markdown",
      "metadata": {
        "id": "yxXlnPp5F7TR"
      },
      "source": [
        "## Compile VGG16 + layers"
      ]
    },
    {
      "cell_type": "code",
      "execution_count": 129,
      "metadata": {
        "id": "TGZh5Ug3uABP"
      },
      "outputs": [],
      "source": [
        "def build_model():\n",
        "\n",
        "    model = load_model()\n",
        "    model = add_last_layers(model)\n",
        "\n",
        "    opt = optimizers.Adam(learning_rate=1e-4)\n",
        "    model.compile(loss='categorical_crossentropy',\n",
        "                  optimizer=opt,\n",
        "                  weighted_metrics=['accuracy'])\n",
        "\n",
        "    return model\n"
      ]
    },
    {
      "cell_type": "code",
      "execution_count": 130,
      "metadata": {
        "colab": {
          "base_uri": "https://localhost:8080/"
        },
        "id": "O-XsFbyoZ2vU",
        "outputId": "d87de848-afc7-4358-c581-bbe3036f5e4a",
        "tags": [
          "delete"
        ]
      },
      "outputs": [
        {
          "output_type": "stream",
          "name": "stdout",
          "text": [
            "Model: \"sequential_11\"\n",
            "_________________________________________________________________\n",
            " Layer (type)                Output Shape              Param #   \n",
            "=================================================================\n",
            " vgg16 (Functional)          (None, 7, 7, 512)         14714688  \n",
            "                                                                 \n",
            " flatten_11 (Flatten)        (None, 25088)             0         \n",
            "                                                                 \n",
            " dense_22 (Dense)            (None, 50)                1254450   \n",
            "                                                                 \n",
            " dense_23 (Dense)            (None, 14)                714       \n",
            "                                                                 \n",
            "=================================================================\n",
            "Total params: 15,969,852\n",
            "Trainable params: 1,255,164\n",
            "Non-trainable params: 14,714,688\n",
            "_________________________________________________________________\n"
          ]
        }
      ],
      "source": [
        "model = build_model()\n",
        "model.summary()"
      ]
    },
    {
      "cell_type": "markdown",
      "metadata": {
        "id": "2T7HvbQfZ2vZ"
      },
      "source": [
        "## Fit the model"
      ]
    },
    {
      "cell_type": "code",
      "execution_count": 131,
      "metadata": {
        "id": "grmnNmjeAXcQ",
        "tags": [
          "challengify"
        ],
        "colab": {
          "base_uri": "https://localhost:8080/"
        },
        "outputId": "e60c8184-388f-461c-9776-38135bcbfd6d"
      },
      "outputs": [
        {
          "output_type": "stream",
          "name": "stdout",
          "text": [
            "Epoch 1/50\n",
            "62/62 [==============================] - 9s 99ms/step - loss: 5.5403 - accuracy: 0.1426 - val_loss: 2.6721 - val_accuracy: 0.1456\n",
            "Epoch 2/50\n",
            "62/62 [==============================] - 5s 87ms/step - loss: 2.0278 - accuracy: 0.3147 - val_loss: 2.8913 - val_accuracy: 0.2201\n",
            "Epoch 3/50\n",
            "62/62 [==============================] - 6s 89ms/step - loss: 1.5946 - accuracy: 0.4470 - val_loss: 2.7634 - val_accuracy: 0.2718\n",
            "Epoch 4/50\n",
            "62/62 [==============================] - 5s 86ms/step - loss: 1.2379 - accuracy: 0.5540 - val_loss: 3.0581 - val_accuracy: 0.2945\n",
            "Epoch 5/50\n",
            "62/62 [==============================] - 5s 89ms/step - loss: 1.0137 - accuracy: 0.6263 - val_loss: 3.1759 - val_accuracy: 0.3010\n",
            "Epoch 6/50\n",
            "62/62 [==============================] - 5s 86ms/step - loss: 0.7824 - accuracy: 0.7118 - val_loss: 3.3796 - val_accuracy: 0.3172\n",
            "Epoch 7/50\n",
            "62/62 [==============================] - 5s 86ms/step - loss: 0.6038 - accuracy: 0.7800 - val_loss: 3.5521 - val_accuracy: 0.3333\n",
            "Epoch 8/50\n",
            "62/62 [==============================] - 5s 89ms/step - loss: 0.4756 - accuracy: 0.8218 - val_loss: 3.5307 - val_accuracy: 0.3366\n",
            "Epoch 9/50\n",
            "62/62 [==============================] - 5s 88ms/step - loss: 0.3446 - accuracy: 0.8707 - val_loss: 3.6930 - val_accuracy: 0.3495\n",
            "Epoch 10/50\n",
            "62/62 [==============================] - 5s 89ms/step - loss: 0.2797 - accuracy: 0.8971 - val_loss: 3.6999 - val_accuracy: 0.3528\n",
            "Epoch 11/50\n",
            "62/62 [==============================] - 5s 87ms/step - loss: 0.1942 - accuracy: 0.9246 - val_loss: 3.9630 - val_accuracy: 0.3495\n",
            "Epoch 12/50\n",
            "62/62 [==============================] - 5s 88ms/step - loss: 0.1522 - accuracy: 0.9409 - val_loss: 4.2847 - val_accuracy: 0.3657\n",
            "Epoch 13/50\n",
            "62/62 [==============================] - 6s 90ms/step - loss: 0.1240 - accuracy: 0.9582 - val_loss: 4.4631 - val_accuracy: 0.3625\n",
            "Epoch 14/50\n",
            "62/62 [==============================] - 5s 89ms/step - loss: 0.0983 - accuracy: 0.9705 - val_loss: 4.3568 - val_accuracy: 0.3722\n",
            "Epoch 15/50\n",
            "62/62 [==============================] - 6s 89ms/step - loss: 0.0796 - accuracy: 0.9725 - val_loss: 4.5554 - val_accuracy: 0.3948\n",
            "Epoch 16/50\n",
            "62/62 [==============================] - 5s 89ms/step - loss: 0.0634 - accuracy: 0.9776 - val_loss: 4.5113 - val_accuracy: 0.3916\n",
            "Epoch 17/50\n",
            "62/62 [==============================] - 5s 88ms/step - loss: 0.0550 - accuracy: 0.9776 - val_loss: 4.5706 - val_accuracy: 0.3948\n",
            "Epoch 18/50\n",
            "62/62 [==============================] - 6s 91ms/step - loss: 0.0479 - accuracy: 0.9796 - val_loss: 4.6874 - val_accuracy: 0.4045\n",
            "Epoch 19/50\n",
            "62/62 [==============================] - 5s 88ms/step - loss: 0.0464 - accuracy: 0.9837 - val_loss: 4.6483 - val_accuracy: 0.4045\n",
            "Epoch 20/50\n",
            "62/62 [==============================] - 7s 109ms/step - loss: 0.0436 - accuracy: 0.9837 - val_loss: 4.7704 - val_accuracy: 0.3819\n",
            "Epoch 21/50\n",
            "62/62 [==============================] - 5s 88ms/step - loss: 0.0430 - accuracy: 0.9847 - val_loss: 4.8169 - val_accuracy: 0.3981\n",
            "Epoch 22/50\n",
            "62/62 [==============================] - 6s 90ms/step - loss: 0.0466 - accuracy: 0.9857 - val_loss: 4.9118 - val_accuracy: 0.4175\n",
            "Epoch 23/50\n",
            "62/62 [==============================] - 7s 112ms/step - loss: 0.0420 - accuracy: 0.9868 - val_loss: 5.0061 - val_accuracy: 0.3851\n",
            "Epoch 24/50\n",
            "62/62 [==============================] - 6s 90ms/step - loss: 0.0475 - accuracy: 0.9847 - val_loss: 4.8565 - val_accuracy: 0.4110\n",
            "Epoch 25/50\n",
            "62/62 [==============================] - 6s 91ms/step - loss: 0.0350 - accuracy: 0.9868 - val_loss: 5.1763 - val_accuracy: 0.3883\n",
            "Epoch 26/50\n",
            "62/62 [==============================] - 6s 89ms/step - loss: 0.0358 - accuracy: 0.9868 - val_loss: 5.1197 - val_accuracy: 0.4045\n",
            "Epoch 27/50\n",
            "61/62 [============================>.] - ETA: 0s - loss: 0.0337 - accuracy: 0.9877Restoring model weights from the end of the best epoch: 22.\n",
            "62/62 [==============================] - 7s 112ms/step - loss: 0.0335 - accuracy: 0.9878 - val_loss: 4.9997 - val_accuracy: 0.4013\n",
            "Epoch 27: early stopping\n"
          ]
        }
      ],
      "source": [
        "model = build_model()\n",
        "\n",
        "es = EarlyStopping(monitor = 'val_accuracy',\n",
        "                   mode = 'max',\n",
        "                   patience = 5,\n",
        "                   verbose = 1,\n",
        "                   restore_best_weights = True)\n",
        "\n",
        "history = model.fit(X_train, y_train,\n",
        "                    validation_data=(X_val, y_val),\n",
        "                    epochs=50,\n",
        "                    batch_size=16,\n",
        "                    callbacks=[es])"
      ]
    },
    {
      "cell_type": "markdown",
      "metadata": {
        "id": "ec_I9JpiAm-W"
      },
      "source": [
        "### Plot accuracy"
      ]
    },
    {
      "cell_type": "code",
      "execution_count": 133,
      "metadata": {
        "id": "Pt8acm12uABX"
      },
      "outputs": [],
      "source": [
        "def plot_history(history, title='', axs=None, exp_name=\"\"):\n",
        "    if axs is not None:\n",
        "        ax1, ax2 = axs\n",
        "    else:\n",
        "        f, (ax1, ax2) = plt.subplots(1, 2, figsize=(12, 4))\n",
        "\n",
        "    if len(exp_name) > 0 and exp_name[0] != '_':\n",
        "        exp_name = '_' + exp_name\n",
        "    ax1.plot(history.history['loss'], label='train' + exp_name)\n",
        "    ax1.plot(history.history['val_loss'], label='val' + exp_name)\n",
        "    #ax1.set_ylim(0., 2.2)\n",
        "    ax1.set_title('loss')\n",
        "    ax1.legend()\n",
        "\n",
        "    ax2.plot(history.history['accuracy'], label='train accuracy'  + exp_name)\n",
        "    ax2.plot(history.history['val_accuracy'], label='val accuracy'  + exp_name)\n",
        "    #ax2.set_ylim(0.25, 1.)\n",
        "    ax2.set_title('Accuracy')\n",
        "    ax2.legend()\n",
        "    return (ax1, ax2)"
      ]
    },
    {
      "cell_type": "code",
      "execution_count": 134,
      "metadata": {
        "id": "ESzinGOY6aBc",
        "tags": [
          "challengify"
        ],
        "colab": {
          "base_uri": "https://localhost:8080/",
          "height": 408
        },
        "outputId": "e0328389-0fd6-4991-840e-91a14f22b3ae"
      },
      "outputs": [
        {
          "output_type": "execute_result",
          "data": {
            "text/plain": [
              "(<Axes: title={'center': 'loss'}>, <Axes: title={'center': 'Accuracy'}>)"
            ]
          },
          "metadata": {},
          "execution_count": 134
        },
        {
          "output_type": "display_data",
          "data": {
            "text/plain": [
              "<Figure size 1200x400 with 2 Axes>"
            ],
            "image/png": "[encoded data removed]"
          },
          "metadata": {}
        }
      ],
      "source": [
        "plot_history(history)"
      ]
    },
    {
      "cell_type": "markdown",
      "metadata": {
        "id": "y3plexlQAtcC"
      },
      "source": [
        "## Evaluate the model"
      ]
    },
    {
      "cell_type": "code",
      "execution_count": 135,
      "metadata": {
        "id": "ps_9HwUyRVj9",
        "tags": [
          "challengify"
        ],
        "colab": {
          "base_uri": "https://localhost:8080/"
        },
        "outputId": "fe8a4577-7c94-424d-9b0e-3adcde726743"
      },
      "outputs": [
        {
          "output_type": "stream",
          "name": "stdout",
          "text": [
            "9/9 [==============================] - 1s 121ms/step - loss: 4.3973 - accuracy: 0.4302\n",
            "test_accuracy_vgg = 43.0 %\n",
            "Chance level: 7.1%\n"
          ]
        }
      ],
      "source": [
        "res_vgg = model.evaluate(X_test, y_test)\n",
        "\n",
        "test_accuracy_vgg = res_vgg[-1]\n",
        "\n",
        "\n",
        "print(f\"test_accuracy_vgg = {round(test_accuracy_vgg,2)*100} %\")\n",
        "\n",
        "# print(f\"test_accuracy = {round(test_accuracy,2)*100} %\")\n",
        "\n",
        "print(f'Chance level: {1./num_classes*100:.1f}%')\n",
        "\n"
      ]
    },
    {
      "cell_type": "markdown",
      "metadata": {
        "id": "6kteEGee1d5H"
      },
      "source": [
        "### Create predictions"
      ]
    },
    {
      "cell_type": "code",
      "source": [
        "predictions = model.predict(X_test)\n"
      ],
      "metadata": {
        "colab": {
          "base_uri": "https://localhost:8080/"
        },
        "id": "AO___sWK1vFf",
        "outputId": "7ec607ad-c868-45d2-f2e5-4cec54e7d80a"
      },
      "execution_count": 136,
      "outputs": [
        {
          "output_type": "stream",
          "name": "stdout",
          "text": [
            "9/9 [==============================] - 1s 127ms/step\n"
          ]
        }
      ]
    },
    {
      "cell_type": "code",
      "source": [
        "y_pred = []\n",
        "\n",
        "for pred in predictions:\n",
        "  y_pred.append(np.argmax(pred))"
      ],
      "metadata": {
        "id": "6wESgWo11wCq"
      },
      "execution_count": 137,
      "outputs": []
    },
    {
      "cell_type": "code",
      "source": [
        "y_test_argmax = []\n",
        "for test in y_test:\n",
        "  y_test_argmax.append(np.argmax(test))"
      ],
      "metadata": {
        "id": "IcG-ir-g43_L"
      },
      "execution_count": 138,
      "outputs": []
    },
    {
      "cell_type": "markdown",
      "metadata": {
        "id": "000mmVOiIGgC"
      },
      "source": [
        "### Create scoring metric"
      ]
    },
    {
      "cell_type": "markdown",
      "metadata": {
        "id": "iw-9NcBRPkrc"
      },
      "source": [
        "#### Create f1 scoring metrics"
      ]
    },
    {
      "cell_type": "code",
      "source": [
        "# Return macro f1\n",
        "f1 = f1_score(y_test_argmax, y_pred, average='macro')\n",
        "\n",
        "# Return weighted f1\n",
        "f1_score_weighted = f1_score(y_test_argmax, y_pred, average='weighted')\n",
        "f1, f1_score_weighted"
      ],
      "metadata": {
        "colab": {
          "base_uri": "https://localhost:8080/"
        },
        "id": "GJnwKpljIJYT",
        "outputId": "6d0d7913-8455-4aa4-f94b-5ea91377bd1b"
      },
      "execution_count": 139,
      "outputs": [
        {
          "output_type": "execute_result",
          "data": {
            "text/plain": [
              "(0.4124536623961855, 0.42763932034598245)"
            ]
          },
          "metadata": {},
          "execution_count": 139
        }
      ]
    },
    {
      "cell_type": "markdown",
      "metadata": {
        "id": "9mZJI4v8Iate"
      },
      "source": [
        "#### Create precision metric"
      ]
    },
    {
      "cell_type": "code",
      "source": [
        "# Return macro precision\n",
        "precision = precision_score(y_test_argmax, y_pred, average='macro')\n",
        "\n",
        "# Return weighted precision\n",
        "precision_score_weighted = precision_score(y_test_argmax, y_pred, average='weighted')\n",
        "precision, precision_score_weighted"
      ],
      "metadata": {
        "colab": {
          "base_uri": "https://localhost:8080/"
        },
        "id": "vkHD5LiYIgz2",
        "outputId": "612b88b6-fb0d-4ea7-e403-7d3567a83117"
      },
      "execution_count": 140,
      "outputs": [
        {
          "output_type": "execute_result",
          "data": {
            "text/plain": [
              "(0.4212934934739446, 0.4477157922996357)"
            ]
          },
          "metadata": {},
          "execution_count": 140
        }
      ]
    },
    {
      "cell_type": "markdown",
      "metadata": {
        "id": "8YMJSjd4IktT"
      },
      "source": [
        "#### Create recall metric"
      ]
    },
    {
      "cell_type": "code",
      "source": [
        "# Return macro precision\n",
        "recall = recall_score(y_test_argmax,y_pred, average='macro')\n",
        "\n",
        "# Return weighted precision\n",
        "recall_weighted = recall_score(y_test_argmax,y_pred, average='weighted')\n",
        "recall, recall_weighted"
      ],
      "metadata": {
        "colab": {
          "base_uri": "https://localhost:8080/"
        },
        "id": "qCB_-6QDIiSd",
        "outputId": "0bf2483d-806c-4c2a-a764-ad553fdbfe8d"
      },
      "execution_count": 141,
      "outputs": [
        {
          "output_type": "execute_result",
          "data": {
            "text/plain": [
              "(0.4299865137442537, 0.43023255813953487)"
            ]
          },
          "metadata": {},
          "execution_count": 141
        }
      ]
    },
    {
      "cell_type": "markdown",
      "metadata": {
        "id": "_y6BpPIiIuGn"
      },
      "source": [
        "#### Create accuracy metric"
      ]
    },
    {
      "cell_type": "code",
      "source": [
        "# Return macro accuracy\n",
        "accuracy = accuracy_score(y_test_argmax, y_pred)\n",
        "\n",
        "# Return weighted accuracy\n",
        "accuracy_bal = balanced_accuracy_score(y_test_argmax, y_pred)\n",
        "\n",
        "accuracy, accuracy_bal"
      ],
      "metadata": {
        "colab": {
          "base_uri": "https://localhost:8080/"
        },
        "id": "y1vAI2QIIio_",
        "outputId": "ba27a2cb-64b8-4e54-b686-e93367c93e3f"
      },
      "execution_count": 142,
      "outputs": [
        {
          "output_type": "execute_result",
          "data": {
            "text/plain": [
              "(0.43023255813953487, 0.4299865137442537)"
            ]
          },
          "metadata": {},
          "execution_count": 142
        }
      ]
    },
    {
      "cell_type": "markdown",
      "metadata": {
        "id": "U7NNRDYl5exT"
      },
      "source": [
        "### Confusion Matrix for class analysis"
      ]
    },
    {
      "cell_type": "code",
      "source": [
        "cm = confusion_matrix(y_test_argmax, y_pred)"
      ],
      "metadata": {
        "id": "zclKlNg8vv2y"
      },
      "execution_count": 144,
      "outputs": []
    },
    {
      "cell_type": "code",
      "source": [
        "shark_labels = ['basking', 'blue', 'hammerhead', 'mako', 'sand tiger', 'tiger', 'white', 'blacktip', 'bull', 'lemon', 'nurse', 'thresher', 'whale', 'whitetip']\n",
        "\n",
        "disp = ConfusionMatrixDisplay(confusion_matrix=cm, display_labels=shark_labels)\n",
        "\n",
        "fig, ax = plt.subplots(figsize=(10,10))\n",
        "disp.plot(ax=ax)\n",
        "ax.set_xticklabels(shark_labels, rotation=45)\n",
        "\n",
        "plt.show()"
      ],
      "metadata": {
        "colab": {
          "base_uri": "https://localhost:8080/",
          "height": 842
        },
        "id": "Qz3zXWUjCwLW",
        "outputId": "ebe76bcc-0d28-4b85-d039-3815c5091d7d"
      },
      "execution_count": 145,
      "outputs": [
        {
          "output_type": "display_data",
          "data": {
            "text/plain": [
              "<Figure size 1000x1000 with 2 Axes>"
            ],
            "image/png": "[encoded data removed]"
          },
          "metadata": {}
        }
      ]
    }
  ],
  "metadata": {
    "colab": {
      "provenance": [],
      "toc_visible": true,
      "collapsed_sections": [
        "DDjenuNLSXfY"
      ],
      "gpuType": "T4"
    },
    "kernelspec": {
      "display_name": "Python 3",
      "name": "python3"
    },
    "language_info": {
      "name": "python"
    },
    "accelerator": "GPU"
  },
  "nbformat": 4,
  "nbformat_minor": 0
}