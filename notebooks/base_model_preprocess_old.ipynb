{
  "cells": [
    {
      "attachments": {},
      "cell_type": "markdown",
      "metadata": {},
      "source": [
        "# IMPORTS"
      ]
    },
    {
      "cell_type": "code",
      "execution_count": null,
      "metadata": {},
      "outputs": [],
      "source": [
        "from google.colab import drive\n",
        "drive.mount('/content/drive')"
      ]
    },
    {
      "cell_type": "code",
      "execution_count": null,
      "metadata": {},
      "outputs": [],
      "source": [
        "from tensorflow.keras.applications.vgg16 import VGG16\n",
        "from tensorflow.keras import layers, models\n",
        "from tensorflow.keras import optimizers\n",
        "from tensorflow.keras.callbacks import EarlyStopping\n",
        "import numpy as np # linear algebra\n",
        "import pandas as pd # data processing, CSV file I/O (e.g. pd.read_csv)\n",
        "import seaborn as sns\n",
        "import matplotlib.pyplot as plt\n",
        "import os, sys\n",
        "import cv2\n",
        "from tensorflow.keras.utils import to_categorical\n",
        "from tqdm import tqdm\n",
        "from PIL import Image\n",
        "from tensorflow.keras.applications.vgg16 import preprocess_input"
      ]
    },
    {
      "attachments": {},
      "cell_type": "markdown",
      "metadata": {},
      "source": [
        "# PREPROCESSING"
      ]
    },
    {
      "cell_type": "code",
      "execution_count": null,
      "metadata": {},
      "outputs": [],
      "source": [
        "def load_flowers_data(loading_method):\n",
        "    if loading_method == 'colab':\n",
        "        data_path = '/content/drive/My Drive/shark-datasets/sharks'\n",
        "    elif loading_method == 'direct':\n",
        "        data_path = '../raw_data/sharks/'\n",
        "    classes = {'basking': 0, 'blue': 1, 'hammerhead': 2, 'mako': 3, 'sand tiger': 4, 'tiger': 5, 'white' : 6,\n",
        "               'blacktip': 7 , 'bull': 8, 'lemon':9 , 'nurse': 10, 'thresher': 11, 'whale': 12, 'whitetip': 13}\n",
        "    imgs = []\n",
        "    labels = []\n",
        "    for (cl, i) in classes.items():\n",
        "        images_path = [elt for elt in os.listdir(os.path.join(data_path, cl)) if elt.find('.jpg')>0]\n",
        "        for img in tqdm(images_path[:300]):\n",
        "            path = os.path.join(data_path, cl, img)\n",
        "            if os.path.exists(path):\n",
        "                image = Image.open(path).convert('RGB')\n",
        "                image = image.resize((224, 224))\n",
        "                imgs.append(np.array(image))\n",
        "                labels.append(i)\n",
        "\n",
        "    X = np.array(imgs)\n",
        "    num_classes = len(set(labels))\n",
        "    y = to_categorical(labels, num_classes)\n",
        "\n",
        "    # Finally we shuffle:\n",
        "    p = np.random.permutation(len(X))\n",
        "    X, y = X[p], y[p]\n",
        "\n",
        "    first_split = int(len(imgs) /6.)\n",
        "    second_split = first_split + int(len(imgs) * 0.2)\n",
        "    X_test, X_val, X_train = X[:first_split], X[first_split:second_split], X[second_split:]\n",
        "    y_test, y_val, y_train = y[:first_split], y[first_split:second_split], y[second_split:]\n",
        "\n",
        "    return X_train, y_train, X_val, y_val, X_test, y_test, num_classes"
      ]
    },
    {
      "cell_type": "code",
      "execution_count": null,
      "metadata": {},
      "outputs": [],
      "source": [
        "X_train, y_train, X_val, y_val, X_test, y_test, num_classes = load_flowers_data(\"colab\")"
      ]
    },
    {
      "cell_type": "code",
      "execution_count": null,
      "metadata": {},
      "outputs": [],
      "source": [
        "X_train.shape"
      ]
    },
    {
      "cell_type": "code",
      "execution_count": null,
      "metadata": {},
      "outputs": [],
      "source": [
        "X_train = preprocess_input(X_train)\n",
        "X_val = preprocess_input(X_val)\n",
        "X_test = preprocess_input(X_test)\n"
      ]
    },
    {
      "attachments": {},
      "cell_type": "markdown",
      "metadata": {},
      "source": [
        "# MODEL"
      ]
    },
    {
      "attachments": {},
      "cell_type": "markdown",
      "metadata": {
        "id": "RYUIJ5zC9Pkf"
      },
      "source": [
        "## Define model\n",
        "\n",
        "wow, very complicated transfer learning..."
      ]
    },
    {
      "cell_type": "code",
      "execution_count": 7,
      "metadata": {
        "id": "DVriRk2FuABI"
      },
      "outputs": [],
      "source": [
        "def load_model():\n",
        "\n",
        "    # $CHALLENGIFY_BEGIN\n",
        "\n",
        "    # model = VGG16(weights=\"imagenet\", include_top=False, input_shape=X_train[0].shape)\n",
        "    model = VGG16(weights=\"imagenet\", include_top=False, input_shape=(244, 244, 3))\n",
        "\n",
        "    # $CHALLENGIFY_END\n",
        "\n",
        "    return model"
      ]
    },
    {
      "cell_type": "code",
      "execution_count": 9,
      "metadata": {
        "colab": {
          "base_uri": "https://localhost:8080/"
        },
        "id": "JtBpKLegF7TO",
        "outputId": "b29d172a-99f3-4424-f2e3-1a1fc4f5782b",
        "tags": [
          "challengify"
        ]
      },
      "outputs": [
        {
          "name": "stdout",
          "output_type": "stream",
          "text": [
            "Model: \"vgg16\"\n",
            "_________________________________________________________________\n",
            " Layer (type)                Output Shape              Param #   \n",
            "=================================================================\n",
            " input_2 (InputLayer)        [(None, 244, 244, 3)]     0         \n",
            "                                                                 \n",
            " block1_conv1 (Conv2D)       (None, 244, 244, 64)      1792      \n",
            "                                                                 \n",
            " block1_conv2 (Conv2D)       (None, 244, 244, 64)      36928     \n",
            "                                                                 \n",
            " block1_pool (MaxPooling2D)  (None, 122, 122, 64)      0         \n",
            "                                                                 \n",
            " block2_conv1 (Conv2D)       (None, 122, 122, 128)     73856     \n",
            "                                                                 \n",
            " block2_conv2 (Conv2D)       (None, 122, 122, 128)     147584    \n",
            "                                                                 \n",
            " block2_pool (MaxPooling2D)  (None, 61, 61, 128)       0         \n",
            "                                                                 \n",
            " block3_conv1 (Conv2D)       (None, 61, 61, 256)       295168    \n",
            "                                                                 \n",
            " block3_conv2 (Conv2D)       (None, 61, 61, 256)       590080    \n",
            "                                                                 \n",
            " block3_conv3 (Conv2D)       (None, 61, 61, 256)       590080    \n",
            "                                                                 \n",
            " block3_pool (MaxPooling2D)  (None, 30, 30, 256)       0         \n",
            "                                                                 \n",
            " block4_conv1 (Conv2D)       (None, 30, 30, 512)       1180160   \n",
            "                                                                 \n",
            " block4_conv2 (Conv2D)       (None, 30, 30, 512)       2359808   \n",
            "                                                                 \n",
            " block4_conv3 (Conv2D)       (None, 30, 30, 512)       2359808   \n",
            "                                                                 \n",
            " block4_pool (MaxPooling2D)  (None, 15, 15, 512)       0         \n",
            "                                                                 \n",
            " block5_conv1 (Conv2D)       (None, 15, 15, 512)       2359808   \n",
            "                                                                 \n",
            " block5_conv2 (Conv2D)       (None, 15, 15, 512)       2359808   \n",
            "                                                                 \n",
            " block5_conv3 (Conv2D)       (None, 15, 15, 512)       2359808   \n",
            "                                                                 \n",
            " block5_pool (MaxPooling2D)  (None, 7, 7, 512)         0         \n",
            "                                                                 \n",
            "=================================================================\n",
            "Total params: 14,714,688\n",
            "Trainable params: 14,714,688\n",
            "Non-trainable params: 0\n",
            "_________________________________________________________________\n"
          ]
        }
      ],
      "source": [
        "model = load_model()\n",
        "model.summary()"
      ]
    },
    {
      "attachments": {},
      "cell_type": "markdown",
      "metadata": {
        "id": "3qfrSHMu99F_"
      },
      "source": [
        "set model as not trainable, cuz it's massive"
      ]
    },
    {
      "cell_type": "code",
      "execution_count": 10,
      "metadata": {
        "id": "J23sHJa9uABL"
      },
      "outputs": [],
      "source": [
        "def set_nontrainable_layers(model):\n",
        "    # Set the first layers to be untrainable\n",
        "    model.trainable = False\n",
        "\n",
        "    return model"
      ]
    },
    {
      "cell_type": "code",
      "execution_count": 11,
      "metadata": {
        "colab": {
          "base_uri": "https://localhost:8080/"
        },
        "id": "4_XYlwvJZ2vT",
        "outputId": "2a5b410f-aa71-453c-c68d-35043026ad83",
        "tags": [
          "delete"
        ]
      },
      "outputs": [
        {
          "name": "stdout",
          "output_type": "stream",
          "text": [
            "Model: \"vgg16\"\n",
            "_________________________________________________________________\n",
            " Layer (type)                Output Shape              Param #   \n",
            "=================================================================\n",
            " input_2 (InputLayer)        [(None, 244, 244, 3)]     0         \n",
            "                                                                 \n",
            " block1_conv1 (Conv2D)       (None, 244, 244, 64)      1792      \n",
            "                                                                 \n",
            " block1_conv2 (Conv2D)       (None, 244, 244, 64)      36928     \n",
            "                                                                 \n",
            " block1_pool (MaxPooling2D)  (None, 122, 122, 64)      0         \n",
            "                                                                 \n",
            " block2_conv1 (Conv2D)       (None, 122, 122, 128)     73856     \n",
            "                                                                 \n",
            " block2_conv2 (Conv2D)       (None, 122, 122, 128)     147584    \n",
            "                                                                 \n",
            " block2_pool (MaxPooling2D)  (None, 61, 61, 128)       0         \n",
            "                                                                 \n",
            " block3_conv1 (Conv2D)       (None, 61, 61, 256)       295168    \n",
            "                                                                 \n",
            " block3_conv2 (Conv2D)       (None, 61, 61, 256)       590080    \n",
            "                                                                 \n",
            " block3_conv3 (Conv2D)       (None, 61, 61, 256)       590080    \n",
            "                                                                 \n",
            " block3_pool (MaxPooling2D)  (None, 30, 30, 256)       0         \n",
            "                                                                 \n",
            " block4_conv1 (Conv2D)       (None, 30, 30, 512)       1180160   \n",
            "                                                                 \n",
            " block4_conv2 (Conv2D)       (None, 30, 30, 512)       2359808   \n",
            "                                                                 \n",
            " block4_conv3 (Conv2D)       (None, 30, 30, 512)       2359808   \n",
            "                                                                 \n",
            " block4_pool (MaxPooling2D)  (None, 15, 15, 512)       0         \n",
            "                                                                 \n",
            " block5_conv1 (Conv2D)       (None, 15, 15, 512)       2359808   \n",
            "                                                                 \n",
            " block5_conv2 (Conv2D)       (None, 15, 15, 512)       2359808   \n",
            "                                                                 \n",
            " block5_conv3 (Conv2D)       (None, 15, 15, 512)       2359808   \n",
            "                                                                 \n",
            " block5_pool (MaxPooling2D)  (None, 7, 7, 512)         0         \n",
            "                                                                 \n",
            "=================================================================\n",
            "Total params: 14,714,688\n",
            "Trainable params: 0\n",
            "Non-trainable params: 14,714,688\n",
            "_________________________________________________________________\n"
          ]
        }
      ],
      "source": [
        "model = set_nontrainable_layers(model)\n",
        "model.summary()"
      ]
    },
    {
      "attachments": {},
      "cell_type": "markdown",
      "metadata": {
        "id": "D4yedT2VF7TP"
      },
      "source": [
        "### Actually build the model\n",
        "\n",
        "Thx for all your patience"
      ]
    },
    {
      "cell_type": "code",
      "execution_count": 12,
      "metadata": {
        "id": "0pEHWdS3uABN"
      },
      "outputs": [],
      "source": [
        "def add_last_layers(model):\n",
        "    '''Take a pre-trained model, set its parameters as non-trainable, and add additional trainable layers on top'''\n",
        "    # $CHALLENGIFY_BEGIN\n",
        "    base_model = set_nontrainable_layers(model)\n",
        "    flatten_layer = layers.Flatten()\n",
        "    dense_layer = layers.Dense(500, activation='relu')\n",
        "    prediction_layer = layers.Dense(14, activation='softmax')\n",
        "\n",
        "\n",
        "    model = models.Sequential([\n",
        "        base_model,\n",
        "        flatten_layer,\n",
        "        dense_layer,\n",
        "        prediction_layer\n",
        "    ])\n",
        "    # $CHALLENGIFY_END\n",
        "    return model"
      ]
    },
    {
      "cell_type": "code",
      "execution_count": 13,
      "metadata": {
        "colab": {
          "base_uri": "https://localhost:8080/"
        },
        "id": "0uqGuxsJF7TR",
        "outputId": "fc7f3bbe-c6ba-4f20-c744-78272625430d",
        "tags": [
          "challengify"
        ]
      },
      "outputs": [
        {
          "name": "stdout",
          "output_type": "stream",
          "text": [
            "Model: \"sequential\"\n",
            "_________________________________________________________________\n",
            " Layer (type)                Output Shape              Param #   \n",
            "=================================================================\n",
            " vgg16 (Functional)          (None, 7, 7, 512)         14714688  \n",
            "                                                                 \n",
            " flatten (Flatten)           (None, 25088)             0         \n",
            "                                                                 \n",
            " dense (Dense)               (None, 500)               12544500  \n",
            "                                                                 \n",
            " dense_1 (Dense)             (None, 14)                7014      \n",
            "                                                                 \n",
            "=================================================================\n",
            "Total params: 27,266,202\n",
            "Trainable params: 12,551,514\n",
            "Non-trainable params: 14,714,688\n",
            "_________________________________________________________________\n"
          ]
        }
      ],
      "source": [
        "model = add_last_layers(model)\n",
        "model.summary()"
      ]
    },
    {
      "attachments": {},
      "cell_type": "markdown",
      "metadata": {
        "id": "yxXlnPp5F7TR"
      },
      "source": [
        "## Compile VGG16 + layers"
      ]
    },
    {
      "cell_type": "code",
      "execution_count": 14,
      "metadata": {
        "id": "TGZh5Ug3uABP"
      },
      "outputs": [],
      "source": [
        "def build_model():\n",
        "    # $CHALLENGIFY_BEGIN\n",
        "    model = load_model()\n",
        "    model = add_last_layers(model)\n",
        "\n",
        "    opt = optimizers.Adam(learning_rate=1e-4)\n",
        "    model.compile(loss='categorical_crossentropy',\n",
        "                  optimizer=opt,\n",
        "                  weighted_metrics=['f1_score', 'accuracy'])\n",
        "\n",
        "    return model\n",
        "    # $CHALLENGIFY_END"
      ]
    },
    {
      "cell_type": "code",
      "execution_count": 15,
      "metadata": {
        "colab": {
          "base_uri": "https://localhost:8080/"
        },
        "id": "O-XsFbyoZ2vU",
        "outputId": "5e6fbfcc-4414-4f03-b340-de1fca0625f3",
        "tags": [
          "delete"
        ]
      },
      "outputs": [
        {
          "name": "stdout",
          "output_type": "stream",
          "text": [
            "Model: \"sequential_1\"\n",
            "_________________________________________________________________\n",
            " Layer (type)                Output Shape              Param #   \n",
            "=================================================================\n",
            " vgg16 (Functional)          (None, 7, 7, 512)         14714688  \n",
            "                                                                 \n",
            " flatten_1 (Flatten)         (None, 25088)             0         \n",
            "                                                                 \n",
            " dense_2 (Dense)             (None, 500)               12544500  \n",
            "                                                                 \n",
            " dense_3 (Dense)             (None, 14)                7014      \n",
            "                                                                 \n",
            "=================================================================\n",
            "Total params: 27,266,202\n",
            "Trainable params: 12,551,514\n",
            "Non-trainable params: 14,714,688\n",
            "_________________________________________________________________\n"
          ]
        }
      ],
      "source": [
        "model = build_model()\n",
        "model.summary()"
      ]
    },
    {
      "attachments": {},
      "cell_type": "markdown",
      "metadata": {
        "id": "2T7HvbQfZ2vZ"
      },
      "source": [
        "## Fit the model"
      ]
    },
    {
      "attachments": {},
      "cell_type": "markdown",
      "metadata": {
        "id": "Wu2H0KZF-EoI"
      },
      "source": [
        "Do we like the earlystopping criteria"
      ]
    },
    {
      "cell_type": "code",
      "execution_count": null,
      "metadata": {
        "id": "grmnNmjeAXcQ",
        "tags": [
          "challengify"
        ]
      },
      "outputs": [],
      "source": [
        "model = build_model()\n",
        "\n",
        "es = EarlyStopping(monitor = 'val_accuracy',\n",
        "                   mode = 'max',\n",
        "                   patience = 5,\n",
        "                   verbose = 1,\n",
        "                   restore_best_weights = True)\n",
        "\n",
        "history = model.fit(X_train, y_train,\n",
        "                    validation_data=(X_val, y_val),\n",
        "                    epochs=50,\n",
        "                    batch_size=16,\n",
        "                    callbacks=[es])"
      ]
    },
    {
      "attachments": {},
      "cell_type": "markdown",
      "metadata": {
        "id": "ec_I9JpiAm-W"
      },
      "source": [
        "### Plot accuracy"
      ]
    },
    {
      "cell_type": "code",
      "execution_count": null,
      "metadata": {
        "id": "Pt8acm12uABX"
      },
      "outputs": [],
      "source": [
        "def plot_history(history, title='', axs=None, exp_name=\"\"):\n",
        "    if axs is not None:\n",
        "        ax1, ax2 = axs\n",
        "    else:\n",
        "        f, (ax1, ax2) = plt.subplots(1, 2, figsize=(12, 4))\n",
        "\n",
        "    if len(exp_name) > 0 and exp_name[0] != '_':\n",
        "        exp_name = '_' + exp_name\n",
        "    ax1.plot(history.history['loss'], label='train' + exp_name)\n",
        "    ax1.plot(history.history['val_loss'], label='val' + exp_name)\n",
        "    #ax1.set_ylim(0., 2.2)\n",
        "    ax1.set_title('loss')\n",
        "    ax1.legend()\n",
        "\n",
        "    ax2.plot(history.history['accuracy'], label='train accuracy'  + exp_name)\n",
        "    ax2.plot(history.history['val_accuracy'], label='val accuracy'  + exp_name)\n",
        "    #ax2.set_ylim(0.25, 1.)\n",
        "    ax2.set_title('Accuracy')\n",
        "    ax2.legend()\n",
        "    return (ax1, ax2)"
      ]
    },
    {
      "cell_type": "code",
      "execution_count": null,
      "metadata": {
        "id": "ESzinGOY6aBc",
        "tags": [
          "challengify"
        ]
      },
      "outputs": [],
      "source": [
        "plot_history(history)"
      ]
    },
    {
      "attachments": {},
      "cell_type": "markdown",
      "metadata": {
        "id": "y3plexlQAtcC"
      },
      "source": [
        "### Evaluate"
      ]
    },
    {
      "cell_type": "code",
      "execution_count": null,
      "metadata": {
        "id": "ps_9HwUyRVj9",
        "tags": [
          "challengify"
        ]
      },
      "outputs": [],
      "source": [
        "res_vgg = model.evaluate(X_test, y_test)\n",
        "\n",
        "test_accuracy_vgg = res_vgg[-1]\n",
        "\n",
        "\n",
        "print(f\"test_accuracy_vgg = {round(test_accuracy_vgg,2)*100} %\")\n",
        "\n",
        "print(f\"test_accuracy = {round(test_accuracy,2)*100} %\")\n",
        "\n",
        "print(f'Chance level: {1./num_classes*100:.1f}%')\n",
        "\n"
      ]
    }
  ],
  "metadata": {
    "colab": {
      "provenance": []
    },
    "kernelspec": {
      "display_name": "Python 3",
      "name": "python3"
    },
    "language_info": {
      "name": "python"
    }
  },
  "nbformat": 4,
  "nbformat_minor": 0
}
