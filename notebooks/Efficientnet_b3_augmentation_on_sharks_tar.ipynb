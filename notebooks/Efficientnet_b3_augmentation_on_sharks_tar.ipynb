{
  "nbformat": 4,
  "nbformat_minor": 0,
  "metadata": {
    "colab": {
      "provenance": [],
      "gpuType": "T4"
    },
    "kernelspec": {
      "name": "python3",
      "display_name": "Python 3"
    },
    "language_info": {
      "name": "python"
    },
    "accelerator": "GPU"
  },
  "cells": [
    {
      "cell_type": "markdown",
      "metadata": {
        "id": "view-in-github"
      },
      "source": [
        "<a href=\"https://colab.research.google.com/github/nikkernoodle/shark-id/blob/models/Efficientnet_enhanced_model_v3_augmentation%2C%20on%20sharks_tar.ipynb\" target=\"_parent\"><img src=\"https://colab.research.google.com/assets/colab-badge.svg\" alt=\"Open In Colab\"/></a>"
      ]
    },
    {
      "cell_type": "markdown",
      "source": [
        "# IMPORTS"
      ],
      "metadata": {
        "id": "0I9VGNFmYe8p"
      }
    },
    {
      "cell_type": "markdown",
      "source": [],
      "metadata": {
        "id": "ANUJ4oOD85GQ"
      }
    },
    {
      "cell_type": "code",
      "source": [
        "from google.colab import drive\n",
        "drive.mount('/content/drive', force_remount = True)"
      ],
      "metadata": {
        "colab": {
          "base_uri": "https://localhost:8080/"
        },
        "id": "wJFxFhQg94U9",
        "outputId": "2c3c1e1b-6f19-4151-8da3-62bff0817518"
      },
      "execution_count": null,
      "outputs": [
        {
          "output_type": "stream",
          "name": "stdout",
          "text": [
            "Mounted at /content/drive\n"
          ]
        }
      ]
    },
    {
      "cell_type": "code",
      "source": [
        "!pip install tensorflow==2.9.1"
      ],
      "metadata": {
        "colab": {
          "base_uri": "https://localhost:8080/"
        },
        "id": "72isSwkuPJcW",
        "outputId": "2fcfc717-42af-444a-c0fb-149001e25600"
      },
      "execution_count": null,
      "outputs": [
        {
          "output_type": "stream",
          "name": "stdout",
          "text": [
            "Looking in indexes: https://pypi.org/simple, https://us-python.pkg.dev/colab-wheels/public/simple/\n",
            "Requirement already satisfied: tensorflow==2.9.1 in /usr/local/lib/python3.10/dist-packages (2.9.1)\n",
            "Requirement already satisfied: absl-py>=1.0.0 in /usr/local/lib/python3.10/dist-packages (from tensorflow==2.9.1) (1.4.0)\n",
            "Requirement already satisfied: astunparse>=1.6.0 in /usr/local/lib/python3.10/dist-packages (from tensorflow==2.9.1) (1.6.3)\n",
            "Requirement already satisfied: flatbuffers<2,>=1.12 in /usr/local/lib/python3.10/dist-packages (from tensorflow==2.9.1) (1.12)\n",
            "Requirement already satisfied: gast<=0.4.0,>=0.2.1 in /usr/local/lib/python3.10/dist-packages (from tensorflow==2.9.1) (0.4.0)\n",
            "Requirement already satisfied: google-pasta>=0.1.1 in /usr/local/lib/python3.10/dist-packages (from tensorflow==2.9.1) (0.2.0)\n",
            "Requirement already satisfied: grpcio<2.0,>=1.24.3 in /usr/local/lib/python3.10/dist-packages (from tensorflow==2.9.1) (1.54.0)\n",
            "Requirement already satisfied: h5py>=2.9.0 in /usr/local/lib/python3.10/dist-packages (from tensorflow==2.9.1) (3.8.0)\n",
            "Requirement already satisfied: keras<2.10.0,>=2.9.0rc0 in /usr/local/lib/python3.10/dist-packages (from tensorflow==2.9.1) (2.9.0)\n",
            "Requirement already satisfied: keras-preprocessing>=1.1.1 in /usr/local/lib/python3.10/dist-packages (from tensorflow==2.9.1) (1.1.2)\n",
            "Requirement already satisfied: libclang>=13.0.0 in /usr/local/lib/python3.10/dist-packages (from tensorflow==2.9.1) (16.0.0)\n",
            "Requirement already satisfied: numpy>=1.20 in /usr/local/lib/python3.10/dist-packages (from tensorflow==2.9.1) (1.22.4)\n",
            "Requirement already satisfied: opt-einsum>=2.3.2 in /usr/local/lib/python3.10/dist-packages (from tensorflow==2.9.1) (3.3.0)\n",
            "Requirement already satisfied: packaging in /usr/local/lib/python3.10/dist-packages (from tensorflow==2.9.1) (23.1)\n",
            "Requirement already satisfied: protobuf<3.20,>=3.9.2 in /usr/local/lib/python3.10/dist-packages (from tensorflow==2.9.1) (3.19.6)\n",
            "Requirement already satisfied: setuptools in /usr/local/lib/python3.10/dist-packages (from tensorflow==2.9.1) (67.7.2)\n",
            "Requirement already satisfied: six>=1.12.0 in /usr/local/lib/python3.10/dist-packages (from tensorflow==2.9.1) (1.16.0)\n",
            "Requirement already satisfied: tensorboard<2.10,>=2.9 in /usr/local/lib/python3.10/dist-packages (from tensorflow==2.9.1) (2.9.1)\n",
            "Requirement already satisfied: tensorflow-io-gcs-filesystem>=0.23.1 in /usr/local/lib/python3.10/dist-packages (from tensorflow==2.9.1) (0.32.0)\n",
            "Requirement already satisfied: tensorflow-estimator<2.10.0,>=2.9.0rc0 in /usr/local/lib/python3.10/dist-packages (from tensorflow==2.9.1) (2.9.0)\n",
            "Requirement already satisfied: termcolor>=1.1.0 in /usr/local/lib/python3.10/dist-packages (from tensorflow==2.9.1) (2.3.0)\n",
            "Requirement already satisfied: typing-extensions>=3.6.6 in /usr/local/lib/python3.10/dist-packages (from tensorflow==2.9.1) (4.5.0)\n",
            "Requirement already satisfied: wrapt>=1.11.0 in /usr/local/lib/python3.10/dist-packages (from tensorflow==2.9.1) (1.14.1)\n",
            "Requirement already satisfied: wheel<1.0,>=0.23.0 in /usr/local/lib/python3.10/dist-packages (from astunparse>=1.6.0->tensorflow==2.9.1) (0.40.0)\n",
            "Requirement already satisfied: google-auth<3,>=1.6.3 in /usr/local/lib/python3.10/dist-packages (from tensorboard<2.10,>=2.9->tensorflow==2.9.1) (2.17.3)\n",
            "Requirement already satisfied: google-auth-oauthlib<0.5,>=0.4.1 in /usr/local/lib/python3.10/dist-packages (from tensorboard<2.10,>=2.9->tensorflow==2.9.1) (0.4.6)\n",
            "Requirement already satisfied: markdown>=2.6.8 in /usr/local/lib/python3.10/dist-packages (from tensorboard<2.10,>=2.9->tensorflow==2.9.1) (3.4.3)\n",
            "Requirement already satisfied: requests<3,>=2.21.0 in /usr/local/lib/python3.10/dist-packages (from tensorboard<2.10,>=2.9->tensorflow==2.9.1) (2.27.1)\n",
            "Requirement already satisfied: tensorboard-data-server<0.7.0,>=0.6.0 in /usr/local/lib/python3.10/dist-packages (from tensorboard<2.10,>=2.9->tensorflow==2.9.1) (0.6.1)\n",
            "Requirement already satisfied: tensorboard-plugin-wit>=1.6.0 in /usr/local/lib/python3.10/dist-packages (from tensorboard<2.10,>=2.9->tensorflow==2.9.1) (1.8.1)\n",
            "Requirement already satisfied: werkzeug>=1.0.1 in /usr/local/lib/python3.10/dist-packages (from tensorboard<2.10,>=2.9->tensorflow==2.9.1) (2.3.0)\n",
            "Requirement already satisfied: cachetools<6.0,>=2.0.0 in /usr/local/lib/python3.10/dist-packages (from google-auth<3,>=1.6.3->tensorboard<2.10,>=2.9->tensorflow==2.9.1) (5.3.0)\n",
            "Requirement already satisfied: pyasn1-modules>=0.2.1 in /usr/local/lib/python3.10/dist-packages (from google-auth<3,>=1.6.3->tensorboard<2.10,>=2.9->tensorflow==2.9.1) (0.3.0)\n",
            "Requirement already satisfied: rsa<5,>=3.1.4 in /usr/local/lib/python3.10/dist-packages (from google-auth<3,>=1.6.3->tensorboard<2.10,>=2.9->tensorflow==2.9.1) (4.9)\n",
            "Requirement already satisfied: requests-oauthlib>=0.7.0 in /usr/local/lib/python3.10/dist-packages (from google-auth-oauthlib<0.5,>=0.4.1->tensorboard<2.10,>=2.9->tensorflow==2.9.1) (1.3.1)\n",
            "Requirement already satisfied: urllib3<1.27,>=1.21.1 in /usr/local/lib/python3.10/dist-packages (from requests<3,>=2.21.0->tensorboard<2.10,>=2.9->tensorflow==2.9.1) (1.26.15)\n",
            "Requirement already satisfied: certifi>=2017.4.17 in /usr/local/lib/python3.10/dist-packages (from requests<3,>=2.21.0->tensorboard<2.10,>=2.9->tensorflow==2.9.1) (2022.12.7)\n",
            "Requirement already satisfied: charset-normalizer~=2.0.0 in /usr/local/lib/python3.10/dist-packages (from requests<3,>=2.21.0->tensorboard<2.10,>=2.9->tensorflow==2.9.1) (2.0.12)\n",
            "Requirement already satisfied: idna<4,>=2.5 in /usr/local/lib/python3.10/dist-packages (from requests<3,>=2.21.0->tensorboard<2.10,>=2.9->tensorflow==2.9.1) (3.4)\n",
            "Requirement already satisfied: MarkupSafe>=2.1.1 in /usr/local/lib/python3.10/dist-packages (from werkzeug>=1.0.1->tensorboard<2.10,>=2.9->tensorflow==2.9.1) (2.1.2)\n",
            "Requirement already satisfied: pyasn1<0.6.0,>=0.4.6 in /usr/local/lib/python3.10/dist-packages (from pyasn1-modules>=0.2.1->google-auth<3,>=1.6.3->tensorboard<2.10,>=2.9->tensorflow==2.9.1) (0.5.0)\n",
            "Requirement already satisfied: oauthlib>=3.0.0 in /usr/local/lib/python3.10/dist-packages (from requests-oauthlib>=0.7.0->google-auth-oauthlib<0.5,>=0.4.1->tensorboard<2.10,>=2.9->tensorflow==2.9.1) (3.2.2)\n"
          ]
        }
      ]
    },
    {
      "cell_type": "code",
      "source": [
        "from tensorflow.keras import layers, models, metrics, optimizers\n",
        "from tensorflow.keras.callbacks import EarlyStopping\n",
        "from tensorflow.keras.utils import to_categorical\n",
        "from tensorflow.keras.preprocessing.image import ImageDataGenerator\n",
        "from tensorflow.keras import regularizers\n",
        "from tensorflow.random import set_seed\n",
        "from tensorflow.keras.applications import EfficientNetB2, EfficientNetB3\n",
        "from tensorflow.keras.preprocessing import image\n",
        "from tensorflow.keras.applications.efficientnet import preprocess_input, decode_predictions\n",
        "\n",
        "from sklearn.metrics import confusion_matrix, ConfusionMatrixDisplay\n",
        "from sklearn.metrics import accuracy_score, balanced_accuracy_score\n",
        "\n",
        "import numpy as np # linear algebra\n",
        "import pandas as pd # data processing, CSV file I/O (e.g. pd.read_csv)\n",
        "import seaborn as sns\n",
        "import matplotlib.pyplot as plt\n",
        "import os, sys\n",
        "import cv2\n",
        "from tqdm import tqdm\n",
        "from PIL import Image"
      ],
      "metadata": {
        "id": "Szbu6ckA96DK"
      },
      "execution_count": null,
      "outputs": []
    },
    {
      "cell_type": "markdown",
      "source": [
        "# PREPROCESSING"
      ],
      "metadata": {
        "id": "-i1jf484YvgI"
      }
    },
    {
      "cell_type": "code",
      "source": [
        "def load_sharks_data(loading_method):\n",
        "    if loading_method == 'colab':\n",
        "        data_path = '/content/drive/My Drive/shark-datasets/sharks_tar'\n",
        "    elif loading_method == 'direct':\n",
        "        data_path = '../raw_data/sharks/'\n",
        "    classes = {'basking': 0, 'blue': 1, 'hammerhead': 2, 'mako': 3, 'sand tiger': 4, 'tiger': 5, 'white' : 6,\n",
        "               'blacktip': 7 , 'bull': 8, 'lemon':9 , 'nurse': 10, 'thresher': 11, 'whale': 12, 'whitetip': 13}\n",
        "    imgs = []\n",
        "    labels = []\n",
        "    for (cl, i) in classes.items():\n",
        "        images_path = [elt for elt in os.listdir(os.path.join(data_path, cl))]\n",
        "        for img in tqdm(images_path[:300]):\n",
        "            path = os.path.join(data_path, cl, img)\n",
        "            if os.path.exists(path):\n",
        "                image = Image.open(path)\n",
        "                image = image.resize((224, 224))\n",
        "                image = cv2.cvtColor(np.float32(image), cv2.COLOR_BGR2RGB)\n",
        "                imgs.append(np.array(image))\n",
        "                labels.append(i)\n",
        "\n",
        "    X = np.array(imgs)\n",
        "    num_classes = len(set(labels))\n",
        "    y = to_categorical(labels, num_classes)\n",
        "\n",
        "    # Finally we shuffle:\n",
        "    p = np.random.RandomState(seed=42).permutation(len(X))\n",
        "    X, y = X[p], y[p]\n",
        "\n",
        "    first_split = int(len(imgs) /6.)\n",
        "    second_split = first_split + int(len(imgs) * 0.2)\n",
        "    X_test, X_val, X_train = X[:first_split], X[first_split:second_split], X[second_split:]\n",
        "    y_test, y_val, y_train = y[:first_split], y[first_split:second_split], y[second_split:]\n",
        "\n",
        "    return X_train, y_train, X_val, y_val, X_test, y_test, num_classes"
      ],
      "metadata": {
        "id": "xS4kPA-097uD"
      },
      "execution_count": null,
      "outputs": []
    },
    {
      "cell_type": "code",
      "source": [
        "X_train, y_train, X_val, y_val, X_test, y_test, num_classes = load_sharks_data(\"colab\")"
      ],
      "metadata": {
        "colab": {
          "base_uri": "https://localhost:8080/"
        },
        "id": "VKjdHkHB-roE",
        "outputId": "23366e88-99f0-45cd-aba4-1c374d0b981f"
      },
      "execution_count": null,
      "outputs": [
        {
          "output_type": "stream",
          "name": "stderr",
          "text": [
            "100%|██████████| 93/93 [01:02<00:00,  1.48it/s]\n",
            "100%|██████████| 107/107 [00:14<00:00,  7.33it/s]\n",
            "100%|██████████| 127/127 [00:12<00:00,  9.97it/s]\n",
            "100%|██████████| 100/100 [00:12<00:00,  8.24it/s]\n",
            "100%|██████████| 94/94 [01:13<00:00,  1.28it/s]\n",
            "100%|██████████| 97/97 [01:14<00:00,  1.30it/s]\n",
            "100%|██████████| 134/134 [00:13<00:00,  9.65it/s]\n",
            "100%|██████████| 113/113 [00:10<00:00, 10.60it/s]\n",
            "100%|██████████| 107/107 [00:12<00:00,  8.43it/s]\n",
            "100%|██████████| 119/119 [00:10<00:00, 11.72it/s]\n",
            "100%|██████████| 71/71 [00:56<00:00,  1.25it/s]\n",
            "100%|██████████| 116/116 [00:09<00:00, 12.76it/s]\n",
            "100%|██████████| 132/132 [00:14<00:00,  8.83it/s]\n",
            "100%|██████████| 124/124 [00:12<00:00, 10.01it/s]\n"
          ]
        }
      ]
    },
    {
      "cell_type": "code",
      "source": [
        "X_train.shape, y_train.shape, X_val.shape, y_val.shape, X_test.shape, y_test.shape"
      ],
      "metadata": {
        "id": "7HVR93jWXSbn",
        "colab": {
          "base_uri": "https://localhost:8080/"
        },
        "outputId": "e7463d31-2dbf-4563-d85c-25fed6dfce4f"
      },
      "execution_count": null,
      "outputs": [
        {
          "output_type": "execute_result",
          "data": {
            "text/plain": [
              "((973, 224, 224, 3),\n",
              " (973, 14),\n",
              " (306, 224, 224, 3),\n",
              " (306, 14),\n",
              " (255, 224, 224, 3),\n",
              " (255, 14))"
            ]
          },
          "metadata": {},
          "execution_count": 8
        }
      ]
    },
    {
      "cell_type": "markdown",
      "source": [
        "# Augmentation"
      ],
      "metadata": {
        "id": "lvpuQum3O_Yx"
      }
    },
    {
      "cell_type": "code",
      "source": [
        "datagen = ImageDataGenerator(\n",
        "    featurewise_center = False,\n",
        "    featurewise_std_normalization = False,\n",
        "    rotation_range = 10,\n",
        "    width_shift_range = 0.1,\n",
        "    height_shift_range = 0.1,\n",
        "    horizontal_flip = True,\n",
        "    zoom_range = (0.8, 1.2),\n",
        "    preprocessing_function=preprocess_input\n",
        "    )\n",
        "\n",
        "datagen.fit(X_train)\n",
        "datagen"
      ],
      "metadata": {
        "colab": {
          "base_uri": "https://localhost:8080/"
        },
        "id": "4y0F8IUwPDGd",
        "outputId": "bfc9258d-c968-44a4-c546-a37141561938"
      },
      "execution_count": null,
      "outputs": [
        {
          "output_type": "execute_result",
          "data": {
            "text/plain": [
              "<keras.preprocessing.image.ImageDataGenerator at 0x7f9d49716b90>"
            ]
          },
          "metadata": {},
          "execution_count": 9
        }
      ]
    },
    {
      "cell_type": "markdown",
      "source": [
        "## Apply to dataset"
      ],
      "metadata": {
        "id": "J63mfSBkPqJe"
      }
    },
    {
      "cell_type": "code",
      "source": [
        "train_flow = datagen.flow(X_train, y_train, batch_size=16)"
      ],
      "metadata": {
        "id": "LPJvBK9EPnz4"
      },
      "execution_count": null,
      "outputs": []
    },
    {
      "cell_type": "markdown",
      "source": [
        "# MODEL"
      ],
      "metadata": {
        "id": "VmUpDuKEY2BW"
      }
    },
    {
      "cell_type": "markdown",
      "source": [
        "## Define model"
      ],
      "metadata": {
        "id": "ZbBrJAoiZAXb"
      }
    },
    {
      "cell_type": "code",
      "source": [
        "def load_model():\n",
        "\n",
        "    model = EfficientNetB3(weights=\"imagenet\", include_top=False, input_shape=X_train[0].shape)\n",
        "\n",
        "    return model\n"
      ],
      "metadata": {
        "id": "Z9iUinZa_jtV"
      },
      "execution_count": null,
      "outputs": []
    },
    {
      "cell_type": "code",
      "source": [
        "model = load_model()\n",
        "# model.summary()"
      ],
      "metadata": {
        "id": "u5KEujGb-uk8",
        "colab": {
          "base_uri": "https://localhost:8080/"
        },
        "outputId": "b70dcf8b-8eae-4a0a-d174-6f855fc240c7"
      },
      "execution_count": null,
      "outputs": [
        {
          "output_type": "stream",
          "name": "stdout",
          "text": [
            "Downloading data from https://storage.googleapis.com/keras-applications/efficientnetb3_notop.h5\n",
            "43941136/43941136 [==============================] - 3s 0us/step\n"
          ]
        }
      ]
    },
    {
      "cell_type": "code",
      "source": [
        "def set_nontrainable_layers(model):\n",
        "    # Set the first layers to be untrainable\n",
        "    model.trainable = False\n",
        "\n",
        "    return model"
      ],
      "metadata": {
        "id": "NQdRGDMCAEiX"
      },
      "execution_count": null,
      "outputs": []
    },
    {
      "cell_type": "code",
      "source": [
        "model = set_nontrainable_layers(model)\n",
        "# model.summary()"
      ],
      "metadata": {
        "id": "sh8-sHZgAMqf"
      },
      "execution_count": null,
      "outputs": []
    },
    {
      "cell_type": "markdown",
      "source": [
        "### Actually build the model"
      ],
      "metadata": {
        "id": "gtik_Tw9ZJG1"
      }
    },
    {
      "cell_type": "code",
      "source": [
        "def add_last_layers(model):\n",
        "    '''Take a pre-trained model, set its parameters as non-trainable, and add additional trainable layers on top'''\n",
        "    # $CHALLENGIFY_BEGIN\n",
        "    base_model = set_nontrainable_layers(model)\n",
        "    flatten_layer = layers.Flatten()\n",
        "    dense_layer1 = layers.Dense(500, activation='relu', kernel_regularizer=regularizers.L1(0.0001))\n",
        "    dropout_layer1 = layers.Dropout(0.3)\n",
        "    dense_layer2 = layers.Dense(400, activation='relu', kernel_regularizer=regularizers.L1(0.0001))\n",
        "    dropout_layer2 = layers.Dropout(0.3)\n",
        "    dense_layer3 = layers.Dense(300, activation='relu', kernel_regularizer=regularizers.L1(0.0001))\n",
        "    dropout_layer3 = layers.Dropout(0.3)\n",
        "    prediction_layer = layers.Dense(14, activation='softmax')\n",
        "#creating dense layer 1 (changed from 50 to 500), dense layer 2 (400) and dense layer 3 (300) and dropout layers\n",
        "\n",
        "    model = models.Sequential([\n",
        "        base_model,\n",
        "        flatten_layer,\n",
        "        dense_layer1,\n",
        "        dropout_layer1,\n",
        "        dense_layer2,\n",
        "        dropout_layer2,\n",
        "        dense_layer3,\n",
        "        dropout_layer3,\n",
        "        prediction_layer\n",
        "    ])\n",
        "    # $CHALLENGIFY_END\n",
        "    return model"
      ],
      "metadata": {
        "id": "RQ6qF663AQtc"
      },
      "execution_count": null,
      "outputs": []
    },
    {
      "cell_type": "code",
      "source": [
        "model = add_last_layers(model)\n",
        "model.summary()"
      ],
      "metadata": {
        "colab": {
          "base_uri": "https://localhost:8080/"
        },
        "id": "A559KrQMAhFw",
        "outputId": "f4ebdfa4-f544-42f8-f092-15d53816606e"
      },
      "execution_count": null,
      "outputs": [
        {
          "output_type": "stream",
          "name": "stdout",
          "text": [
            "Model: \"sequential\"\n",
            "_________________________________________________________________\n",
            " Layer (type)                Output Shape              Param #   \n",
            "=================================================================\n",
            " efficientnetb3 (Functional)  (None, 7, 7, 1536)       10783535  \n",
            "                                                                 \n",
            " flatten (Flatten)           (None, 75264)             0         \n",
            "                                                                 \n",
            " dense (Dense)               (None, 500)               37632500  \n",
            "                                                                 \n",
            " dropout (Dropout)           (None, 500)               0         \n",
            "                                                                 \n",
            " dense_1 (Dense)             (None, 400)               200400    \n",
            "                                                                 \n",
            " dropout_1 (Dropout)         (None, 400)               0         \n",
            "                                                                 \n",
            " dense_2 (Dense)             (None, 300)               120300    \n",
            "                                                                 \n",
            " dropout_2 (Dropout)         (None, 300)               0         \n",
            "                                                                 \n",
            " dense_3 (Dense)             (None, 14)                4214      \n",
            "                                                                 \n",
            "=================================================================\n",
            "Total params: 48,740,949\n",
            "Trainable params: 37,957,414\n",
            "Non-trainable params: 10,783,535\n",
            "_________________________________________________________________\n"
          ]
        }
      ]
    },
    {
      "cell_type": "markdown",
      "source": [
        "## Compile EfficientnetB3 + layers"
      ],
      "metadata": {
        "id": "FKwW45-2ZLkf"
      }
    },
    {
      "cell_type": "code",
      "source": [
        "def build_model():\n",
        "\n",
        "    model = load_model()\n",
        "    model = add_last_layers(model)\n",
        "\n",
        "    opt = optimizers.Adam(learning_rate=1e-4)\n",
        "    model.compile(loss='categorical_crossentropy',\n",
        "                  optimizer=opt,\n",
        "                  weighted_metrics=['accuracy'])\n",
        "\n",
        "    return model\n"
      ],
      "metadata": {
        "id": "RMJeFOsFAi2E"
      },
      "execution_count": null,
      "outputs": []
    },
    {
      "cell_type": "markdown",
      "source": [
        "## Fit the model"
      ],
      "metadata": {
        "id": "4nDGcr9TZWmu"
      }
    },
    {
      "cell_type": "code",
      "source": [
        "model = build_model()\n",
        "model.summary()"
      ],
      "metadata": {
        "colab": {
          "base_uri": "https://localhost:8080/"
        },
        "id": "ahLaOP9kAmyC",
        "outputId": "c3e724fb-e3a8-4f9d-deac-750e097880c2"
      },
      "execution_count": null,
      "outputs": [
        {
          "output_type": "stream",
          "name": "stdout",
          "text": [
            "Model: \"sequential_1\"\n",
            "_________________________________________________________________\n",
            " Layer (type)                Output Shape              Param #   \n",
            "=================================================================\n",
            " efficientnetb3 (Functional)  (None, 7, 7, 1536)       10783535  \n",
            "                                                                 \n",
            " flatten_1 (Flatten)         (None, 75264)             0         \n",
            "                                                                 \n",
            " dense_4 (Dense)             (None, 500)               37632500  \n",
            "                                                                 \n",
            " dropout_3 (Dropout)         (None, 500)               0         \n",
            "                                                                 \n",
            " dense_5 (Dense)             (None, 400)               200400    \n",
            "                                                                 \n",
            " dropout_4 (Dropout)         (None, 400)               0         \n",
            "                                                                 \n",
            " dense_6 (Dense)             (None, 300)               120300    \n",
            "                                                                 \n",
            " dropout_5 (Dropout)         (None, 300)               0         \n",
            "                                                                 \n",
            " dense_7 (Dense)             (None, 14)                4214      \n",
            "                                                                 \n",
            "=================================================================\n",
            "Total params: 48,740,949\n",
            "Trainable params: 37,957,414\n",
            "Non-trainable params: 10,783,535\n",
            "_________________________________________________________________\n"
          ]
        }
      ]
    },
    {
      "cell_type": "code",
      "source": [
        "set_seed(42)\n",
        "model = build_model()\n",
        "\n",
        "es = EarlyStopping(monitor = 'val_accuracy',\n",
        "                   mode = 'max',\n",
        "                   patience = 20,\n",
        "                   verbose = 1,\n",
        "                   restore_best_weights = True)\n",
        "#patience changes from 5 to 20\n",
        "history = model.fit(train_flow,\n",
        "                    validation_data=(X_val, y_val),\n",
        "                    epochs=100,\n",
        "                    batch_size=16,\n",
        "                    callbacks=[es])\n",
        "#patience changes from 50 to 100\n",
        "#batch_size changed from 16 to 32"
      ],
      "metadata": {
        "colab": {
          "base_uri": "https://localhost:8080/"
        },
        "id": "T_F6HQbCAt32",
        "outputId": "f2a42ddf-d771-45ab-f903-e63612cedd00"
      },
      "execution_count": null,
      "outputs": [
        {
          "output_type": "stream",
          "name": "stdout",
          "text": [
            "Epoch 1/100\n",
            "61/61 [==============================] - 40s 338ms/step - loss: 20.4312 - accuracy: 0.1644 - val_loss: 19.0322 - val_accuracy: 0.3627\n",
            "Epoch 2/100\n",
            "61/61 [==============================] - 16s 269ms/step - loss: 18.4903 - accuracy: 0.3073 - val_loss: 17.3014 - val_accuracy: 0.5359\n",
            "Epoch 3/100\n",
            "61/61 [==============================] - 16s 267ms/step - loss: 16.9057 - accuracy: 0.3782 - val_loss: 15.6574 - val_accuracy: 0.5817\n",
            "Epoch 4/100\n",
            "61/61 [==============================] - 16s 258ms/step - loss: 15.4211 - accuracy: 0.4214 - val_loss: 14.3433 - val_accuracy: 0.6078\n",
            "Epoch 5/100\n",
            "61/61 [==============================] - 15s 240ms/step - loss: 14.1735 - accuracy: 0.4717 - val_loss: 13.1533 - val_accuracy: 0.6471\n",
            "Epoch 6/100\n",
            "61/61 [==============================] - 15s 236ms/step - loss: 12.9896 - accuracy: 0.5355 - val_loss: 12.1437 - val_accuracy: 0.6503\n",
            "Epoch 7/100\n",
            "61/61 [==============================] - 15s 244ms/step - loss: 12.0049 - accuracy: 0.5457 - val_loss: 11.2494 - val_accuracy: 0.6536\n",
            "Epoch 8/100\n",
            "61/61 [==============================] - 16s 265ms/step - loss: 11.1448 - accuracy: 0.5817 - val_loss: 10.4247 - val_accuracy: 0.7222\n",
            "Epoch 9/100\n",
            "61/61 [==============================] - 16s 263ms/step - loss: 10.3070 - accuracy: 0.6156 - val_loss: 9.6934 - val_accuracy: 0.7124\n",
            "Epoch 10/100\n",
            "61/61 [==============================] - 16s 270ms/step - loss: 9.6664 - accuracy: 0.6485 - val_loss: 9.1571 - val_accuracy: 0.7582\n",
            "Epoch 11/100\n",
            "61/61 [==============================] - 16s 264ms/step - loss: 9.1022 - accuracy: 0.6321 - val_loss: 8.6522 - val_accuracy: 0.7288\n",
            "Epoch 12/100\n",
            "61/61 [==============================] - 16s 263ms/step - loss: 8.5695 - accuracy: 0.6886 - val_loss: 8.1689 - val_accuracy: 0.7582\n",
            "Epoch 13/100\n",
            "61/61 [==============================] - 17s 275ms/step - loss: 7.9586 - accuracy: 0.7112 - val_loss: 7.7189 - val_accuracy: 0.7092\n",
            "Epoch 14/100\n",
            "61/61 [==============================] - 15s 246ms/step - loss: 7.5629 - accuracy: 0.6989 - val_loss: 7.3479 - val_accuracy: 0.7353\n",
            "Epoch 15/100\n",
            "61/61 [==============================] - 16s 270ms/step - loss: 7.2188 - accuracy: 0.7215 - val_loss: 7.0306 - val_accuracy: 0.7647\n",
            "Epoch 16/100\n",
            "61/61 [==============================] - 15s 254ms/step - loss: 6.7620 - accuracy: 0.7554 - val_loss: 6.6595 - val_accuracy: 0.7745\n",
            "Epoch 17/100\n",
            "61/61 [==============================] - 16s 262ms/step - loss: 6.4584 - accuracy: 0.7677 - val_loss: 6.4074 - val_accuracy: 0.7484\n",
            "Epoch 18/100\n",
            "61/61 [==============================] - 16s 260ms/step - loss: 6.1421 - accuracy: 0.7821 - val_loss: 6.1542 - val_accuracy: 0.7680\n",
            "Epoch 19/100\n",
            "61/61 [==============================] - 15s 253ms/step - loss: 5.9581 - accuracy: 0.7698 - val_loss: 5.9326 - val_accuracy: 0.7810\n",
            "Epoch 20/100\n",
            "61/61 [==============================] - 14s 221ms/step - loss: 5.7524 - accuracy: 0.7811 - val_loss: 5.7897 - val_accuracy: 0.7451\n",
            "Epoch 21/100\n",
            "61/61 [==============================] - 16s 259ms/step - loss: 5.4996 - accuracy: 0.7975 - val_loss: 5.5390 - val_accuracy: 0.7712\n",
            "Epoch 22/100\n",
            "61/61 [==============================] - 16s 259ms/step - loss: 5.2824 - accuracy: 0.8129 - val_loss: 5.3548 - val_accuracy: 0.7843\n",
            "Epoch 23/100\n",
            "61/61 [==============================] - 14s 236ms/step - loss: 5.1063 - accuracy: 0.8088 - val_loss: 5.1580 - val_accuracy: 0.7647\n",
            "Epoch 24/100\n",
            "61/61 [==============================] - 16s 264ms/step - loss: 4.9309 - accuracy: 0.8356 - val_loss: 4.9795 - val_accuracy: 0.7908\n",
            "Epoch 25/100\n",
            "61/61 [==============================] - 16s 267ms/step - loss: 4.8164 - accuracy: 0.8160 - val_loss: 4.9148 - val_accuracy: 0.7974\n",
            "Epoch 26/100\n",
            "61/61 [==============================] - 16s 256ms/step - loss: 4.7955 - accuracy: 0.8212 - val_loss: 5.0209 - val_accuracy: 0.7647\n",
            "Epoch 27/100\n",
            "61/61 [==============================] - 14s 229ms/step - loss: 4.8503 - accuracy: 0.8294 - val_loss: 5.0408 - val_accuracy: 0.7745\n",
            "Epoch 28/100\n",
            "61/61 [==============================] - 18s 296ms/step - loss: 4.7811 - accuracy: 0.8366 - val_loss: 4.8524 - val_accuracy: 0.7974\n",
            "Epoch 29/100\n",
            "61/61 [==============================] - 16s 261ms/step - loss: 4.6646 - accuracy: 0.8448 - val_loss: 4.8828 - val_accuracy: 0.7778\n",
            "Epoch 30/100\n",
            "61/61 [==============================] - 14s 235ms/step - loss: 4.5343 - accuracy: 0.8613 - val_loss: 4.7393 - val_accuracy: 0.7745\n",
            "Epoch 31/100\n",
            "61/61 [==============================] - 22s 359ms/step - loss: 4.4923 - accuracy: 0.8428 - val_loss: 4.7810 - val_accuracy: 0.8039\n",
            "Epoch 32/100\n",
            "61/61 [==============================] - 17s 282ms/step - loss: 4.4662 - accuracy: 0.8602 - val_loss: 4.7298 - val_accuracy: 0.7941\n",
            "Epoch 33/100\n",
            "61/61 [==============================] - 14s 222ms/step - loss: 4.3604 - accuracy: 0.8541 - val_loss: 4.6106 - val_accuracy: 0.7614\n",
            "Epoch 34/100\n",
            "61/61 [==============================] - 15s 248ms/step - loss: 4.2330 - accuracy: 0.8736 - val_loss: 4.5286 - val_accuracy: 0.7908\n",
            "Epoch 35/100\n",
            "61/61 [==============================] - 16s 261ms/step - loss: 4.2114 - accuracy: 0.8592 - val_loss: 4.4167 - val_accuracy: 0.7810\n",
            "Epoch 36/100\n",
            "61/61 [==============================] - 16s 259ms/step - loss: 4.0884 - accuracy: 0.8582 - val_loss: 4.3814 - val_accuracy: 0.7974\n",
            "Epoch 37/100\n",
            "61/61 [==============================] - 16s 263ms/step - loss: 4.0871 - accuracy: 0.8674 - val_loss: 4.3542 - val_accuracy: 0.8007\n",
            "Epoch 38/100\n",
            "61/61 [==============================] - 16s 265ms/step - loss: 4.0511 - accuracy: 0.8695 - val_loss: 4.3044 - val_accuracy: 0.8203\n",
            "Epoch 39/100\n",
            "61/61 [==============================] - 16s 259ms/step - loss: 4.0062 - accuracy: 0.8736 - val_loss: 4.3073 - val_accuracy: 0.8007\n",
            "Epoch 40/100\n",
            "61/61 [==============================] - 15s 252ms/step - loss: 3.8891 - accuracy: 0.8808 - val_loss: 4.2715 - val_accuracy: 0.7582\n",
            "Epoch 41/100\n",
            "61/61 [==============================] - 13s 220ms/step - loss: 3.7806 - accuracy: 0.8993 - val_loss: 4.0863 - val_accuracy: 0.8137\n",
            "Epoch 42/100\n",
            "61/61 [==============================] - 14s 233ms/step - loss: 3.7170 - accuracy: 0.8921 - val_loss: 4.0957 - val_accuracy: 0.7876\n",
            "Epoch 43/100\n",
            "61/61 [==============================] - 16s 248ms/step - loss: 3.6600 - accuracy: 0.8972 - val_loss: 4.0092 - val_accuracy: 0.7908\n",
            "Epoch 44/100\n",
            "61/61 [==============================] - 16s 259ms/step - loss: 3.6107 - accuracy: 0.8839 - val_loss: 4.0395 - val_accuracy: 0.8105\n",
            "Epoch 45/100\n",
            "61/61 [==============================] - 16s 256ms/step - loss: 3.6101 - accuracy: 0.8931 - val_loss: 4.1621 - val_accuracy: 0.7680\n",
            "Epoch 46/100\n",
            "61/61 [==============================] - 16s 259ms/step - loss: 3.6343 - accuracy: 0.8839 - val_loss: 4.0769 - val_accuracy: 0.7843\n",
            "Epoch 47/100\n",
            "61/61 [==============================] - 16s 260ms/step - loss: 3.5726 - accuracy: 0.9024 - val_loss: 3.9788 - val_accuracy: 0.8007\n",
            "Epoch 48/100\n",
            "61/61 [==============================] - 15s 253ms/step - loss: 3.5558 - accuracy: 0.8931 - val_loss: 3.9947 - val_accuracy: 0.7876\n",
            "Epoch 49/100\n",
            "61/61 [==============================] - 14s 230ms/step - loss: 3.4330 - accuracy: 0.8921 - val_loss: 3.8461 - val_accuracy: 0.7843\n",
            "Epoch 50/100\n",
            "61/61 [==============================] - 17s 273ms/step - loss: 3.4787 - accuracy: 0.9096 - val_loss: 4.0315 - val_accuracy: 0.7843\n",
            "Epoch 51/100\n",
            "61/61 [==============================] - 15s 246ms/step - loss: 3.5051 - accuracy: 0.8808 - val_loss: 3.9516 - val_accuracy: 0.8039\n",
            "Epoch 52/100\n",
            "61/61 [==============================] - 16s 257ms/step - loss: 3.5796 - accuracy: 0.8839 - val_loss: 4.0341 - val_accuracy: 0.7778\n",
            "Epoch 53/100\n",
            "61/61 [==============================] - 16s 265ms/step - loss: 3.6004 - accuracy: 0.8787 - val_loss: 4.0190 - val_accuracy: 0.7974\n",
            "Epoch 54/100\n",
            "61/61 [==============================] - 16s 257ms/step - loss: 3.6448 - accuracy: 0.8777 - val_loss: 4.0468 - val_accuracy: 0.7974\n",
            "Epoch 55/100\n",
            "61/61 [==============================] - 16s 260ms/step - loss: 3.5959 - accuracy: 0.8890 - val_loss: 3.9937 - val_accuracy: 0.7974\n",
            "Epoch 56/100\n",
            "61/61 [==============================] - 15s 253ms/step - loss: 3.5943 - accuracy: 0.8972 - val_loss: 4.1795 - val_accuracy: 0.7908\n",
            "Epoch 57/100\n",
            "61/61 [==============================] - 14s 229ms/step - loss: 3.5337 - accuracy: 0.8931 - val_loss: 3.9128 - val_accuracy: 0.8039\n",
            "Epoch 58/100\n",
            "61/61 [==============================] - ETA: 0s - loss: 3.4588 - accuracy: 0.8900Restoring model weights from the end of the best epoch: 38.\n",
            "61/61 [==============================] - 16s 269ms/step - loss: 3.4588 - accuracy: 0.8900 - val_loss: 3.9062 - val_accuracy: 0.7941\n",
            "Epoch 58: early stopping\n"
          ]
        }
      ]
    },
    {
      "cell_type": "markdown",
      "source": [],
      "metadata": {
        "id": "6XEsR1NFH4XI"
      }
    },
    {
      "cell_type": "markdown",
      "source": [
        "### Plot accuracy"
      ],
      "metadata": {
        "id": "dknMI4yoZZng"
      }
    },
    {
      "cell_type": "code",
      "source": [
        "def plot_history(history, title='', axs=None, exp_name=\"\"):\n",
        "    if axs is not None:\n",
        "        ax1, ax2 = axs\n",
        "    else:\n",
        "        f, (ax1, ax2) = plt.subplots(1, 2, figsize=(12, 4))\n",
        "\n",
        "    if len(exp_name) > 0 and exp_name[0] != '_':\n",
        "        exp_name = '_' + exp_name\n",
        "    ax1.plot(history.history['loss'], label='train' + exp_name)\n",
        "    ax1.plot(history.history['val_loss'], label='val' + exp_name)\n",
        "    #ax1.set_ylim(0., 2.2)\n",
        "    ax1.set_title('loss')\n",
        "    ax1.legend()\n",
        "\n",
        "    ax2.plot(history.history['accuracy'], label='train accuracy'  + exp_name)\n",
        "    ax2.plot(history.history['val_accuracy'], label='val accuracy'  + exp_name)\n",
        "    #ax2.set_ylim(0.25, 1.)\n",
        "    ax2.set_title('Accuracy')\n",
        "    ax2.legend()\n",
        "    return (ax1, ax2)"
      ],
      "metadata": {
        "id": "NA9xR3PTA0Uq"
      },
      "execution_count": null,
      "outputs": []
    },
    {
      "cell_type": "code",
      "source": [
        "plot_history(history)"
      ],
      "metadata": {
        "colab": {
          "base_uri": "https://localhost:8080/",
          "height": 409
        },
        "id": "1vCDkHPXBIha",
        "outputId": "f182fa22-9410-4a53-c001-dcf0417ef8b1"
      },
      "execution_count": null,
      "outputs": [
        {
          "output_type": "execute_result",
          "data": {
            "text/plain": [
              "(<Axes: title={'center': 'loss'}>, <Axes: title={'center': 'Accuracy'}>)"
            ]
          },
          "metadata": {},
          "execution_count": 22
        },
        {
          "output_type": "display_data",
          "data": {
            "text/plain": [
              "<Figure size 1200x400 with 2 Axes>"
            ],
            "image/png": "[encoded data removed]"
          },
          "metadata": {}
        }
      ]
    },
    {
      "cell_type": "code",
      "source": [
        "#overall accuarcy\n",
        "\n",
        "res_vgg = model.evaluate(X_test, y_test)\n",
        "\n",
        "test_accuracy_vgg = res_vgg[-1]\n",
        "\n",
        "\n",
        "print(f\"test_accuracy_vgg = {round(test_accuracy_vgg,2)*100} %\")\n",
        "\n",
        "# print(f\"test_accuracy = {round(test_accuracy,2)*100} %\")\n",
        "\n",
        "print(f'Chance level: {1./num_classes*100:.1f}%')\n"
      ],
      "metadata": {
        "colab": {
          "base_uri": "https://localhost:8080/"
        },
        "id": "DBF0qu1VBUon",
        "outputId": "fc742bb3-2750-4b3b-cb84-bf9a4e943a37"
      },
      "execution_count": null,
      "outputs": [
        {
          "output_type": "stream",
          "name": "stdout",
          "text": [
            "8/8 [==============================] - 3s 229ms/step - loss: 4.4316 - accuracy: 0.7569\n",
            "test_accuracy_vgg = 76.0 %\n",
            "Chance level: 7.1%\n"
          ]
        }
      ]
    },
    {
      "cell_type": "code",
      "source": [
        "predictions = model.predict(X_test)"
      ],
      "metadata": {
        "colab": {
          "base_uri": "https://localhost:8080/"
        },
        "id": "7KcBn5KjBzpd",
        "outputId": "52a854ed-e476-4d15-f244-e885613a0732"
      },
      "execution_count": null,
      "outputs": [
        {
          "output_type": "stream",
          "name": "stdout",
          "text": [
            "8/8 [==============================] - 3s 115ms/step\n"
          ]
        }
      ]
    },
    {
      "cell_type": "code",
      "source": [
        "y_pred = []\n",
        "\n",
        "for pred in predictions:\n",
        "  y_pred.append(np.argmax(pred))"
      ],
      "metadata": {
        "id": "TRncxMuXB7uj"
      },
      "execution_count": null,
      "outputs": []
    },
    {
      "cell_type": "code",
      "source": [
        "y_test_argmax = []\n",
        "for test in y_test:\n",
        "  y_test_argmax.append(np.argmax(test))"
      ],
      "metadata": {
        "id": "rfHnqC7TB95D"
      },
      "execution_count": null,
      "outputs": []
    },
    {
      "cell_type": "markdown",
      "source": [
        "### Classification Report for each class and overall"
      ],
      "metadata": {
        "id": "MTt2tB5wYCKg"
      }
    },
    {
      "cell_type": "markdown",
      "source": [
        "#### Create accuracy metric"
      ],
      "metadata": {
        "id": "-CzMS5E2aQzW"
      }
    },
    {
      "cell_type": "code",
      "source": [
        "# Return macro accuracy\n",
        "accuracy = accuracy_score(y_test_argmax, y_pred)\n",
        "\n",
        "# Return weighted accuracy\n",
        "accuracy_bal = balanced_accuracy_score(y_test_argmax, y_pred)\n",
        "\n",
        "accuracy, accuracy_bal"
      ],
      "metadata": {
        "colab": {
          "base_uri": "https://localhost:8080/"
        },
        "id": "9ErkDUvnZ6Ql",
        "outputId": "b0810449-2e8d-4fac-c3a2-9e564292a956"
      },
      "execution_count": null,
      "outputs": [
        {
          "output_type": "execute_result",
          "data": {
            "text/plain": [
              "(0.7568627450980392, 0.7580276408809138)"
            ]
          },
          "metadata": {},
          "execution_count": 27
        }
      ]
    },
    {
      "cell_type": "code",
      "source": [
        "from sklearn.metrics import classification_report\n",
        "from sklearn import datasets, svm, metrics"
      ],
      "metadata": {
        "id": "--LpDPVOScaf"
      },
      "execution_count": null,
      "outputs": []
    },
    {
      "cell_type": "code",
      "source": [
        "#classification report\n",
        "\n",
        "labels=['basking', 'blue', 'hammerhead', 'mako', 'sand tiger', 'tiger', 'white', 'blacktip', 'bull', 'lemon', 'nurse', 'thresher', 'whale', 'whitetip']\n",
        "\n",
        "report = classification_report(y_test_argmax, y_pred, target_names=labels)\n",
        "print(report)"
      ],
      "metadata": {
        "colab": {
          "base_uri": "https://localhost:8080/"
        },
        "id": "iH3TKTl4ZeO9",
        "outputId": "7fcc17ee-2bb4-406e-8cac-d90bbc16352b"
      },
      "execution_count": null,
      "outputs": [
        {
          "output_type": "stream",
          "name": "stdout",
          "text": [
            "              precision    recall  f1-score   support\n",
            "\n",
            "     basking       0.89      1.00      0.94        17\n",
            "        blue       0.85      0.73      0.79        15\n",
            "  hammerhead       1.00      1.00      1.00        19\n",
            "        mako       0.80      0.84      0.82        19\n",
            "  sand tiger       0.47      0.73      0.57        11\n",
            "       tiger       0.71      0.56      0.63        18\n",
            "       white       0.87      0.62      0.72        21\n",
            "    blacktip       0.62      0.87      0.72        15\n",
            "        bull       0.62      0.53      0.57        19\n",
            "       lemon       0.61      0.58      0.60        24\n",
            "       nurse       0.82      0.56      0.67        16\n",
            "    thresher       0.88      0.95      0.91        22\n",
            "       whale       0.93      0.82      0.87        17\n",
            "    whitetip       0.64      0.82      0.72        22\n",
            "\n",
            "    accuracy                           0.76       255\n",
            "   macro avg       0.77      0.76      0.75       255\n",
            "weighted avg       0.77      0.76      0.76       255\n",
            "\n"
          ]
        }
      ]
    },
    {
      "cell_type": "code",
      "source": [
        "#classification report\n",
        "##note that this also ranks accuracy, weight avg and macroavg, so these can be ignored (and taken from the table above)\n",
        "\n",
        "report = classification_report(y_test_argmax, y_pred, target_names=labels, output_dict=True)\n",
        "\n",
        "# Convert the report to a pandas DataFrame\n",
        "df = pd.DataFrame(report).transpose()\n",
        "df = df.sort_values(by='f1-score', ascending=False)\n",
        "df.reset_index(inplace=True)\n",
        "df"
      ],
      "metadata": {
        "colab": {
          "base_uri": "https://localhost:8080/",
          "height": 582
        },
        "id": "O6mEngoTSbAN",
        "outputId": "95136c03-e2bb-4c52-a973-3ffd6a086e4e"
      },
      "execution_count": null,
      "outputs": [
        {
          "output_type": "execute_result",
          "data": {
            "text/plain": [
              "           index  precision    recall  f1-score     support\n",
              "0     hammerhead   1.000000  1.000000  1.000000   19.000000\n",
              "1        basking   0.894737  1.000000  0.944444   17.000000\n",
              "2       thresher   0.875000  0.954545  0.913043   22.000000\n",
              "3          whale   0.933333  0.823529  0.875000   17.000000\n",
              "4           mako   0.800000  0.842105  0.820513   19.000000\n",
              "5           blue   0.846154  0.733333  0.785714   15.000000\n",
              "6       accuracy   0.756863  0.756863  0.756863    0.756863\n",
              "7   weighted avg   0.770417  0.756863  0.755256  255.000000\n",
              "8      macro avg   0.765325  0.758028  0.752388  255.000000\n",
              "9       blacktip   0.619048  0.866667  0.722222   15.000000\n",
              "10         white   0.866667  0.619048  0.722222   21.000000\n",
              "11      whitetip   0.642857  0.818182  0.720000   22.000000\n",
              "12         nurse   0.818182  0.562500  0.666667   16.000000\n",
              "13         tiger   0.714286  0.555556  0.625000   18.000000\n",
              "14         lemon   0.608696  0.583333  0.595745   24.000000\n",
              "15    sand tiger   0.470588  0.727273  0.571429   11.000000\n",
              "16          bull   0.625000  0.526316  0.571429   19.000000"
            ],
            "text/html": [
              "\n",
              "  <div id=\"df-a8626d4e-8f10-4cb0-b5c8-383e52efd3c0\">\n",
              "    <div class=\"colab-df-container\">\n",
              "      <div>\n",
              "<style scoped>\n",
              "    .dataframe tbody tr th:only-of-type {\n",
              "        vertical-align: middle;\n",
              "    }\n",
              "\n",
              "    .dataframe tbody tr th {\n",
              "        vertical-align: top;\n",
              "    }\n",
              "\n",
              "    .dataframe thead th {\n",
              "        text-align: right;\n",
              "    }\n",
              "</style>\n",
              "<table border=\"1\" class=\"dataframe\">\n",
              "  <thead>\n",
              "    <tr style=\"text-align: right;\">\n",
              "      <th></th>\n",
              "      <th>index</th>\n",
              "      <th>precision</th>\n",
              "      <th>recall</th>\n",
              "      <th>f1-score</th>\n",
              "      <th>support</th>\n",
              "    </tr>\n",
              "  </thead>\n",
              "  <tbody>\n",
              "    <tr>\n",
              "      <th>0</th>\n",
              "      <td>hammerhead</td>\n",
              "      <td>1.000000</td>\n",
              "      <td>1.000000</td>\n",
              "      <td>1.000000</td>\n",
              "      <td>19.000000</td>\n",
              "    </tr>\n",
              "    <tr>\n",
              "      <th>1</th>\n",
              "      <td>basking</td>\n",
              "      <td>0.894737</td>\n",
              "      <td>1.000000</td>\n",
              "      <td>0.944444</td>\n",
              "      <td>17.000000</td>\n",
              "    </tr>\n",
              "    <tr>\n",
              "      <th>2</th>\n",
              "      <td>thresher</td>\n",
              "      <td>0.875000</td>\n",
              "      <td>0.954545</td>\n",
              "      <td>0.913043</td>\n",
              "      <td>22.000000</td>\n",
              "    </tr>\n",
              "    <tr>\n",
              "      <th>3</th>\n",
              "      <td>whale</td>\n",
              "      <td>0.933333</td>\n",
              "      <td>0.823529</td>\n",
              "      <td>0.875000</td>\n",
              "      <td>17.000000</td>\n",
              "    </tr>\n",
              "    <tr>\n",
              "      <th>4</th>\n",
              "      <td>mako</td>\n",
              "      <td>0.800000</td>\n",
              "      <td>0.842105</td>\n",
              "      <td>0.820513</td>\n",
              "      <td>19.000000</td>\n",
              "    </tr>\n",
              "    <tr>\n",
              "      <th>5</th>\n",
              "      <td>blue</td>\n",
              "      <td>0.846154</td>\n",
              "      <td>0.733333</td>\n",
              "      <td>0.785714</td>\n",
              "      <td>15.000000</td>\n",
              "    </tr>\n",
              "    <tr>\n",
              "      <th>6</th>\n",
              "      <td>accuracy</td>\n",
              "      <td>0.756863</td>\n",
              "      <td>0.756863</td>\n",
              "      <td>0.756863</td>\n",
              "      <td>0.756863</td>\n",
              "    </tr>\n",
              "    <tr>\n",
              "      <th>7</th>\n",
              "      <td>weighted avg</td>\n",
              "      <td>0.770417</td>\n",
              "      <td>0.756863</td>\n",
              "      <td>0.755256</td>\n",
              "      <td>255.000000</td>\n",
              "    </tr>\n",
              "    <tr>\n",
              "      <th>8</th>\n",
              "      <td>macro avg</td>\n",
              "      <td>0.765325</td>\n",
              "      <td>0.758028</td>\n",
              "      <td>0.752388</td>\n",
              "      <td>255.000000</td>\n",
              "    </tr>\n",
              "    <tr>\n",
              "      <th>9</th>\n",
              "      <td>blacktip</td>\n",
              "      <td>0.619048</td>\n",
              "      <td>0.866667</td>\n",
              "      <td>0.722222</td>\n",
              "      <td>15.000000</td>\n",
              "    </tr>\n",
              "    <tr>\n",
              "      <th>10</th>\n",
              "      <td>white</td>\n",
              "      <td>0.866667</td>\n",
              "      <td>0.619048</td>\n",
              "      <td>0.722222</td>\n",
              "      <td>21.000000</td>\n",
              "    </tr>\n",
              "    <tr>\n",
              "      <th>11</th>\n",
              "      <td>whitetip</td>\n",
              "      <td>0.642857</td>\n",
              "      <td>0.818182</td>\n",
              "      <td>0.720000</td>\n",
              "      <td>22.000000</td>\n",
              "    </tr>\n",
              "    <tr>\n",
              "      <th>12</th>\n",
              "      <td>nurse</td>\n",
              "      <td>0.818182</td>\n",
              "      <td>0.562500</td>\n",
              "      <td>0.666667</td>\n",
              "      <td>16.000000</td>\n",
              "    </tr>\n",
              "    <tr>\n",
              "      <th>13</th>\n",
              "      <td>tiger</td>\n",
              "      <td>0.714286</td>\n",
              "      <td>0.555556</td>\n",
              "      <td>0.625000</td>\n",
              "      <td>18.000000</td>\n",
              "    </tr>\n",
              "    <tr>\n",
              "      <th>14</th>\n",
              "      <td>lemon</td>\n",
              "      <td>0.608696</td>\n",
              "      <td>0.583333</td>\n",
              "      <td>0.595745</td>\n",
              "      <td>24.000000</td>\n",
              "    </tr>\n",
              "    <tr>\n",
              "      <th>15</th>\n",
              "      <td>sand tiger</td>\n",
              "      <td>0.470588</td>\n",
              "      <td>0.727273</td>\n",
              "      <td>0.571429</td>\n",
              "      <td>11.000000</td>\n",
              "    </tr>\n",
              "    <tr>\n",
              "      <th>16</th>\n",
              "      <td>bull</td>\n",
              "      <td>0.625000</td>\n",
              "      <td>0.526316</td>\n",
              "      <td>0.571429</td>\n",
              "      <td>19.000000</td>\n",
              "    </tr>\n",
              "  </tbody>\n",
              "</table>\n",
              "</div>\n",
              "      <button class=\"colab-df-convert\" onclick=\"convertToInteractive('df-a8626d4e-8f10-4cb0-b5c8-383e52efd3c0')\"\n",
              "              title=\"Convert this dataframe to an interactive table.\"\n",
              "              style=\"display:none;\">\n",
              "        \n",
              "  <svg xmlns=\"http://www.w3.org/2000/svg\" height=\"24px\"viewBox=\"0 0 24 24\"\n",
              "       width=\"24px\">\n",
              "    <path d=\"M0 0h24v24H0V0z\" fill=\"none\"/>\n",
              "    <path d=\"M18.56 5.44l.94 2.06.94-2.06 2.06-.94-2.06-.94-.94-2.06-.94 2.06-2.06.94zm-11 1L8.5 8.5l.94-2.06 2.06-.94-2.06-.94L8.5 2.5l-.94 2.06-2.06.94zm10 10l.94 2.06.94-2.06 2.06-.94-2.06-.94-.94-2.06-.94 2.06-2.06.94z\"/><path d=\"M17.41 7.96l-1.37-1.37c-.4-.4-.92-.59-1.43-.59-.52 0-1.04.2-1.43.59L10.3 9.45l-7.72 7.72c-.78.78-.78 2.05 0 2.83L4 21.41c.39.39.9.59 1.41.59.51 0 1.02-.2 1.41-.59l7.78-7.78 2.81-2.81c.8-.78.8-2.07 0-2.86zM5.41 20L4 18.59l7.72-7.72 1.47 1.35L5.41 20z\"/>\n",
              "  </svg>\n",
              "      </button>\n",
              "      \n",
              "  <style>\n",
              "    .colab-df-container {\n",
              "      display:flex;\n",
              "      flex-wrap:wrap;\n",
              "      gap: 12px;\n",
              "    }\n",
              "\n",
              "    .colab-df-convert {\n",
              "      background-color: #E8F0FE;\n",
              "      border: none;\n",
              "      border-radius: 50%;\n",
              "      cursor: pointer;\n",
              "      display: none;\n",
              "      fill: #1967D2;\n",
              "      height: 32px;\n",
              "      padding: 0 0 0 0;\n",
              "      width: 32px;\n",
              "    }\n",
              "\n",
              "    .colab-df-convert:hover {\n",
              "      background-color: #E2EBFA;\n",
              "      box-shadow: 0px 1px 2px rgba(60, 64, 67, 0.3), 0px 1px 3px 1px rgba(60, 64, 67, 0.15);\n",
              "      fill: #174EA6;\n",
              "    }\n",
              "\n",
              "    [theme=dark] .colab-df-convert {\n",
              "      background-color: #3B4455;\n",
              "      fill: #D2E3FC;\n",
              "    }\n",
              "\n",
              "    [theme=dark] .colab-df-convert:hover {\n",
              "      background-color: #434B5C;\n",
              "      box-shadow: 0px 1px 3px 1px rgba(0, 0, 0, 0.15);\n",
              "      filter: drop-shadow(0px 1px 2px rgba(0, 0, 0, 0.3));\n",
              "      fill: #FFFFFF;\n",
              "    }\n",
              "  </style>\n",
              "\n",
              "      <script>\n",
              "        const buttonEl =\n",
              "          document.querySelector('#df-a8626d4e-8f10-4cb0-b5c8-383e52efd3c0 button.colab-df-convert');\n",
              "        buttonEl.style.display =\n",
              "          google.colab.kernel.accessAllowed ? 'block' : 'none';\n",
              "\n",
              "        async function convertToInteractive(key) {\n",
              "          const element = document.querySelector('#df-a8626d4e-8f10-4cb0-b5c8-383e52efd3c0');\n",
              "          const dataTable =\n",
              "            await google.colab.kernel.invokeFunction('convertToInteractive',\n",
              "                                                     [key], {});\n",
              "          if (!dataTable) return;\n",
              "\n",
              "          const docLinkHtml = 'Like what you see? Visit the ' +\n",
              "            '<a target=\"_blank\" href=https://colab.research.google.com/notebooks/data_table.ipynb>data table notebook</a>'\n",
              "            + ' to learn more about interactive tables.';\n",
              "          element.innerHTML = '';\n",
              "          dataTable['output_type'] = 'display_data';\n",
              "          await google.colab.output.renderOutput(dataTable, element);\n",
              "          const docLink = document.createElement('div');\n",
              "          docLink.innerHTML = docLinkHtml;\n",
              "          element.appendChild(docLink);\n",
              "        }\n",
              "      </script>\n",
              "    </div>\n",
              "  </div>\n",
              "  "
            ]
          },
          "metadata": {},
          "execution_count": 32
        }
      ]
    },
    {
      "cell_type": "markdown",
      "source": [
        "### Confusion Matrix for class analysis"
      ],
      "metadata": {
        "id": "4jQXpG7EYGdP"
      }
    },
    {
      "cell_type": "code",
      "source": [
        "cm = confusion_matrix(y_test_argmax, y_pred)"
      ],
      "metadata": {
        "id": "jt2yrF9tU3_5"
      },
      "execution_count": null,
      "outputs": []
    },
    {
      "cell_type": "code",
      "source": [
        "shark_labels = ['basking', 'blue', 'hammerhead', 'mako', 'sand tiger', 'tiger', 'white', 'blacktip', 'bull', 'lemon', 'nurse', 'thresher', 'whale', 'whitetip']\n",
        "\n",
        "disp = ConfusionMatrixDisplay(confusion_matrix=cm, display_labels=shark_labels)\n",
        "\n",
        "fig, ax = plt.subplots(figsize=(10,10))\n",
        "disp.plot(ax=ax)\n",
        "ax.set_xticklabels(shark_labels, rotation=45)\n",
        "\n",
        "plt.show()"
      ],
      "metadata": {
        "colab": {
          "base_uri": "https://localhost:8080/",
          "height": 837
        },
        "id": "I2MAMuFYT9ur",
        "outputId": "99beb4fd-090b-4546-8127-3063a16cc70c"
      },
      "execution_count": null,
      "outputs": [
        {
          "output_type": "display_data",
          "data": {
            "text/plain": [
              "<Figure size 1000x1000 with 2 Axes>"
            ],
            "image/png": "[encoded data removed]"
          },
          "metadata": {}
        }
      ]
    },
    {
      "cell_type": "code",
      "source": [],
      "metadata": {
        "id": "G-dPONwnOLeC"
      },
      "execution_count": null,
      "outputs": []
    },
    {
      "cell_type": "code",
      "source": [
        "model.save('/content/drive/My Drive/efficientnet_b3_augmented_on_tar.h5')"
      ],
      "metadata": {
        "id": "IjYKgx25U1KJ"
      },
      "execution_count": null,
      "outputs": []
    }
  ]
}