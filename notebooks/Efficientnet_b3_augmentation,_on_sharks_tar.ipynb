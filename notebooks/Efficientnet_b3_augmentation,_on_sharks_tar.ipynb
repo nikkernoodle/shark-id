{
  "nbformat": 4,
  "nbformat_minor": 0,
  "metadata": {
    "colab": {
      "provenance": [],
      "gpuType": "T4"
    },
    "kernelspec": {
      "name": "python3",
      "display_name": "Python 3"
    },
    "language_info": {
      "name": "python"
    },
    "accelerator": "GPU"
  },
  "cells": [
    {
      "cell_type": "markdown",
      "metadata": {
        "id": "view-in-github"
      },
      "source": [
        "<a href=\"https://colab.research.google.com/github/nikkernoodle/shark-id/blob/models/Efficientnet_enhanced_model_v3_augmentation%2C%20on%20sharks_tar.ipynb\" target=\"_parent\"><img src=\"https://colab.research.google.com/assets/colab-badge.svg\" alt=\"Open In Colab\"/></a>"
      ]
    },
    {
      "cell_type": "markdown",
      "source": [
        "# IMPORTS"
      ],
      "metadata": {
        "id": "0I9VGNFmYe8p"
      }
    },
    {
      "cell_type": "markdown",
      "source": [],
      "metadata": {
        "id": "ANUJ4oOD85GQ"
      }
    },
    {
      "cell_type": "code",
      "source": [
        "from google.colab import drive\n",
        "drive.mount('/content/drive', force_remount = True)"
      ],
      "metadata": {
        "colab": {
          "base_uri": "https://localhost:8080/"
        },
        "id": "wJFxFhQg94U9",
        "outputId": "16274d97-6810-46eb-c329-4423d90902ae"
      },
      "execution_count": 1,
      "outputs": [
        {
          "output_type": "stream",
          "name": "stdout",
          "text": [
            "Mounted at /content/drive\n"
          ]
        }
      ]
    },
    {
      "cell_type": "code",
      "source": [
        "from tensorflow.keras import layers, models, metrics, optimizers\n",
        "from tensorflow.keras.callbacks import EarlyStopping\n",
        "from tensorflow.keras.utils import to_categorical\n",
        "from tensorflow.keras.preprocessing.image import ImageDataGenerator\n",
        "from tensorflow.keras import regularizers\n",
        "from tensorflow.random import set_seed\n",
        "from tensorflow.keras.applications import EfficientNetB2, EfficientNetB3\n",
        "from tensorflow.keras.preprocessing import image\n",
        "from tensorflow.keras.applications.efficientnet import preprocess_input, decode_predictions\n",
        "\n",
        "from sklearn.metrics import confusion_matrix, ConfusionMatrixDisplay\n",
        "from sklearn.metrics import accuracy_score, balanced_accuracy_score\n",
        "\n",
        "import numpy as np # linear algebra\n",
        "import pandas as pd # data processing, CSV file I/O (e.g. pd.read_csv)\n",
        "import seaborn as sns\n",
        "import matplotlib.pyplot as plt\n",
        "import os, sys\n",
        "import cv2\n",
        "from tqdm import tqdm\n",
        "from PIL import Image"
      ],
      "metadata": {
        "id": "Szbu6ckA96DK"
      },
      "execution_count": 2,
      "outputs": []
    },
    {
      "cell_type": "markdown",
      "source": [
        "# PREPROCESSING"
      ],
      "metadata": {
        "id": "-i1jf484YvgI"
      }
    },
    {
      "cell_type": "code",
      "source": [
        "def load_sharks_data(loading_method):\n",
        "    if loading_method == 'colab':\n",
        "        data_path = '/content/drive/My Drive/shark-datasets/sharks_tar'\n",
        "    elif loading_method == 'direct':\n",
        "        data_path = '../raw_data/sharks/'\n",
        "    classes = {'basking': 0, 'blue': 1, 'hammerhead': 2, 'mako': 3, 'sand tiger': 4, 'tiger': 5, 'white' : 6,\n",
        "               'blacktip': 7 , 'bull': 8, 'lemon':9 , 'nurse': 10, 'thresher': 11, 'whale': 12, 'whitetip': 13}\n",
        "    imgs = []\n",
        "    labels = []\n",
        "    for (cl, i) in classes.items():\n",
        "        images_path = [elt for elt in os.listdir(os.path.join(data_path, cl))]\n",
        "        for img in tqdm(images_path[:300]):\n",
        "            path = os.path.join(data_path, cl, img)\n",
        "            if os.path.exists(path):\n",
        "                image = Image.open(path)\n",
        "                image = image.resize((224, 224))\n",
        "                image = cv2.cvtColor(np.float32(image), cv2.COLOR_BGR2RGB)\n",
        "                imgs.append(np.array(image))\n",
        "                labels.append(i)\n",
        "\n",
        "    X = np.array(imgs)\n",
        "    num_classes = len(set(labels))\n",
        "    y = to_categorical(labels, num_classes)\n",
        "\n",
        "    # Finally we shuffle:\n",
        "    p = np.random.RandomState(seed=42).permutation(len(X))\n",
        "    X, y = X[p], y[p]\n",
        "\n",
        "    first_split = int(len(imgs) /6.)\n",
        "    second_split = first_split + int(len(imgs) * 0.2)\n",
        "    X_test, X_val, X_train = X[:first_split], X[first_split:second_split], X[second_split:]\n",
        "    y_test, y_val, y_train = y[:first_split], y[first_split:second_split], y[second_split:]\n",
        "\n",
        "    return X_train, y_train, X_val, y_val, X_test, y_test, num_classes"
      ],
      "metadata": {
        "id": "xS4kPA-097uD"
      },
      "execution_count": 3,
      "outputs": []
    },
    {
      "cell_type": "code",
      "source": [
        "X_train, y_train, X_val, y_val, X_test, y_test, num_classes = load_sharks_data(\"colab\")"
      ],
      "metadata": {
        "colab": {
          "base_uri": "https://localhost:8080/"
        },
        "id": "VKjdHkHB-roE",
        "outputId": "110b69a9-db10-423c-dce4-96ba0e859459"
      },
      "execution_count": 4,
      "outputs": [
        {
          "output_type": "stream",
          "name": "stderr",
          "text": [
            "100%|██████████| 93/93 [00:26<00:00,  3.52it/s]\n",
            "100%|██████████| 107/107 [00:08<00:00, 12.70it/s]\n",
            "100%|██████████| 127/127 [00:08<00:00, 15.51it/s]\n",
            "100%|██████████| 100/100 [00:05<00:00, 17.50it/s]\n",
            "100%|██████████| 94/94 [00:23<00:00,  3.97it/s]\n",
            "100%|██████████| 97/97 [00:27<00:00,  3.59it/s]\n",
            "100%|██████████| 134/134 [00:09<00:00, 13.46it/s]\n",
            "100%|██████████| 113/113 [00:05<00:00, 21.77it/s]\n",
            "100%|██████████| 107/107 [00:06<00:00, 16.86it/s]\n",
            "100%|██████████| 119/119 [00:05<00:00, 22.39it/s]\n",
            "100%|██████████| 71/71 [00:17<00:00,  4.16it/s]\n",
            "100%|██████████| 116/116 [00:04<00:00, 26.99it/s]\n",
            "100%|██████████| 132/132 [00:10<00:00, 12.92it/s]\n",
            "100%|██████████| 124/124 [00:07<00:00, 16.23it/s]\n"
          ]
        }
      ]
    },
    {
      "cell_type": "code",
      "source": [
        "X_train.shape, y_train.shape, X_val.shape, y_val.shape, X_test.shape, y_test.shape"
      ],
      "metadata": {
        "id": "7HVR93jWXSbn",
        "colab": {
          "base_uri": "https://localhost:8080/"
        },
        "outputId": "b43b96df-e75b-43fc-cf0f-7c292109a799"
      },
      "execution_count": 5,
      "outputs": [
        {
          "output_type": "execute_result",
          "data": {
            "text/plain": [
              "((973, 224, 224, 3),\n",
              " (973, 14),\n",
              " (306, 224, 224, 3),\n",
              " (306, 14),\n",
              " (255, 224, 224, 3),\n",
              " (255, 14))"
            ]
          },
          "metadata": {},
          "execution_count": 5
        }
      ]
    },
    {
      "cell_type": "markdown",
      "source": [
        "# Augmentation"
      ],
      "metadata": {
        "id": "lvpuQum3O_Yx"
      }
    },
    {
      "cell_type": "code",
      "source": [
        "datagen = ImageDataGenerator(\n",
        "    featurewise_center = False,\n",
        "    featurewise_std_normalization = False,\n",
        "    rotation_range = 10,\n",
        "    width_shift_range = 0.1,\n",
        "    height_shift_range = 0.1,\n",
        "    horizontal_flip = True,\n",
        "    zoom_range = (0.8, 1.2),\n",
        "    preprocessing_function=preprocess_input\n",
        "    )\n",
        "\n",
        "datagen.fit(X_train)\n",
        "datagen"
      ],
      "metadata": {
        "colab": {
          "base_uri": "https://localhost:8080/"
        },
        "id": "4y0F8IUwPDGd",
        "outputId": "e72f5e58-68d8-43d3-e1a4-642c1bed470a"
      },
      "execution_count": 6,
      "outputs": [
        {
          "output_type": "execute_result",
          "data": {
            "text/plain": [
              "<keras.preprocessing.image.ImageDataGenerator at 0x7f8f2ddb38e0>"
            ]
          },
          "metadata": {},
          "execution_count": 6
        }
      ]
    },
    {
      "cell_type": "markdown",
      "source": [
        "## Apply to dataset"
      ],
      "metadata": {
        "id": "J63mfSBkPqJe"
      }
    },
    {
      "cell_type": "code",
      "source": [
        "train_flow = datagen.flow(X_train, y_train, batch_size=16)"
      ],
      "metadata": {
        "id": "LPJvBK9EPnz4"
      },
      "execution_count": 7,
      "outputs": []
    },
    {
      "cell_type": "markdown",
      "source": [
        "# MODEL"
      ],
      "metadata": {
        "id": "VmUpDuKEY2BW"
      }
    },
    {
      "cell_type": "markdown",
      "source": [
        "## Define model"
      ],
      "metadata": {
        "id": "ZbBrJAoiZAXb"
      }
    },
    {
      "cell_type": "code",
      "source": [
        "def load_model():\n",
        "\n",
        "    model = EfficientNetB3(weights=\"imagenet\", include_top=False, input_shape=X_train[0].shape)\n",
        "\n",
        "    return model\n"
      ],
      "metadata": {
        "id": "Z9iUinZa_jtV"
      },
      "execution_count": 8,
      "outputs": []
    },
    {
      "cell_type": "code",
      "source": [
        "model = load_model()\n",
        "# model.summary()"
      ],
      "metadata": {
        "id": "u5KEujGb-uk8",
        "colab": {
          "base_uri": "https://localhost:8080/"
        },
        "outputId": "345598bb-2d0b-4f16-9a57-f93ef139047f"
      },
      "execution_count": 9,
      "outputs": [
        {
          "output_type": "stream",
          "name": "stdout",
          "text": [
            "Downloading data from https://storage.googleapis.com/keras-applications/efficientnetb3_notop.h5\n",
            "43941136/43941136 [==============================] - 0s 0us/step\n"
          ]
        }
      ]
    },
    {
      "cell_type": "code",
      "source": [
        "def set_nontrainable_layers(model):\n",
        "    # Set the first layers to be untrainable\n",
        "    model.trainable = False\n",
        "\n",
        "    return model"
      ],
      "metadata": {
        "id": "NQdRGDMCAEiX"
      },
      "execution_count": 10,
      "outputs": []
    },
    {
      "cell_type": "code",
      "source": [
        "model = set_nontrainable_layers(model)\n",
        "# model.summary()"
      ],
      "metadata": {
        "id": "sh8-sHZgAMqf"
      },
      "execution_count": 11,
      "outputs": []
    },
    {
      "cell_type": "markdown",
      "source": [
        "### Actually build the model"
      ],
      "metadata": {
        "id": "gtik_Tw9ZJG1"
      }
    },
    {
      "cell_type": "code",
      "source": [
        "def add_last_layers(model):\n",
        "    '''Take a pre-trained model, set its parameters as non-trainable, and add additional trainable layers on top'''\n",
        "    # $CHALLENGIFY_BEGIN\n",
        "    base_model = set_nontrainable_layers(model)\n",
        "    flatten_layer = layers.Flatten()\n",
        "    dense_layer1 = layers.Dense(500, activation='relu', kernel_regularizer=regularizers.L1(0.0001))\n",
        "    dropout_layer1 = layers.Dropout(0.3)\n",
        "    dense_layer2 = layers.Dense(400, activation='relu', kernel_regularizer=regularizers.L1(0.0001))\n",
        "    dropout_layer2 = layers.Dropout(0.3)\n",
        "    dense_layer3 = layers.Dense(300, activation='relu', kernel_regularizer=regularizers.L1(0.0001))\n",
        "    dropout_layer3 = layers.Dropout(0.3)\n",
        "    prediction_layer = layers.Dense(14, activation='softmax')\n",
        "#creating dense layer 1 (changed from 50 to 500), dense layer 2 (400) and dense layer 3 (300) and dropout layers\n",
        "\n",
        "    model = models.Sequential([\n",
        "        base_model,\n",
        "        flatten_layer,\n",
        "        dense_layer1,\n",
        "        dropout_layer1,\n",
        "        dense_layer2,\n",
        "        dropout_layer2,\n",
        "        dense_layer3,\n",
        "        dropout_layer3,\n",
        "        prediction_layer\n",
        "    ])\n",
        "    # $CHALLENGIFY_END\n",
        "    return model"
      ],
      "metadata": {
        "id": "RQ6qF663AQtc"
      },
      "execution_count": 12,
      "outputs": []
    },
    {
      "cell_type": "code",
      "source": [
        "model = add_last_layers(model)\n",
        "model.summary()"
      ],
      "metadata": {
        "colab": {
          "base_uri": "https://localhost:8080/"
        },
        "id": "A559KrQMAhFw",
        "outputId": "3f8078c7-798b-4df1-82e2-462fd279f305"
      },
      "execution_count": 13,
      "outputs": [
        {
          "output_type": "stream",
          "name": "stdout",
          "text": [
            "Model: \"sequential\"\n",
            "_________________________________________________________________\n",
            " Layer (type)                Output Shape              Param #   \n",
            "=================================================================\n",
            " efficientnetb3 (Functional)  (None, 7, 7, 1536)       10783535  \n",
            "                                                                 \n",
            " flatten (Flatten)           (None, 75264)             0         \n",
            "                                                                 \n",
            " dense (Dense)               (None, 500)               37632500  \n",
            "                                                                 \n",
            " dropout (Dropout)           (None, 500)               0         \n",
            "                                                                 \n",
            " dense_1 (Dense)             (None, 400)               200400    \n",
            "                                                                 \n",
            " dropout_1 (Dropout)         (None, 400)               0         \n",
            "                                                                 \n",
            " dense_2 (Dense)             (None, 300)               120300    \n",
            "                                                                 \n",
            " dropout_2 (Dropout)         (None, 300)               0         \n",
            "                                                                 \n",
            " dense_3 (Dense)             (None, 14)                4214      \n",
            "                                                                 \n",
            "=================================================================\n",
            "Total params: 48,740,949\n",
            "Trainable params: 37,957,414\n",
            "Non-trainable params: 10,783,535\n",
            "_________________________________________________________________\n"
          ]
        }
      ]
    },
    {
      "cell_type": "markdown",
      "source": [
        "## Compile EfficientnetB2 + layers"
      ],
      "metadata": {
        "id": "FKwW45-2ZLkf"
      }
    },
    {
      "cell_type": "code",
      "source": [
        "def build_model():\n",
        "\n",
        "    model = load_model()\n",
        "    model = add_last_layers(model)\n",
        "\n",
        "    opt = optimizers.Adam(learning_rate=1e-4)\n",
        "    model.compile(loss='categorical_crossentropy',\n",
        "                  optimizer=opt,\n",
        "                  weighted_metrics=['accuracy'])\n",
        "\n",
        "    return model\n"
      ],
      "metadata": {
        "id": "RMJeFOsFAi2E"
      },
      "execution_count": 14,
      "outputs": []
    },
    {
      "cell_type": "markdown",
      "source": [
        "## Fit the model"
      ],
      "metadata": {
        "id": "4nDGcr9TZWmu"
      }
    },
    {
      "cell_type": "code",
      "source": [
        "model = build_model()\n",
        "model.summary()"
      ],
      "metadata": {
        "colab": {
          "base_uri": "https://localhost:8080/"
        },
        "id": "ahLaOP9kAmyC",
        "outputId": "33a0fa6c-9299-44e5-db82-18d13db3cdf0"
      },
      "execution_count": 15,
      "outputs": [
        {
          "output_type": "stream",
          "name": "stdout",
          "text": [
            "Model: \"sequential_1\"\n",
            "_________________________________________________________________\n",
            " Layer (type)                Output Shape              Param #   \n",
            "=================================================================\n",
            " efficientnetb3 (Functional)  (None, 7, 7, 1536)       10783535  \n",
            "                                                                 \n",
            " flatten_1 (Flatten)         (None, 75264)             0         \n",
            "                                                                 \n",
            " dense_4 (Dense)             (None, 500)               37632500  \n",
            "                                                                 \n",
            " dropout_3 (Dropout)         (None, 500)               0         \n",
            "                                                                 \n",
            " dense_5 (Dense)             (None, 400)               200400    \n",
            "                                                                 \n",
            " dropout_4 (Dropout)         (None, 400)               0         \n",
            "                                                                 \n",
            " dense_6 (Dense)             (None, 300)               120300    \n",
            "                                                                 \n",
            " dropout_5 (Dropout)         (None, 300)               0         \n",
            "                                                                 \n",
            " dense_7 (Dense)             (None, 14)                4214      \n",
            "                                                                 \n",
            "=================================================================\n",
            "Total params: 48,740,949\n",
            "Trainable params: 37,957,414\n",
            "Non-trainable params: 10,783,535\n",
            "_________________________________________________________________\n"
          ]
        }
      ]
    },
    {
      "cell_type": "code",
      "source": [
        "set_seed(42)\n",
        "model = build_model()\n",
        "\n",
        "es = EarlyStopping(monitor = 'val_accuracy',\n",
        "                   mode = 'max',\n",
        "                   patience = 20,\n",
        "                   verbose = 1,\n",
        "                   restore_best_weights = True)\n",
        "#patience changes from 5 to 20\n",
        "history = model.fit(train_flow,\n",
        "                    validation_data=(X_val, y_val),\n",
        "                    epochs=100,\n",
        "                    batch_size=16,\n",
        "                    callbacks=[es])\n",
        "#patience changes from 50 to 100\n",
        "#batch_size changed from 16 to 32"
      ],
      "metadata": {
        "colab": {
          "base_uri": "https://localhost:8080/"
        },
        "id": "T_F6HQbCAt32",
        "outputId": "82f719b2-ca47-49b5-837f-d4d912898231"
      },
      "execution_count": 16,
      "outputs": [
        {
          "output_type": "stream",
          "name": "stdout",
          "text": [
            "Epoch 1/100\n",
            "61/61 [==============================] - 42s 339ms/step - loss: 20.3452 - accuracy: 0.1891 - val_loss: 18.8867 - val_accuracy: 0.4020\n",
            "Epoch 2/100\n",
            "61/61 [==============================] - 14s 224ms/step - loss: 18.4689 - accuracy: 0.3474 - val_loss: 17.3619 - val_accuracy: 0.4967\n",
            "Epoch 3/100\n",
            "61/61 [==============================] - 13s 221ms/step - loss: 16.9770 - accuracy: 0.3823 - val_loss: 15.8614 - val_accuracy: 0.5523\n",
            "Epoch 4/100\n",
            "61/61 [==============================] - 14s 227ms/step - loss: 15.5436 - accuracy: 0.4409 - val_loss: 14.5093 - val_accuracy: 0.5621\n",
            "Epoch 5/100\n",
            "61/61 [==============================] - 14s 220ms/step - loss: 14.2860 - accuracy: 0.4882 - val_loss: 13.2979 - val_accuracy: 0.6797\n",
            "Epoch 6/100\n",
            "61/61 [==============================] - 13s 218ms/step - loss: 13.1087 - accuracy: 0.5416 - val_loss: 12.3302 - val_accuracy: 0.6438\n",
            "Epoch 7/100\n",
            "61/61 [==============================] - 14s 224ms/step - loss: 12.1118 - accuracy: 0.5735 - val_loss: 11.3503 - val_accuracy: 0.7222\n",
            "Epoch 8/100\n",
            "61/61 [==============================] - 14s 222ms/step - loss: 11.2027 - accuracy: 0.6074 - val_loss: 10.5846 - val_accuracy: 0.6895\n",
            "Epoch 9/100\n",
            "61/61 [==============================] - 13s 215ms/step - loss: 10.5666 - accuracy: 0.6136 - val_loss: 10.0384 - val_accuracy: 0.7026\n",
            "Epoch 10/100\n",
            "61/61 [==============================] - 14s 225ms/step - loss: 9.7994 - accuracy: 0.6650 - val_loss: 9.3433 - val_accuracy: 0.7255\n",
            "Epoch 11/100\n",
            "61/61 [==============================] - 13s 209ms/step - loss: 9.2275 - accuracy: 0.6680 - val_loss: 8.7721 - val_accuracy: 0.7549\n",
            "Epoch 12/100\n",
            "61/61 [==============================] - 13s 219ms/step - loss: 8.6753 - accuracy: 0.6948 - val_loss: 8.2965 - val_accuracy: 0.7418\n",
            "Epoch 13/100\n",
            "61/61 [==============================] - 13s 221ms/step - loss: 8.1108 - accuracy: 0.7420 - val_loss: 7.8795 - val_accuracy: 0.7092\n",
            "Epoch 14/100\n",
            "61/61 [==============================] - 13s 206ms/step - loss: 7.6798 - accuracy: 0.7246 - val_loss: 7.5065 - val_accuracy: 0.7255\n",
            "Epoch 15/100\n",
            "61/61 [==============================] - 13s 205ms/step - loss: 7.2795 - accuracy: 0.7441 - val_loss: 7.1359 - val_accuracy: 0.7614\n",
            "Epoch 16/100\n",
            "61/61 [==============================] - 13s 209ms/step - loss: 6.8967 - accuracy: 0.7677 - val_loss: 6.8010 - val_accuracy: 0.7647\n",
            "Epoch 17/100\n",
            "61/61 [==============================] - 14s 228ms/step - loss: 6.5149 - accuracy: 0.8037 - val_loss: 6.4704 - val_accuracy: 0.7843\n",
            "Epoch 18/100\n",
            "61/61 [==============================] - 13s 220ms/step - loss: 6.2895 - accuracy: 0.7760 - val_loss: 6.2345 - val_accuracy: 0.7680\n",
            "Epoch 19/100\n",
            "61/61 [==============================] - 13s 219ms/step - loss: 5.9967 - accuracy: 0.8016 - val_loss: 5.9524 - val_accuracy: 0.7680\n",
            "Epoch 20/100\n",
            "61/61 [==============================] - 13s 209ms/step - loss: 5.6843 - accuracy: 0.8212 - val_loss: 5.7231 - val_accuracy: 0.8072\n",
            "Epoch 21/100\n",
            "61/61 [==============================] - 13s 221ms/step - loss: 5.6086 - accuracy: 0.8027 - val_loss: 5.7307 - val_accuracy: 0.7745\n",
            "Epoch 22/100\n",
            "61/61 [==============================] - 13s 219ms/step - loss: 5.5580 - accuracy: 0.7903 - val_loss: 5.5618 - val_accuracy: 0.7614\n",
            "Epoch 23/100\n",
            "61/61 [==============================] - 14s 223ms/step - loss: 5.2603 - accuracy: 0.8099 - val_loss: 5.3220 - val_accuracy: 0.7941\n",
            "Epoch 24/100\n",
            "61/61 [==============================] - 13s 220ms/step - loss: 5.0490 - accuracy: 0.8356 - val_loss: 5.1625 - val_accuracy: 0.7810\n",
            "Epoch 25/100\n",
            "61/61 [==============================] - 13s 220ms/step - loss: 4.9305 - accuracy: 0.8314 - val_loss: 5.0776 - val_accuracy: 0.7876\n",
            "Epoch 26/100\n",
            "61/61 [==============================] - 13s 221ms/step - loss: 4.8894 - accuracy: 0.8150 - val_loss: 4.9958 - val_accuracy: 0.8039\n",
            "Epoch 27/100\n",
            "61/61 [==============================] - 13s 208ms/step - loss: 4.8306 - accuracy: 0.8232 - val_loss: 4.9936 - val_accuracy: 0.7974\n",
            "Epoch 28/100\n",
            "61/61 [==============================] - 13s 219ms/step - loss: 4.7525 - accuracy: 0.8397 - val_loss: 4.9988 - val_accuracy: 0.7680\n",
            "Epoch 29/100\n",
            "61/61 [==============================] - 13s 210ms/step - loss: 4.7021 - accuracy: 0.8469 - val_loss: 4.9015 - val_accuracy: 0.8105\n",
            "Epoch 30/100\n",
            "61/61 [==============================] - 14s 231ms/step - loss: 4.6701 - accuracy: 0.8438 - val_loss: 4.8872 - val_accuracy: 0.7876\n",
            "Epoch 31/100\n",
            "61/61 [==============================] - 14s 224ms/step - loss: 4.5315 - accuracy: 0.8592 - val_loss: 4.6575 - val_accuracy: 0.8203\n",
            "Epoch 32/100\n",
            "61/61 [==============================] - 13s 220ms/step - loss: 4.4445 - accuracy: 0.8520 - val_loss: 4.6382 - val_accuracy: 0.7974\n",
            "Epoch 33/100\n",
            "61/61 [==============================] - 14s 222ms/step - loss: 4.3055 - accuracy: 0.8674 - val_loss: 4.5291 - val_accuracy: 0.8137\n",
            "Epoch 34/100\n",
            "61/61 [==============================] - 14s 222ms/step - loss: 4.2939 - accuracy: 0.8386 - val_loss: 4.5689 - val_accuracy: 0.7778\n",
            "Epoch 35/100\n",
            "61/61 [==============================] - 13s 219ms/step - loss: 4.1064 - accuracy: 0.8798 - val_loss: 4.3215 - val_accuracy: 0.8203\n",
            "Epoch 36/100\n",
            "61/61 [==============================] - 14s 223ms/step - loss: 4.0898 - accuracy: 0.8695 - val_loss: 4.3496 - val_accuracy: 0.7941\n",
            "Epoch 37/100\n",
            "61/61 [==============================] - 14s 222ms/step - loss: 4.0907 - accuracy: 0.8571 - val_loss: 4.2800 - val_accuracy: 0.7843\n",
            "Epoch 38/100\n",
            "61/61 [==============================] - 13s 219ms/step - loss: 4.0135 - accuracy: 0.8726 - val_loss: 4.3526 - val_accuracy: 0.7745\n",
            "Epoch 39/100\n",
            "61/61 [==============================] - 13s 220ms/step - loss: 3.8856 - accuracy: 0.8962 - val_loss: 4.2218 - val_accuracy: 0.7941\n",
            "Epoch 40/100\n",
            "61/61 [==============================] - 14s 221ms/step - loss: 3.7960 - accuracy: 0.8993 - val_loss: 4.2233 - val_accuracy: 0.7843\n",
            "Epoch 41/100\n",
            "61/61 [==============================] - 14s 224ms/step - loss: 3.8734 - accuracy: 0.8798 - val_loss: 4.1954 - val_accuracy: 0.8007\n",
            "Epoch 42/100\n",
            "61/61 [==============================] - 13s 219ms/step - loss: 3.8501 - accuracy: 0.8756 - val_loss: 4.2465 - val_accuracy: 0.7647\n",
            "Epoch 43/100\n",
            "61/61 [==============================] - 14s 223ms/step - loss: 3.9722 - accuracy: 0.8674 - val_loss: 4.3989 - val_accuracy: 0.7614\n",
            "Epoch 44/100\n",
            "61/61 [==============================] - 13s 220ms/step - loss: 3.8804 - accuracy: 0.8767 - val_loss: 4.1288 - val_accuracy: 0.7974\n",
            "Epoch 45/100\n",
            "61/61 [==============================] - 14s 223ms/step - loss: 3.7938 - accuracy: 0.8787 - val_loss: 4.0671 - val_accuracy: 0.8072\n",
            "Epoch 46/100\n",
            "61/61 [==============================] - 14s 219ms/step - loss: 3.6639 - accuracy: 0.8952 - val_loss: 3.9634 - val_accuracy: 0.8007\n",
            "Epoch 47/100\n",
            "61/61 [==============================] - 13s 216ms/step - loss: 3.6440 - accuracy: 0.8911 - val_loss: 3.9813 - val_accuracy: 0.8007\n",
            "Epoch 48/100\n",
            "61/61 [==============================] - 13s 218ms/step - loss: 3.5216 - accuracy: 0.9085 - val_loss: 3.8409 - val_accuracy: 0.7974\n",
            "Epoch 49/100\n",
            "61/61 [==============================] - 13s 218ms/step - loss: 3.5203 - accuracy: 0.8941 - val_loss: 3.9081 - val_accuracy: 0.7941\n",
            "Epoch 50/100\n",
            "61/61 [==============================] - 13s 219ms/step - loss: 3.4928 - accuracy: 0.8983 - val_loss: 3.9085 - val_accuracy: 0.7680\n",
            "Epoch 51/100\n",
            "61/61 [==============================] - ETA: 0s - loss: 3.5935 - accuracy: 0.8828Restoring model weights from the end of the best epoch: 31.\n",
            "61/61 [==============================] - 14s 227ms/step - loss: 3.5935 - accuracy: 0.8828 - val_loss: 4.0908 - val_accuracy: 0.7614\n",
            "Epoch 51: early stopping\n"
          ]
        }
      ]
    },
    {
      "cell_type": "markdown",
      "source": [],
      "metadata": {
        "id": "6XEsR1NFH4XI"
      }
    },
    {
      "cell_type": "markdown",
      "source": [
        "### Plot accuracy"
      ],
      "metadata": {
        "id": "dknMI4yoZZng"
      }
    },
    {
      "cell_type": "code",
      "source": [
        "def plot_history(history, title='', axs=None, exp_name=\"\"):\n",
        "    if axs is not None:\n",
        "        ax1, ax2 = axs\n",
        "    else:\n",
        "        f, (ax1, ax2) = plt.subplots(1, 2, figsize=(12, 4))\n",
        "\n",
        "    if len(exp_name) > 0 and exp_name[0] != '_':\n",
        "        exp_name = '_' + exp_name\n",
        "    ax1.plot(history.history['loss'], label='train' + exp_name)\n",
        "    ax1.plot(history.history['val_loss'], label='val' + exp_name)\n",
        "    #ax1.set_ylim(0., 2.2)\n",
        "    ax1.set_title('loss')\n",
        "    ax1.legend()\n",
        "\n",
        "    ax2.plot(history.history['accuracy'], label='train accuracy'  + exp_name)\n",
        "    ax2.plot(history.history['val_accuracy'], label='val accuracy'  + exp_name)\n",
        "    #ax2.set_ylim(0.25, 1.)\n",
        "    ax2.set_title('Accuracy')\n",
        "    ax2.legend()\n",
        "    return (ax1, ax2)"
      ],
      "metadata": {
        "id": "NA9xR3PTA0Uq"
      },
      "execution_count": 17,
      "outputs": []
    },
    {
      "cell_type": "code",
      "source": [
        "plot_history(history)"
      ],
      "metadata": {
        "colab": {
          "base_uri": "https://localhost:8080/",
          "height": 408
        },
        "id": "1vCDkHPXBIha",
        "outputId": "dc44a03f-151a-49ab-db7c-c02dc4323676"
      },
      "execution_count": 18,
      "outputs": [
        {
          "output_type": "execute_result",
          "data": {
            "text/plain": [
              "(<Axes: title={'center': 'loss'}>, <Axes: title={'center': 'Accuracy'}>)"
            ]
          },
          "metadata": {},
          "execution_count": 18
        },
        {
          "output_type": "display_data",
          "data": {
            "text/plain": [
              "<Figure size 1200x400 with 2 Axes>"
            ],
            "image/png": "[encoded data removed]"
          },
          "metadata": {}
        }
      ]
    },
    {
      "cell_type": "code",
      "source": [
        "#overall accuarcy\n",
        "\n",
        "res_vgg = model.evaluate(X_test, y_test)\n",
        "\n",
        "test_accuracy_vgg = res_vgg[-1]\n",
        "\n",
        "\n",
        "print(f\"test_accuracy_vgg = {round(test_accuracy_vgg,2)*100} %\")\n",
        "\n",
        "# print(f\"test_accuracy = {round(test_accuracy,2)*100} %\")\n",
        "\n",
        "print(f'Chance level: {1./num_classes*100:.1f}%')\n"
      ],
      "metadata": {
        "colab": {
          "base_uri": "https://localhost:8080/"
        },
        "id": "DBF0qu1VBUon",
        "outputId": "44c9bd88-2d5c-4186-e137-be983154ef28"
      },
      "execution_count": 19,
      "outputs": [
        {
          "output_type": "stream",
          "name": "stdout",
          "text": [
            "8/8 [==============================] - 3s 269ms/step - loss: 4.8019 - accuracy: 0.7569\n",
            "test_accuracy_vgg = 76.0 %\n",
            "Chance level: 7.1%\n"
          ]
        }
      ]
    },
    {
      "cell_type": "code",
      "source": [
        "predictions = model.predict(X_test)"
      ],
      "metadata": {
        "colab": {
          "base_uri": "https://localhost:8080/"
        },
        "id": "7KcBn5KjBzpd",
        "outputId": "f1aaa3c8-017b-4fc7-9fc2-ed8da082da83"
      },
      "execution_count": 20,
      "outputs": [
        {
          "output_type": "stream",
          "name": "stdout",
          "text": [
            "8/8 [==============================] - 3s 110ms/step\n"
          ]
        }
      ]
    },
    {
      "cell_type": "code",
      "source": [
        "y_pred = []\n",
        "\n",
        "for pred in predictions:\n",
        "  y_pred.append(np.argmax(pred))"
      ],
      "metadata": {
        "id": "TRncxMuXB7uj"
      },
      "execution_count": 21,
      "outputs": []
    },
    {
      "cell_type": "code",
      "source": [
        "y_test_argmax = []\n",
        "for test in y_test:\n",
        "  y_test_argmax.append(np.argmax(test))"
      ],
      "metadata": {
        "id": "rfHnqC7TB95D"
      },
      "execution_count": 22,
      "outputs": []
    },
    {
      "cell_type": "markdown",
      "source": [
        "### Classification Report for each class and overall"
      ],
      "metadata": {
        "id": "MTt2tB5wYCKg"
      }
    },
    {
      "cell_type": "markdown",
      "source": [
        "#### Create accuracy metric"
      ],
      "metadata": {
        "id": "-CzMS5E2aQzW"
      }
    },
    {
      "cell_type": "code",
      "source": [
        "# Return macro accuracy\n",
        "accuracy = accuracy_score(y_test_argmax, y_pred)\n",
        "\n",
        "# Return weighted accuracy\n",
        "accuracy_bal = balanced_accuracy_score(y_test_argmax, y_pred)\n",
        "\n",
        "accuracy, accuracy_bal"
      ],
      "metadata": {
        "colab": {
          "base_uri": "https://localhost:8080/"
        },
        "id": "9ErkDUvnZ6Ql",
        "outputId": "4afb424a-5071-4526-f892-097486d0cf65"
      },
      "execution_count": 23,
      "outputs": [
        {
          "output_type": "execute_result",
          "data": {
            "text/plain": [
              "(0.7568627450980392, 0.761099216401074)"
            ]
          },
          "metadata": {},
          "execution_count": 23
        }
      ]
    },
    {
      "cell_type": "code",
      "source": [
        "from sklearn.metrics import classification_report\n",
        "from sklearn import datasets, svm, metrics"
      ],
      "metadata": {
        "id": "--LpDPVOScaf"
      },
      "execution_count": 24,
      "outputs": []
    },
    {
      "cell_type": "code",
      "source": [
        "#classification report\n",
        "\n",
        "labels=['basking', 'blue', 'hammerhead', 'mako', 'sand tiger', 'tiger', 'white', 'blacktip', 'bull', 'lemon', 'nurse', 'thresher', 'whale', 'whitetip']\n",
        "\n",
        "report = classification_report(y_test_argmax, y_pred, target_names=labels)\n",
        "print(report)"
      ],
      "metadata": {
        "colab": {
          "base_uri": "https://localhost:8080/"
        },
        "id": "iH3TKTl4ZeO9",
        "outputId": "0bf762bf-72c4-4407-b76b-c3965200a665"
      },
      "execution_count": 25,
      "outputs": [
        {
          "output_type": "stream",
          "name": "stdout",
          "text": [
            "              precision    recall  f1-score   support\n",
            "\n",
            "     basking       0.89      0.94      0.91        17\n",
            "        blue       0.67      0.80      0.73        15\n",
            "  hammerhead       1.00      1.00      1.00        19\n",
            "        mako       0.71      0.89      0.79        19\n",
            "  sand tiger       0.50      0.73      0.59        11\n",
            "       tiger       0.67      0.56      0.61        18\n",
            "       white       0.64      0.67      0.65        21\n",
            "    blacktip       0.72      0.87      0.79        15\n",
            "        bull       0.70      0.37      0.48        19\n",
            "       lemon       0.60      0.62      0.61        24\n",
            "       nurse       0.75      0.75      0.75        16\n",
            "    thresher       0.95      0.86      0.90        22\n",
            "       whale       1.00      0.82      0.90        17\n",
            "    whitetip       0.85      0.77      0.81        22\n",
            "\n",
            "    accuracy                           0.76       255\n",
            "   macro avg       0.76      0.76      0.75       255\n",
            "weighted avg       0.77      0.76      0.75       255\n",
            "\n"
          ]
        }
      ]
    },
    {
      "cell_type": "code",
      "source": [
        "#classification report\n",
        "##note that this also ranks accuracy, weight avg and macroavg, so these can be ignored (and taken from the table above)\n",
        "\n",
        "report = classification_report(y_test_argmax, y_pred, target_names=labels, output_dict=True)\n",
        "\n",
        "# Convert the report to a pandas DataFrame\n",
        "df = pd.DataFrame(report).transpose()\n",
        "df = df.sort_values(by='f1-score', ascending=False)\n",
        "df.reset_index(inplace=True)\n",
        "df"
      ],
      "metadata": {
        "colab": {
          "base_uri": "https://localhost:8080/",
          "height": 582
        },
        "id": "O6mEngoTSbAN",
        "outputId": "a3c61f5f-39f1-4773-b079-bd377b049e8f"
      },
      "execution_count": 26,
      "outputs": [
        {
          "output_type": "execute_result",
          "data": {
            "text/plain": [
              "           index  precision    recall  f1-score     support\n",
              "0     hammerhead   1.000000  1.000000  1.000000   19.000000\n",
              "1        basking   0.888889  0.941176  0.914286   17.000000\n",
              "2       thresher   0.950000  0.863636  0.904762   22.000000\n",
              "3          whale   1.000000  0.823529  0.903226   17.000000\n",
              "4       whitetip   0.850000  0.772727  0.809524   22.000000\n",
              "5           mako   0.708333  0.894737  0.790698   19.000000\n",
              "6       blacktip   0.722222  0.866667  0.787879   15.000000\n",
              "7       accuracy   0.756863  0.756863  0.756863    0.756863\n",
              "8   weighted avg   0.766927  0.756863  0.754239  255.000000\n",
              "9      macro avg   0.759939  0.761099  0.752319  255.000000\n",
              "10         nurse   0.750000  0.750000  0.750000   16.000000\n",
              "11          blue   0.666667  0.800000  0.727273   15.000000\n",
              "12         white   0.636364  0.666667  0.651163   21.000000\n",
              "13         lemon   0.600000  0.625000  0.612245   24.000000\n",
              "14         tiger   0.666667  0.555556  0.606061   18.000000\n",
              "15    sand tiger   0.500000  0.727273  0.592593   11.000000\n",
              "16          bull   0.700000  0.368421  0.482759   19.000000"
            ],
            "text/html": [
              "\n",
              "  <div id=\"df-cbdedfee-e908-40f1-b924-902f548c545e\">\n",
              "    <div class=\"colab-df-container\">\n",
              "      <div>\n",
              "<style scoped>\n",
              "    .dataframe tbody tr th:only-of-type {\n",
              "        vertical-align: middle;\n",
              "    }\n",
              "\n",
              "    .dataframe tbody tr th {\n",
              "        vertical-align: top;\n",
              "    }\n",
              "\n",
              "    .dataframe thead th {\n",
              "        text-align: right;\n",
              "    }\n",
              "</style>\n",
              "<table border=\"1\" class=\"dataframe\">\n",
              "  <thead>\n",
              "    <tr style=\"text-align: right;\">\n",
              "      <th></th>\n",
              "      <th>index</th>\n",
              "      <th>precision</th>\n",
              "      <th>recall</th>\n",
              "      <th>f1-score</th>\n",
              "      <th>support</th>\n",
              "    </tr>\n",
              "  </thead>\n",
              "  <tbody>\n",
              "    <tr>\n",
              "      <th>0</th>\n",
              "      <td>hammerhead</td>\n",
              "      <td>1.000000</td>\n",
              "      <td>1.000000</td>\n",
              "      <td>1.000000</td>\n",
              "      <td>19.000000</td>\n",
              "    </tr>\n",
              "    <tr>\n",
              "      <th>1</th>\n",
              "      <td>basking</td>\n",
              "      <td>0.888889</td>\n",
              "      <td>0.941176</td>\n",
              "      <td>0.914286</td>\n",
              "      <td>17.000000</td>\n",
              "    </tr>\n",
              "    <tr>\n",
              "      <th>2</th>\n",
              "      <td>thresher</td>\n",
              "      <td>0.950000</td>\n",
              "      <td>0.863636</td>\n",
              "      <td>0.904762</td>\n",
              "      <td>22.000000</td>\n",
              "    </tr>\n",
              "    <tr>\n",
              "      <th>3</th>\n",
              "      <td>whale</td>\n",
              "      <td>1.000000</td>\n",
              "      <td>0.823529</td>\n",
              "      <td>0.903226</td>\n",
              "      <td>17.000000</td>\n",
              "    </tr>\n",
              "    <tr>\n",
              "      <th>4</th>\n",
              "      <td>whitetip</td>\n",
              "      <td>0.850000</td>\n",
              "      <td>0.772727</td>\n",
              "      <td>0.809524</td>\n",
              "      <td>22.000000</td>\n",
              "    </tr>\n",
              "    <tr>\n",
              "      <th>5</th>\n",
              "      <td>mako</td>\n",
              "      <td>0.708333</td>\n",
              "      <td>0.894737</td>\n",
              "      <td>0.790698</td>\n",
              "      <td>19.000000</td>\n",
              "    </tr>\n",
              "    <tr>\n",
              "      <th>6</th>\n",
              "      <td>blacktip</td>\n",
              "      <td>0.722222</td>\n",
              "      <td>0.866667</td>\n",
              "      <td>0.787879</td>\n",
              "      <td>15.000000</td>\n",
              "    </tr>\n",
              "    <tr>\n",
              "      <th>7</th>\n",
              "      <td>accuracy</td>\n",
              "      <td>0.756863</td>\n",
              "      <td>0.756863</td>\n",
              "      <td>0.756863</td>\n",
              "      <td>0.756863</td>\n",
              "    </tr>\n",
              "    <tr>\n",
              "      <th>8</th>\n",
              "      <td>weighted avg</td>\n",
              "      <td>0.766927</td>\n",
              "      <td>0.756863</td>\n",
              "      <td>0.754239</td>\n",
              "      <td>255.000000</td>\n",
              "    </tr>\n",
              "    <tr>\n",
              "      <th>9</th>\n",
              "      <td>macro avg</td>\n",
              "      <td>0.759939</td>\n",
              "      <td>0.761099</td>\n",
              "      <td>0.752319</td>\n",
              "      <td>255.000000</td>\n",
              "    </tr>\n",
              "    <tr>\n",
              "      <th>10</th>\n",
              "      <td>nurse</td>\n",
              "      <td>0.750000</td>\n",
              "      <td>0.750000</td>\n",
              "      <td>0.750000</td>\n",
              "      <td>16.000000</td>\n",
              "    </tr>\n",
              "    <tr>\n",
              "      <th>11</th>\n",
              "      <td>blue</td>\n",
              "      <td>0.666667</td>\n",
              "      <td>0.800000</td>\n",
              "      <td>0.727273</td>\n",
              "      <td>15.000000</td>\n",
              "    </tr>\n",
              "    <tr>\n",
              "      <th>12</th>\n",
              "      <td>white</td>\n",
              "      <td>0.636364</td>\n",
              "      <td>0.666667</td>\n",
              "      <td>0.651163</td>\n",
              "      <td>21.000000</td>\n",
              "    </tr>\n",
              "    <tr>\n",
              "      <th>13</th>\n",
              "      <td>lemon</td>\n",
              "      <td>0.600000</td>\n",
              "      <td>0.625000</td>\n",
              "      <td>0.612245</td>\n",
              "      <td>24.000000</td>\n",
              "    </tr>\n",
              "    <tr>\n",
              "      <th>14</th>\n",
              "      <td>tiger</td>\n",
              "      <td>0.666667</td>\n",
              "      <td>0.555556</td>\n",
              "      <td>0.606061</td>\n",
              "      <td>18.000000</td>\n",
              "    </tr>\n",
              "    <tr>\n",
              "      <th>15</th>\n",
              "      <td>sand tiger</td>\n",
              "      <td>0.500000</td>\n",
              "      <td>0.727273</td>\n",
              "      <td>0.592593</td>\n",
              "      <td>11.000000</td>\n",
              "    </tr>\n",
              "    <tr>\n",
              "      <th>16</th>\n",
              "      <td>bull</td>\n",
              "      <td>0.700000</td>\n",
              "      <td>0.368421</td>\n",
              "      <td>0.482759</td>\n",
              "      <td>19.000000</td>\n",
              "    </tr>\n",
              "  </tbody>\n",
              "</table>\n",
              "</div>\n",
              "      <button class=\"colab-df-convert\" onclick=\"convertToInteractive('df-cbdedfee-e908-40f1-b924-902f548c545e')\"\n",
              "              title=\"Convert this dataframe to an interactive table.\"\n",
              "              style=\"display:none;\">\n",
              "        \n",
              "  <svg xmlns=\"http://www.w3.org/2000/svg\" height=\"24px\"viewBox=\"0 0 24 24\"\n",
              "       width=\"24px\">\n",
              "    <path d=\"M0 0h24v24H0V0z\" fill=\"none\"/>\n",
              "    <path d=\"M18.56 5.44l.94 2.06.94-2.06 2.06-.94-2.06-.94-.94-2.06-.94 2.06-2.06.94zm-11 1L8.5 8.5l.94-2.06 2.06-.94-2.06-.94L8.5 2.5l-.94 2.06-2.06.94zm10 10l.94 2.06.94-2.06 2.06-.94-2.06-.94-.94-2.06-.94 2.06-2.06.94z\"/><path d=\"M17.41 7.96l-1.37-1.37c-.4-.4-.92-.59-1.43-.59-.52 0-1.04.2-1.43.59L10.3 9.45l-7.72 7.72c-.78.78-.78 2.05 0 2.83L4 21.41c.39.39.9.59 1.41.59.51 0 1.02-.2 1.41-.59l7.78-7.78 2.81-2.81c.8-.78.8-2.07 0-2.86zM5.41 20L4 18.59l7.72-7.72 1.47 1.35L5.41 20z\"/>\n",
              "  </svg>\n",
              "      </button>\n",
              "      \n",
              "  <style>\n",
              "    .colab-df-container {\n",
              "      display:flex;\n",
              "      flex-wrap:wrap;\n",
              "      gap: 12px;\n",
              "    }\n",
              "\n",
              "    .colab-df-convert {\n",
              "      background-color: #E8F0FE;\n",
              "      border: none;\n",
              "      border-radius: 50%;\n",
              "      cursor: pointer;\n",
              "      display: none;\n",
              "      fill: #1967D2;\n",
              "      height: 32px;\n",
              "      padding: 0 0 0 0;\n",
              "      width: 32px;\n",
              "    }\n",
              "\n",
              "    .colab-df-convert:hover {\n",
              "      background-color: #E2EBFA;\n",
              "      box-shadow: 0px 1px 2px rgba(60, 64, 67, 0.3), 0px 1px 3px 1px rgba(60, 64, 67, 0.15);\n",
              "      fill: #174EA6;\n",
              "    }\n",
              "\n",
              "    [theme=dark] .colab-df-convert {\n",
              "      background-color: #3B4455;\n",
              "      fill: #D2E3FC;\n",
              "    }\n",
              "\n",
              "    [theme=dark] .colab-df-convert:hover {\n",
              "      background-color: #434B5C;\n",
              "      box-shadow: 0px 1px 3px 1px rgba(0, 0, 0, 0.15);\n",
              "      filter: drop-shadow(0px 1px 2px rgba(0, 0, 0, 0.3));\n",
              "      fill: #FFFFFF;\n",
              "    }\n",
              "  </style>\n",
              "\n",
              "      <script>\n",
              "        const buttonEl =\n",
              "          document.querySelector('#df-cbdedfee-e908-40f1-b924-902f548c545e button.colab-df-convert');\n",
              "        buttonEl.style.display =\n",
              "          google.colab.kernel.accessAllowed ? 'block' : 'none';\n",
              "\n",
              "        async function convertToInteractive(key) {\n",
              "          const element = document.querySelector('#df-cbdedfee-e908-40f1-b924-902f548c545e');\n",
              "          const dataTable =\n",
              "            await google.colab.kernel.invokeFunction('convertToInteractive',\n",
              "                                                     [key], {});\n",
              "          if (!dataTable) return;\n",
              "\n",
              "          const docLinkHtml = 'Like what you see? Visit the ' +\n",
              "            '<a target=\"_blank\" href=https://colab.research.google.com/notebooks/data_table.ipynb>data table notebook</a>'\n",
              "            + ' to learn more about interactive tables.';\n",
              "          element.innerHTML = '';\n",
              "          dataTable['output_type'] = 'display_data';\n",
              "          await google.colab.output.renderOutput(dataTable, element);\n",
              "          const docLink = document.createElement('div');\n",
              "          docLink.innerHTML = docLinkHtml;\n",
              "          element.appendChild(docLink);\n",
              "        }\n",
              "      </script>\n",
              "    </div>\n",
              "  </div>\n",
              "  "
            ]
          },
          "metadata": {},
          "execution_count": 26
        }
      ]
    },
    {
      "cell_type": "markdown",
      "source": [
        "### Confusion Matrix for class analysis"
      ],
      "metadata": {
        "id": "4jQXpG7EYGdP"
      }
    },
    {
      "cell_type": "code",
      "source": [
        "cm = confusion_matrix(y_test_argmax, y_pred)"
      ],
      "metadata": {
        "id": "jt2yrF9tU3_5"
      },
      "execution_count": 27,
      "outputs": []
    },
    {
      "cell_type": "code",
      "source": [
        "shark_labels = ['basking', 'blue', 'hammerhead', 'mako', 'sand tiger', 'tiger', 'white', 'blacktip', 'bull', 'lemon', 'nurse', 'thresher', 'whale', 'whitetip']\n",
        "\n",
        "disp = ConfusionMatrixDisplay(confusion_matrix=cm, display_labels=shark_labels)\n",
        "\n",
        "fig, ax = plt.subplots(figsize=(10,10))\n",
        "disp.plot(ax=ax)\n",
        "ax.set_xticklabels(shark_labels, rotation=45)\n",
        "\n",
        "plt.show()"
      ],
      "metadata": {
        "colab": {
          "base_uri": "https://localhost:8080/",
          "height": 837
        },
        "id": "I2MAMuFYT9ur",
        "outputId": "f425dfdc-79c7-4c27-c192-3cf13dcd965e"
      },
      "execution_count": 28,
      "outputs": [
        {
          "output_type": "display_data",
          "data": {
            "text/plain": [
              "<Figure size 1000x1000 with 2 Axes>"
            ],
            "image/png": "[encoded data removed]"
          },
          "metadata": {}
        }
      ]
    },
    {
      "cell_type": "code",
      "source": [],
      "metadata": {
        "id": "IjYKgx25U1KJ"
      },
      "execution_count": 28,
      "outputs": []
    }
  ]
}