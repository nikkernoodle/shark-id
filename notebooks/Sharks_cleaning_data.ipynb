{
 "cells": [
  {
   "cell_type": "markdown",
   "id": "13bde2db",
   "metadata": {
    "id": "13bde2db"
   },
   "source": [
    "# Data cleaning"
   ]
  },
  {
   "cell_type": "code",
   "execution_count": null,
   "id": "L25SSdpA1sQ_",
   "metadata": {
    "colab": {
     "base_uri": "https://localhost:8080/"
    },
    "id": "L25SSdpA1sQ_",
    "outputId": "0be0d41a-5a9c-49d4-88e3-0ae3648774c4"
   },
   "outputs": [
    {
     "name": "stdout",
     "output_type": "stream",
     "text": [
      "Mounted at /content/drive\n"
     ]
    }
   ],
   "source": [
    "from google.colab import drive\n",
    "drive.mount('/content/drive')"
   ]
  },
  {
   "cell_type": "code",
   "execution_count": null,
   "id": "d67e0f50",
   "metadata": {
    "id": "d67e0f50"
   },
   "outputs": [],
   "source": [
    "import numpy as np # linear algebra\n",
    "import pandas as pd # data processing, CSV file I/O (e.g. pd.read_csv)\n",
    "import seaborn as sns\n",
    "import matplotlib.pyplot as plt\n",
    "import os, sys\n",
    "import cv2\n",
    "\n",
    "from tensorflow.keras.utils import to_categorical\n",
    "from tensorflow.keras.applications.vgg16 import preprocess_input\n",
    "\n",
    "from tqdm import tqdm\n",
    "from PIL import Image"
   ]
  },
  {
   "cell_type": "code",
   "execution_count": 33,
   "id": "XuFbPR9ED7TA",
   "metadata": {
    "id": "XuFbPR9ED7TA"
   },
   "outputs": [],
   "source": [
    "def load_flowers_data(loading_method):\n",
    "    if loading_method == 'colab':\n",
    "        data_path = '/content/drive/My Drive/shark-datasets/sharks'\n",
    "    elif loading_method == 'direct':\n",
    "        data_path = '../raw_data/sharks/'\n",
    "    classes = {'basking': 0, 'blue': 1, 'hammerhead': 2, 'mako': 3, 'sand tiger': 4, 'tiger': 5, 'white' : 6,\n",
    "               'blacktip': 7 , 'bull': 8, 'lemon':9 , 'nurse': 10, 'thresher': 11, 'whale': 12, 'whitetip': 13}\n",
    "    imgs = []\n",
    "    labels = []\n",
    "    for (cl, i) in classes.items():\n",
    "        images_path = [elt for elt in os.listdir(os.path.join(data_path, cl)) if elt.find('.jpg')>0]\n",
    "        for img in tqdm(images_path[:300]):\n",
    "            path = os.path.join(data_path, cl, img)\n",
    "            if os.path.exists(path):\n",
    "                image = Image.open(path).convert('RGB')\n",
    "                image = image.resize((224, 224))\n",
    "                imgs.append(np.array(image))\n",
    "                labels.append(i)\n",
    "\n",
    "    X = np.array(imgs)\n",
    "    num_classes = len(set(labels))\n",
    "    y = to_categorical(labels, num_classes)\n",
    "\n",
    "    # Finally we shuffle:\n",
    "    p = np.random.permutation(len(X))\n",
    "    X, y = X[p], y[p]\n",
    "\n",
    "    first_split = int(len(imgs) /6.)\n",
    "    second_split = first_split + int(len(imgs) * 0.2)\n",
    "    X_test, X_val, X_train = X[:first_split], X[first_split:second_split], X[second_split:]\n",
    "    y_test, y_val, y_train = y[:first_split], y[first_split:second_split], y[second_split:]\n",
    "\n",
    "    return X_train, y_train, X_val, y_val, X_test, y_test, num_classes"
   ]
  },
  {
   "cell_type": "code",
   "execution_count": 34,
   "id": "mmrqBROXEDaa",
   "metadata": {
    "colab": {
     "base_uri": "https://localhost:8080/"
    },
    "id": "mmrqBROXEDaa",
    "outputId": "15be354c-e6bc-4fe5-ab86-6071a86ad27b"
   },
   "outputs": [
    {
     "name": "stderr",
     "output_type": "stream",
     "text": [
      "100%|██████████| 90/90 [00:07<00:00, 11.75it/s]\n",
      "100%|██████████| 64/64 [00:03<00:00, 19.06it/s]\n",
      "100%|██████████| 124/124 [00:08<00:00, 15.40it/s]\n",
      "100%|██████████| 37/37 [00:02<00:00, 14.57it/s]\n",
      "100%|██████████| 95/95 [00:05<00:00, 18.81it/s]\n",
      "100%|██████████| 94/94 [00:08<00:00, 10.73it/s]\n",
      "100%|██████████| 126/126 [00:08<00:00, 14.91it/s]\n",
      "100%|██████████| 13/13 [00:00<00:00, 22.20it/s]\n",
      "100%|██████████| 103/103 [00:08<00:00, 12.73it/s]\n",
      "100%|██████████| 115/115 [00:04<00:00, 25.76it/s]\n",
      "100%|██████████| 62/62 [00:03<00:00, 19.58it/s]\n",
      "100%|██████████| 108/108 [00:05<00:00, 21.56it/s]\n",
      "100%|██████████| 126/126 [00:10<00:00, 11.71it/s]\n",
      "100%|██████████| 119/119 [00:06<00:00, 17.49it/s]\n"
     ]
    }
   ],
   "source": [
    "X_train, y_train, X_val, y_val, X_test, y_test, num_classes = load_flowers_data(\"colab\")"
   ]
  },
  {
   "cell_type": "code",
   "execution_count": 27,
   "id": "Hx8-bNakGOgj",
   "metadata": {
    "colab": {
     "base_uri": "https://localhost:8080/"
    },
    "id": "Hx8-bNakGOgj",
    "outputId": "9d979ead-b40d-4bab-cc37-75e0935127a7"
   },
   "outputs": [
    {
     "data": {
      "text/plain": [
       "(849, 224, 224, 3)"
      ]
     },
     "execution_count": 27,
     "metadata": {},
     "output_type": "execute_result"
    }
   ],
   "source": [
    "X_train.shape"
   ]
  },
  {
   "cell_type": "code",
   "execution_count": 36,
   "id": "21pgFDal-SPV",
   "metadata": {
    "id": "21pgFDal-SPV"
   },
   "outputs": [],
   "source": [
    "X_train = preprocess_input(X_train)\n",
    "X_val = preprocess_input(X_val)\n",
    "X_test = preprocess_input(X_test)"
   ]
  }
 ],
 "metadata": {
  "colab": {
   "provenance": []
  },
  "kernelspec": {
   "display_name": "Python 3 (ipykernel)",
   "language": "python",
   "name": "python3"
  },
  "language_info": {
   "codemirror_mode": {
    "name": "ipython",
    "version": 3
   },
   "file_extension": ".py",
   "mimetype": "text/x-python",
   "name": "python",
   "nbconvert_exporter": "python",
   "pygments_lexer": "ipython3",
   "version": "3.10.6"
  },
  "toc": {
   "base_numbering": 1,
   "nav_menu": {},
   "number_sections": true,
   "sideBar": true,
   "skip_h1_title": false,
   "title_cell": "Table of Contents",
   "title_sidebar": "Contents",
   "toc_cell": false,
   "toc_position": {},
   "toc_section_display": true,
   "toc_window_display": false
  }
 },
 "nbformat": 4,
 "nbformat_minor": 5
}
