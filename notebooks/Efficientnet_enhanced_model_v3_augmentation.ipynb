{
  "nbformat": 4,
  "nbformat_minor": 0,
  "metadata": {
    "colab": {
      "provenance": [],
      "gpuType": "T4",
      "include_colab_link": true
    },
    "kernelspec": {
      "name": "python3",
      "display_name": "Python 3"
    },
    "language_info": {
      "name": "python"
    },
    "accelerator": "GPU"
  },
  "cells": [
    {
      "cell_type": "markdown",
      "metadata": {
        "id": "view-in-github",
        "colab_type": "text"
      },
      "source": [
        "<a href=\"https://colab.research.google.com/github/nikkernoodle/shark-id/blob/models/Efficientnet_enhanced_model_v3_augmentation.ipynb\" target=\"_parent\"><img src=\"https://colab.research.google.com/assets/colab-badge.svg\" alt=\"Open In Colab\"/></a>"
      ]
    },
    {
      "cell_type": "markdown",
      "source": [
        "# IMPORTS"
      ],
      "metadata": {
        "id": "0I9VGNFmYe8p"
      }
    },
    {
      "cell_type": "code",
      "source": [
        "from google.colab import drive\n",
        "drive.mount('/content/drive', force_remount = True)"
      ],
      "metadata": {
        "colab": {
          "base_uri": "https://localhost:8080/"
        },
        "id": "wJFxFhQg94U9",
        "outputId": "a74cf094-b53e-47a1-bd3d-39828176d057"
      },
      "execution_count": 1,
      "outputs": [
        {
          "output_type": "stream",
          "name": "stdout",
          "text": [
            "Mounted at /content/drive\n"
          ]
        }
      ]
    },
    {
      "cell_type": "code",
      "source": [
        "from tensorflow.keras import layers, models, metrics, optimizers\n",
        "from tensorflow.keras.callbacks import EarlyStopping\n",
        "from tensorflow.keras.utils import to_categorical\n",
        "from tensorflow.keras.preprocessing.image import ImageDataGenerator\n",
        "from tensorflow.keras import regularizers\n",
        "from tensorflow.random import set_seed\n",
        "from tensorflow.keras.applications import EfficientNetB2, EfficientNetB3\n",
        "from tensorflow.keras.preprocessing import image\n",
        "from tensorflow.keras.applications.efficientnet import preprocess_input, decode_predictions\n",
        "\n",
        "from sklearn.metrics import confusion_matrix, ConfusionMatrixDisplay\n",
        "from sklearn.metrics import accuracy_score, balanced_accuracy_score\n",
        "\n",
        "import numpy as np # linear algebra\n",
        "import pandas as pd # data processing, CSV file I/O (e.g. pd.read_csv)\n",
        "import seaborn as sns\n",
        "import matplotlib.pyplot as plt\n",
        "import os, sys\n",
        "import cv2\n",
        "from tqdm import tqdm\n",
        "from PIL import Image"
      ],
      "metadata": {
        "id": "Szbu6ckA96DK"
      },
      "execution_count": 13,
      "outputs": []
    },
    {
      "cell_type": "markdown",
      "source": [
        "# PREPROCESSING"
      ],
      "metadata": {
        "id": "-i1jf484YvgI"
      }
    },
    {
      "cell_type": "code",
      "source": [
        "def load_sharks_data(loading_method):\n",
        "    if loading_method == 'colab':\n",
        "        data_path = '/content/drive/My Drive/shark-datasets/sharks'\n",
        "    elif loading_method == 'direct':\n",
        "        data_path = '../raw_data/sharks/'\n",
        "    classes = {'basking': 0, 'blue': 1, 'hammerhead': 2, 'mako': 3, 'sand tiger': 4, 'tiger': 5, 'white' : 6,\n",
        "               'blacktip': 7 , 'bull': 8, 'lemon':9 , 'nurse': 10, 'thresher': 11, 'whale': 12, 'whitetip': 13}\n",
        "    imgs = []\n",
        "    labels = []\n",
        "    for (cl, i) in classes.items():\n",
        "        images_path = [elt for elt in os.listdir(os.path.join(data_path, cl))]\n",
        "        for img in tqdm(images_path[:300]):\n",
        "            path = os.path.join(data_path, cl, img)\n",
        "            if os.path.exists(path):\n",
        "                image = Image.open(path)\n",
        "                image = image.resize((224, 224))\n",
        "                image = cv2.cvtColor(np.float32(image), cv2.COLOR_BGR2RGB)\n",
        "                imgs.append(np.array(image))\n",
        "                labels.append(i)\n",
        "\n",
        "    X = np.array(imgs)\n",
        "    num_classes = len(set(labels))\n",
        "    y = to_categorical(labels, num_classes)\n",
        "\n",
        "    # Finally we shuffle:\n",
        "    p = np.random.RandomState(seed=42).permutation(len(X))\n",
        "    X, y = X[p], y[p]\n",
        "\n",
        "    first_split = int(len(imgs) /6.)\n",
        "    second_split = first_split + int(len(imgs) * 0.2)\n",
        "    X_test, X_val, X_train = X[:first_split], X[first_split:second_split], X[second_split:]\n",
        "    y_test, y_val, y_train = y[:first_split], y[first_split:second_split], y[second_split:]\n",
        "\n",
        "    return X_train, y_train, X_val, y_val, X_test, y_test, num_classes"
      ],
      "metadata": {
        "id": "xS4kPA-097uD"
      },
      "execution_count": 3,
      "outputs": []
    },
    {
      "cell_type": "code",
      "source": [
        "X_train, y_train, X_val, y_val, X_test, y_test, num_classes = load_sharks_data(\"colab\")"
      ],
      "metadata": {
        "colab": {
          "base_uri": "https://localhost:8080/"
        },
        "id": "VKjdHkHB-roE",
        "outputId": "87905f86-d556-4fb1-aaf0-675df05509ab"
      },
      "execution_count": 4,
      "outputs": [
        {
          "output_type": "stream",
          "name": "stderr",
          "text": [
            "100%|██████████| 93/93 [00:38<00:00,  2.42it/s]\n",
            "100%|██████████| 107/107 [00:08<00:00, 12.98it/s]\n",
            "100%|██████████| 127/127 [00:07<00:00, 16.37it/s]\n",
            "100%|██████████| 101/101 [00:07<00:00, 13.35it/s]\n",
            "100%|██████████| 95/95 [00:38<00:00,  2.45it/s]\n",
            "100%|██████████| 97/97 [00:46<00:00,  2.08it/s]\n",
            "100%|██████████| 135/135 [00:10<00:00, 13.01it/s]\n",
            "100%|██████████| 116/116 [00:07<00:00, 16.25it/s]\n",
            "100%|██████████| 110/110 [00:08<00:00, 12.69it/s]\n",
            "100%|██████████| 119/119 [00:05<00:00, 21.21it/s]\n",
            "100%|██████████| 73/73 [00:28<00:00,  2.59it/s]\n",
            "100%|██████████| 118/118 [00:05<00:00, 21.04it/s]\n",
            "100%|██████████| 133/133 [00:11<00:00, 11.96it/s]\n",
            "100%|██████████| 125/125 [00:08<00:00, 13.91it/s]\n"
          ]
        }
      ]
    },
    {
      "cell_type": "code",
      "source": [
        "X_train.shape, y_train.shape, X_val.shape, y_val.shape, X_test.shape, y_test.shape"
      ],
      "metadata": {
        "id": "7HVR93jWXSbn",
        "colab": {
          "base_uri": "https://localhost:8080/"
        },
        "outputId": "7560843d-e114-41e6-f847-942705a720e7"
      },
      "execution_count": 6,
      "outputs": [
        {
          "output_type": "execute_result",
          "data": {
            "text/plain": [
              "((982, 224, 224, 3),\n",
              " (982, 14),\n",
              " (309, 224, 224, 3),\n",
              " (309, 14),\n",
              " (258, 224, 224, 3),\n",
              " (258, 14))"
            ]
          },
          "metadata": {},
          "execution_count": 6
        }
      ]
    },
    {
      "cell_type": "markdown",
      "source": [
        "# Augmentation"
      ],
      "metadata": {
        "id": "lvpuQum3O_Yx"
      }
    },
    {
      "cell_type": "code",
      "source": [
        "datagen = ImageDataGenerator(\n",
        "    featurewise_center = False,\n",
        "    featurewise_std_normalization = False,\n",
        "    rotation_range = 10,\n",
        "    width_shift_range = 0.1,\n",
        "    height_shift_range = 0.1,\n",
        "    horizontal_flip = True,\n",
        "    zoom_range = (0.8, 1.2),\n",
        "    preprocessing_function=preprocess_input\n",
        "    )\n",
        "\n",
        "datagen.fit(X_train)\n",
        "datagen"
      ],
      "metadata": {
        "colab": {
          "base_uri": "https://localhost:8080/"
        },
        "id": "4y0F8IUwPDGd",
        "outputId": "68cb4aa2-2da8-4df1-d6e0-4e100e3c77ce"
      },
      "execution_count": 7,
      "outputs": [
        {
          "output_type": "execute_result",
          "data": {
            "text/plain": [
              "<keras.preprocessing.image.ImageDataGenerator at 0x7fca2d223ac0>"
            ]
          },
          "metadata": {},
          "execution_count": 7
        }
      ]
    },
    {
      "cell_type": "markdown",
      "source": [
        "## Apply to dataset"
      ],
      "metadata": {
        "id": "J63mfSBkPqJe"
      }
    },
    {
      "cell_type": "code",
      "source": [
        "train_flow = datagen.flow(X_train, y_train, batch_size=16)"
      ],
      "metadata": {
        "id": "LPJvBK9EPnz4"
      },
      "execution_count": 8,
      "outputs": []
    },
    {
      "cell_type": "markdown",
      "source": [
        "# MODEL"
      ],
      "metadata": {
        "id": "VmUpDuKEY2BW"
      }
    },
    {
      "cell_type": "markdown",
      "source": [
        "## Define model"
      ],
      "metadata": {
        "id": "ZbBrJAoiZAXb"
      }
    },
    {
      "cell_type": "code",
      "source": [
        "def load_model():\n",
        "\n",
        "    model = EfficientNetB2(weights=\"imagenet\", include_top=False, input_shape=X_train[0].shape)\n",
        "\n",
        "    return model\n"
      ],
      "metadata": {
        "id": "Z9iUinZa_jtV"
      },
      "execution_count": 9,
      "outputs": []
    },
    {
      "cell_type": "code",
      "source": [
        "model = load_model()\n",
        "# model.summary()"
      ],
      "metadata": {
        "id": "u5KEujGb-uk8"
      },
      "execution_count": null,
      "outputs": []
    },
    {
      "cell_type": "code",
      "source": [
        "def set_nontrainable_layers(model):\n",
        "    # Set the first layers to be untrainable\n",
        "    model.trainable = False\n",
        "\n",
        "    return model"
      ],
      "metadata": {
        "id": "NQdRGDMCAEiX"
      },
      "execution_count": 11,
      "outputs": []
    },
    {
      "cell_type": "code",
      "source": [
        "model = set_nontrainable_layers(model)\n",
        "# model.summary()"
      ],
      "metadata": {
        "id": "sh8-sHZgAMqf"
      },
      "execution_count": 12,
      "outputs": []
    },
    {
      "cell_type": "markdown",
      "source": [
        "### Actually build the model"
      ],
      "metadata": {
        "id": "gtik_Tw9ZJG1"
      }
    },
    {
      "cell_type": "code",
      "source": [
        "def add_last_layers(model):\n",
        "    '''Take a pre-trained model, set its parameters as non-trainable, and add additional trainable layers on top'''\n",
        "    # $CHALLENGIFY_BEGIN\n",
        "    base_model = set_nontrainable_layers(model)\n",
        "    flatten_layer = layers.Flatten()\n",
        "    dense_layer1 = layers.Dense(500, activation='relu', kernel_regularizer=regularizers.L1(0.001))\n",
        "    dropout_layer1 = layers.Dropout(0.3)\n",
        "    dense_layer2 = layers.Dense(400, activation='relu', kernel_regularizer=regularizers.L1(0.001))\n",
        "    dropout_layer2 = layers.Dropout(0.3)\n",
        "    dense_layer3 = layers.Dense(300, activation='relu', kernel_regularizer=regularizers.L1(0.001))\n",
        "    dropout_layer3 = layers.Dropout(0.3)\n",
        "    prediction_layer = layers.Dense(14, activation='softmax')\n",
        "#creating dense layer 1 (changed from 50 to 500), dense layer 2 (400) and dense layer 3 (300) and dropout layers\n",
        "\n",
        "    model = models.Sequential([\n",
        "        base_model,\n",
        "        flatten_layer,\n",
        "        dense_layer1,\n",
        "        dropout_layer1,\n",
        "        dense_layer2,\n",
        "        dropout_layer2,\n",
        "        dense_layer3,\n",
        "        dropout_layer3,\n",
        "        prediction_layer\n",
        "    ])\n",
        "    # $CHALLENGIFY_END\n",
        "    return model"
      ],
      "metadata": {
        "id": "RQ6qF663AQtc"
      },
      "execution_count": 16,
      "outputs": []
    },
    {
      "cell_type": "code",
      "source": [
        "model = add_last_layers(model)\n",
        "model.summary()"
      ],
      "metadata": {
        "colab": {
          "base_uri": "https://localhost:8080/"
        },
        "id": "A559KrQMAhFw",
        "outputId": "42161fe7-604f-4031-f35c-b2b13c9edd40"
      },
      "execution_count": 17,
      "outputs": [
        {
          "output_type": "stream",
          "name": "stdout",
          "text": [
            "Model: \"sequential_1\"\n",
            "_________________________________________________________________\n",
            " Layer (type)                Output Shape              Param #   \n",
            "=================================================================\n",
            " sequential (Sequential)     (None, 14)                42589983  \n",
            "                                                                 \n",
            " flatten_1 (Flatten)         (None, 14)                0         \n",
            "                                                                 \n",
            " dense_4 (Dense)             (None, 500)               7500      \n",
            "                                                                 \n",
            " dropout_3 (Dropout)         (None, 500)               0         \n",
            "                                                                 \n",
            " dense_5 (Dense)             (None, 400)               200400    \n",
            "                                                                 \n",
            " dropout_4 (Dropout)         (None, 400)               0         \n",
            "                                                                 \n",
            " dense_6 (Dense)             (None, 300)               120300    \n",
            "                                                                 \n",
            " dropout_5 (Dropout)         (None, 300)               0         \n",
            "                                                                 \n",
            " dense_7 (Dense)             (None, 14)                4214      \n",
            "                                                                 \n",
            "=================================================================\n",
            "Total params: 42,922,397\n",
            "Trainable params: 332,414\n",
            "Non-trainable params: 42,589,983\n",
            "_________________________________________________________________\n"
          ]
        }
      ]
    },
    {
      "cell_type": "markdown",
      "source": [
        "## Compile EfficientnetB2 + layers"
      ],
      "metadata": {
        "id": "FKwW45-2ZLkf"
      }
    },
    {
      "cell_type": "code",
      "source": [
        "def build_model():\n",
        "\n",
        "    model = load_model()\n",
        "    model = add_last_layers(model)\n",
        "\n",
        "    opt = optimizers.Adam(learning_rate=1e-4)\n",
        "    model.compile(loss='categorical_crossentropy',\n",
        "                  optimizer=opt,\n",
        "                  weighted_metrics=['accuracy'])\n",
        "\n",
        "    return model\n"
      ],
      "metadata": {
        "id": "RMJeFOsFAi2E"
      },
      "execution_count": 18,
      "outputs": []
    },
    {
      "cell_type": "markdown",
      "source": [
        "## Fit the model"
      ],
      "metadata": {
        "id": "4nDGcr9TZWmu"
      }
    },
    {
      "cell_type": "code",
      "source": [
        "model = build_model()\n",
        "model.summary()"
      ],
      "metadata": {
        "colab": {
          "base_uri": "https://localhost:8080/"
        },
        "id": "ahLaOP9kAmyC",
        "outputId": "4a2a0fbb-2b23-4cc3-e7a4-22b06230494f"
      },
      "execution_count": 19,
      "outputs": [
        {
          "output_type": "stream",
          "name": "stdout",
          "text": [
            "Model: \"sequential_2\"\n",
            "_________________________________________________________________\n",
            " Layer (type)                Output Shape              Param #   \n",
            "=================================================================\n",
            " efficientnetb2 (Functional)  (None, 7, 7, 1408)       7768569   \n",
            "                                                                 \n",
            " flatten_2 (Flatten)         (None, 68992)             0         \n",
            "                                                                 \n",
            " dense_8 (Dense)             (None, 500)               34496500  \n",
            "                                                                 \n",
            " dropout_6 (Dropout)         (None, 500)               0         \n",
            "                                                                 \n",
            " dense_9 (Dense)             (None, 400)               200400    \n",
            "                                                                 \n",
            " dropout_7 (Dropout)         (None, 400)               0         \n",
            "                                                                 \n",
            " dense_10 (Dense)            (None, 300)               120300    \n",
            "                                                                 \n",
            " dropout_8 (Dropout)         (None, 300)               0         \n",
            "                                                                 \n",
            " dense_11 (Dense)            (None, 14)                4214      \n",
            "                                                                 \n",
            "=================================================================\n",
            "Total params: 42,589,983\n",
            "Trainable params: 34,821,414\n",
            "Non-trainable params: 7,768,569\n",
            "_________________________________________________________________\n"
          ]
        }
      ]
    },
    {
      "cell_type": "code",
      "source": [
        "set_seed(42)\n",
        "model = build_model()\n",
        "\n",
        "es = EarlyStopping(monitor = 'val_accuracy',\n",
        "                   mode = 'max',\n",
        "                   patience = 20,\n",
        "                   verbose = 1,\n",
        "                   restore_best_weights = True)\n",
        "#patience changes from 5 to 20\n",
        "history = model.fit(train_flow,\n",
        "                    validation_data=(X_val, y_val),\n",
        "                    epochs=100,\n",
        "                    batch_size=16,\n",
        "                    callbacks=[es])\n",
        "#patience changes from 50 to 100\n",
        "#batch_size changed from 16 to 32"
      ],
      "metadata": {
        "colab": {
          "base_uri": "https://localhost:8080/"
        },
        "id": "T_F6HQbCAt32",
        "outputId": "5cf5c143-dd0d-4723-86ab-5301ce3dbfbd"
      },
      "execution_count": 22,
      "outputs": [
        {
          "output_type": "stream",
          "name": "stdout",
          "text": [
            "Epoch 1/100\n",
            "62/62 [==============================] - 42s 332ms/step - loss: 143.3969 - accuracy: 0.1853 - val_loss: 109.2764 - val_accuracy: 0.4078\n",
            "Epoch 2/100\n",
            "62/62 [==============================] - 16s 259ms/step - loss: 85.6242 - accuracy: 0.3238 - val_loss: 65.3960 - val_accuracy: 0.4660\n",
            "Epoch 3/100\n",
            "62/62 [==============================] - 14s 230ms/step - loss: 53.6114 - accuracy: 0.3921 - val_loss: 43.4721 - val_accuracy: 0.5372\n",
            "Epoch 4/100\n",
            "62/62 [==============================] - 14s 219ms/step - loss: 37.4895 - accuracy: 0.4521 - val_loss: 32.2234 - val_accuracy: 0.5566\n",
            "Epoch 5/100\n",
            "62/62 [==============================] - 13s 216ms/step - loss: 29.1424 - accuracy: 0.4766 - val_loss: 26.0914 - val_accuracy: 0.5955\n",
            "Epoch 6/100\n",
            "62/62 [==============================] - 13s 217ms/step - loss: 24.2468 - accuracy: 0.5244 - val_loss: 22.3192 - val_accuracy: 0.6246\n",
            "Epoch 7/100\n",
            "62/62 [==============================] - 14s 222ms/step - loss: 21.3699 - accuracy: 0.5407 - val_loss: 20.2435 - val_accuracy: 0.6440\n",
            "Epoch 8/100\n",
            "62/62 [==============================] - 13s 210ms/step - loss: 19.5114 - accuracy: 0.5509 - val_loss: 18.7631 - val_accuracy: 0.5825\n",
            "Epoch 9/100\n",
            "62/62 [==============================] - 13s 215ms/step - loss: 18.3346 - accuracy: 0.5560 - val_loss: 17.3875 - val_accuracy: 0.6828\n",
            "Epoch 10/100\n",
            "62/62 [==============================] - 15s 239ms/step - loss: 17.1934 - accuracy: 0.5794 - val_loss: 16.8798 - val_accuracy: 0.6570\n",
            "Epoch 11/100\n",
            "62/62 [==============================] - 14s 224ms/step - loss: 16.5050 - accuracy: 0.6018 - val_loss: 15.9627 - val_accuracy: 0.6084\n",
            "Epoch 12/100\n",
            "62/62 [==============================] - 13s 217ms/step - loss: 15.7834 - accuracy: 0.5855 - val_loss: 15.4973 - val_accuracy: 0.6472\n",
            "Epoch 13/100\n",
            "62/62 [==============================] - 13s 216ms/step - loss: 15.2899 - accuracy: 0.6171 - val_loss: 15.0530 - val_accuracy: 0.6570\n",
            "Epoch 14/100\n",
            "62/62 [==============================] - 13s 214ms/step - loss: 14.8596 - accuracy: 0.5957 - val_loss: 14.7917 - val_accuracy: 0.6667\n",
            "Epoch 15/100\n",
            "62/62 [==============================] - 14s 221ms/step - loss: 14.6303 - accuracy: 0.6039 - val_loss: 14.3906 - val_accuracy: 0.6570\n",
            "Epoch 16/100\n",
            "62/62 [==============================] - 13s 209ms/step - loss: 14.2548 - accuracy: 0.5947 - val_loss: 13.9013 - val_accuracy: 0.6472\n",
            "Epoch 17/100\n",
            "62/62 [==============================] - 13s 213ms/step - loss: 13.6979 - accuracy: 0.6283 - val_loss: 13.8499 - val_accuracy: 0.5922\n",
            "Epoch 18/100\n",
            "62/62 [==============================] - 14s 221ms/step - loss: 13.6460 - accuracy: 0.6151 - val_loss: 13.3989 - val_accuracy: 0.6634\n",
            "Epoch 19/100\n",
            "62/62 [==============================] - 13s 212ms/step - loss: 13.3538 - accuracy: 0.6405 - val_loss: 12.9806 - val_accuracy: 0.6796\n",
            "Epoch 20/100\n",
            "62/62 [==============================] - 13s 213ms/step - loss: 12.9103 - accuracy: 0.6405 - val_loss: 12.8764 - val_accuracy: 0.6731\n",
            "Epoch 21/100\n",
            "62/62 [==============================] - 13s 217ms/step - loss: 12.5907 - accuracy: 0.6466 - val_loss: 12.3683 - val_accuracy: 0.6440\n",
            "Epoch 22/100\n",
            "62/62 [==============================] - 13s 217ms/step - loss: 12.1502 - accuracy: 0.6792 - val_loss: 12.0751 - val_accuracy: 0.7217\n",
            "Epoch 23/100\n",
            "62/62 [==============================] - 13s 209ms/step - loss: 12.1424 - accuracy: 0.6721 - val_loss: 12.0347 - val_accuracy: 0.7023\n",
            "Epoch 24/100\n",
            "62/62 [==============================] - 13s 208ms/step - loss: 11.9719 - accuracy: 0.6527 - val_loss: 12.0017 - val_accuracy: 0.6537\n",
            "Epoch 25/100\n",
            "62/62 [==============================] - 13s 205ms/step - loss: 11.6175 - accuracy: 0.6904 - val_loss: 11.6048 - val_accuracy: 0.6926\n",
            "Epoch 26/100\n",
            "62/62 [==============================] - 13s 212ms/step - loss: 11.5845 - accuracy: 0.6721 - val_loss: 11.3976 - val_accuracy: 0.6893\n",
            "Epoch 27/100\n",
            "62/62 [==============================] - 14s 233ms/step - loss: 11.4712 - accuracy: 0.6711 - val_loss: 11.5611 - val_accuracy: 0.6440\n",
            "Epoch 28/100\n",
            "62/62 [==============================] - 13s 215ms/step - loss: 11.1734 - accuracy: 0.6925 - val_loss: 11.2053 - val_accuracy: 0.6861\n",
            "Epoch 29/100\n",
            "62/62 [==============================] - 13s 216ms/step - loss: 10.9133 - accuracy: 0.6731 - val_loss: 10.9061 - val_accuracy: 0.6634\n",
            "Epoch 30/100\n",
            "62/62 [==============================] - 13s 214ms/step - loss: 10.4828 - accuracy: 0.6762 - val_loss: 10.6417 - val_accuracy: 0.6505\n",
            "Epoch 31/100\n",
            "62/62 [==============================] - 13s 209ms/step - loss: 10.4472 - accuracy: 0.7006 - val_loss: 10.3897 - val_accuracy: 0.7184\n",
            "Epoch 32/100\n",
            "62/62 [==============================] - 13s 211ms/step - loss: 10.0786 - accuracy: 0.7077 - val_loss: 10.1644 - val_accuracy: 0.6602\n",
            "Epoch 33/100\n",
            "62/62 [==============================] - 13s 215ms/step - loss: 9.8865 - accuracy: 0.7128 - val_loss: 10.1589 - val_accuracy: 0.6764\n",
            "Epoch 34/100\n",
            "62/62 [==============================] - 13s 208ms/step - loss: 9.9174 - accuracy: 0.6935 - val_loss: 9.9613 - val_accuracy: 0.7120\n",
            "Epoch 35/100\n",
            "62/62 [==============================] - 13s 214ms/step - loss: 9.8153 - accuracy: 0.6894 - val_loss: 9.8311 - val_accuracy: 0.6926\n",
            "Epoch 36/100\n",
            "62/62 [==============================] - 13s 205ms/step - loss: 9.4057 - accuracy: 0.7251 - val_loss: 9.4581 - val_accuracy: 0.6990\n",
            "Epoch 37/100\n",
            "62/62 [==============================] - 12s 198ms/step - loss: 9.3264 - accuracy: 0.6986 - val_loss: 9.6064 - val_accuracy: 0.6926\n",
            "Epoch 38/100\n",
            "62/62 [==============================] - 13s 215ms/step - loss: 9.3201 - accuracy: 0.6935 - val_loss: 9.2195 - val_accuracy: 0.6861\n",
            "Epoch 39/100\n",
            "62/62 [==============================] - 13s 209ms/step - loss: 8.8856 - accuracy: 0.7322 - val_loss: 9.0841 - val_accuracy: 0.6667\n",
            "Epoch 40/100\n",
            "62/62 [==============================] - 13s 214ms/step - loss: 8.8501 - accuracy: 0.7067 - val_loss: 8.9252 - val_accuracy: 0.6990\n",
            "Epoch 41/100\n",
            "62/62 [==============================] - 13s 207ms/step - loss: 8.6758 - accuracy: 0.7047 - val_loss: 8.8402 - val_accuracy: 0.7249\n",
            "Epoch 42/100\n",
            "62/62 [==============================] - 13s 207ms/step - loss: 8.6862 - accuracy: 0.7261 - val_loss: 8.6875 - val_accuracy: 0.7282\n",
            "Epoch 43/100\n",
            "62/62 [==============================] - 13s 210ms/step - loss: 8.4286 - accuracy: 0.7363 - val_loss: 8.5239 - val_accuracy: 0.7023\n",
            "Epoch 44/100\n",
            "62/62 [==============================] - 13s 215ms/step - loss: 8.2335 - accuracy: 0.7515 - val_loss: 8.4290 - val_accuracy: 0.6796\n",
            "Epoch 45/100\n",
            "62/62 [==============================] - 13s 203ms/step - loss: 8.2346 - accuracy: 0.7108 - val_loss: 8.2687 - val_accuracy: 0.7120\n",
            "Epoch 46/100\n",
            "62/62 [==============================] - 12s 195ms/step - loss: 7.9627 - accuracy: 0.7475 - val_loss: 8.1549 - val_accuracy: 0.6893\n",
            "Epoch 47/100\n",
            "62/62 [==============================] - 13s 205ms/step - loss: 7.8281 - accuracy: 0.7556 - val_loss: 8.0574 - val_accuracy: 0.7282\n",
            "Epoch 48/100\n",
            "62/62 [==============================] - 14s 221ms/step - loss: 7.6356 - accuracy: 0.7648 - val_loss: 7.8425 - val_accuracy: 0.7540\n",
            "Epoch 49/100\n",
            "62/62 [==============================] - 13s 204ms/step - loss: 7.5616 - accuracy: 0.7587 - val_loss: 7.7077 - val_accuracy: 0.7152\n",
            "Epoch 50/100\n",
            "62/62 [==============================] - 13s 215ms/step - loss: 7.5377 - accuracy: 0.7464 - val_loss: 7.5724 - val_accuracy: 0.6893\n",
            "Epoch 51/100\n",
            "62/62 [==============================] - 13s 215ms/step - loss: 7.2933 - accuracy: 0.7312 - val_loss: 7.4881 - val_accuracy: 0.6828\n",
            "Epoch 52/100\n",
            "62/62 [==============================] - 13s 214ms/step - loss: 7.1376 - accuracy: 0.7627 - val_loss: 7.1087 - val_accuracy: 0.7152\n",
            "Epoch 53/100\n",
            "62/62 [==============================] - 12s 201ms/step - loss: 7.0081 - accuracy: 0.7515 - val_loss: 7.2111 - val_accuracy: 0.6699\n",
            "Epoch 54/100\n",
            "62/62 [==============================] - 13s 212ms/step - loss: 7.0602 - accuracy: 0.7373 - val_loss: 7.2718 - val_accuracy: 0.7508\n",
            "Epoch 55/100\n",
            "62/62 [==============================] - 13s 211ms/step - loss: 7.0503 - accuracy: 0.7363 - val_loss: 7.1209 - val_accuracy: 0.6893\n",
            "Epoch 56/100\n",
            "62/62 [==============================] - 13s 209ms/step - loss: 6.7355 - accuracy: 0.7699 - val_loss: 6.8888 - val_accuracy: 0.6893\n",
            "Epoch 57/100\n",
            "62/62 [==============================] - 13s 217ms/step - loss: 6.7970 - accuracy: 0.7505 - val_loss: 6.9055 - val_accuracy: 0.7540\n",
            "Epoch 58/100\n",
            "62/62 [==============================] - 13s 204ms/step - loss: 6.4911 - accuracy: 0.7770 - val_loss: 6.6898 - val_accuracy: 0.7152\n",
            "Epoch 59/100\n",
            "62/62 [==============================] - 14s 218ms/step - loss: 6.3321 - accuracy: 0.7841 - val_loss: 6.3686 - val_accuracy: 0.7346\n",
            "Epoch 60/100\n",
            "62/62 [==============================] - 13s 210ms/step - loss: 6.2027 - accuracy: 0.7617 - val_loss: 6.5148 - val_accuracy: 0.7087\n",
            "Epoch 61/100\n",
            "62/62 [==============================] - 14s 219ms/step - loss: 6.2504 - accuracy: 0.7546 - val_loss: 6.5210 - val_accuracy: 0.6893\n",
            "Epoch 62/100\n",
            "62/62 [==============================] - 15s 233ms/step - loss: 6.0895 - accuracy: 0.7790 - val_loss: 6.3034 - val_accuracy: 0.7217\n",
            "Epoch 63/100\n",
            "62/62 [==============================] - 13s 210ms/step - loss: 6.0698 - accuracy: 0.7515 - val_loss: 6.2115 - val_accuracy: 0.7055\n",
            "Epoch 64/100\n",
            "62/62 [==============================] - 13s 211ms/step - loss: 5.8012 - accuracy: 0.7872 - val_loss: 6.1131 - val_accuracy: 0.7282\n",
            "Epoch 65/100\n",
            "62/62 [==============================] - 13s 217ms/step - loss: 5.8322 - accuracy: 0.7729 - val_loss: 6.0634 - val_accuracy: 0.6990\n",
            "Epoch 66/100\n",
            "62/62 [==============================] - 13s 216ms/step - loss: 5.7435 - accuracy: 0.7699 - val_loss: 6.0408 - val_accuracy: 0.6958\n",
            "Epoch 67/100\n",
            "62/62 [==============================] - 13s 212ms/step - loss: 5.8308 - accuracy: 0.7760 - val_loss: 6.2010 - val_accuracy: 0.6893\n",
            "Epoch 68/100\n",
            "62/62 [==============================] - ETA: 0s - loss: 5.8056 - accuracy: 0.7566Restoring model weights from the end of the best epoch: 48.\n",
            "62/62 [==============================] - 14s 227ms/step - loss: 5.8056 - accuracy: 0.7566 - val_loss: 5.7031 - val_accuracy: 0.7346\n",
            "Epoch 68: early stopping\n"
          ]
        }
      ]
    },
    {
      "cell_type": "markdown",
      "source": [],
      "metadata": {
        "id": "6XEsR1NFH4XI"
      }
    },
    {
      "cell_type": "markdown",
      "source": [
        "### Plot accuracy"
      ],
      "metadata": {
        "id": "dknMI4yoZZng"
      }
    },
    {
      "cell_type": "code",
      "source": [
        "def plot_history(history, title='', axs=None, exp_name=\"\"):\n",
        "    if axs is not None:\n",
        "        ax1, ax2 = axs\n",
        "    else:\n",
        "        f, (ax1, ax2) = plt.subplots(1, 2, figsize=(12, 4))\n",
        "\n",
        "    if len(exp_name) > 0 and exp_name[0] != '_':\n",
        "        exp_name = '_' + exp_name\n",
        "    ax1.plot(history.history['loss'], label='train' + exp_name)\n",
        "    ax1.plot(history.history['val_loss'], label='val' + exp_name)\n",
        "    #ax1.set_ylim(0., 2.2)\n",
        "    ax1.set_title('loss')\n",
        "    ax1.legend()\n",
        "\n",
        "    ax2.plot(history.history['accuracy'], label='train accuracy'  + exp_name)\n",
        "    ax2.plot(history.history['val_accuracy'], label='val accuracy'  + exp_name)\n",
        "    #ax2.set_ylim(0.25, 1.)\n",
        "    ax2.set_title('Accuracy')\n",
        "    ax2.legend()\n",
        "    return (ax1, ax2)"
      ],
      "metadata": {
        "id": "NA9xR3PTA0Uq"
      },
      "execution_count": 23,
      "outputs": []
    },
    {
      "cell_type": "code",
      "source": [
        "plot_history(history)"
      ],
      "metadata": {
        "colab": {
          "base_uri": "https://localhost:8080/",
          "height": 408
        },
        "id": "1vCDkHPXBIha",
        "outputId": "54d9e0a6-5b8c-4459-f9c0-34978eec0ec9"
      },
      "execution_count": 24,
      "outputs": [
        {
          "output_type": "execute_result",
          "data": {
            "text/plain": [
              "(<Axes: title={'center': 'loss'}>, <Axes: title={'center': 'Accuracy'}>)"
            ]
          },
          "metadata": {},
          "execution_count": 24
        },
        {
          "output_type": "display_data",
          "data": {
            "text/plain": [
              "<Figure size 1200x400 with 2 Axes>"
            ],
            "image/png": "[encoded data removed]"
          },
          "metadata": {}
        }
      ]
    },
    {
      "cell_type": "code",
      "source": [
        "#overall accuarcy\n",
        "\n",
        "res_vgg = model.evaluate(X_test, y_test)\n",
        "\n",
        "test_accuracy_vgg = res_vgg[-1]\n",
        "\n",
        "\n",
        "print(f\"test_accuracy_vgg = {round(test_accuracy_vgg,2)*100} %\")\n",
        "\n",
        "# print(f\"test_accuracy = {round(test_accuracy,2)*100} %\")\n",
        "\n",
        "print(f'Chance level: {1./num_classes*100:.1f}%')\n"
      ],
      "metadata": {
        "colab": {
          "base_uri": "https://localhost:8080/"
        },
        "id": "DBF0qu1VBUon",
        "outputId": "6b15b430-b20d-4d49-c9bd-65ce52d686a2"
      },
      "execution_count": 25,
      "outputs": [
        {
          "output_type": "stream",
          "name": "stdout",
          "text": [
            "9/9 [==============================] - 2s 150ms/step - loss: 7.9156 - accuracy: 0.7054\n",
            "test_accuracy_vgg = 71.0 %\n",
            "Chance level: 7.1%\n"
          ]
        }
      ]
    },
    {
      "cell_type": "code",
      "source": [
        "predictions = model.predict(X_test)"
      ],
      "metadata": {
        "colab": {
          "base_uri": "https://localhost:8080/"
        },
        "id": "7KcBn5KjBzpd",
        "outputId": "13dd964a-fe06-4f71-a056-a5c8f78be842"
      },
      "execution_count": 26,
      "outputs": [
        {
          "output_type": "stream",
          "name": "stdout",
          "text": [
            "9/9 [==============================] - 3s 93ms/step\n"
          ]
        }
      ]
    },
    {
      "cell_type": "code",
      "source": [
        "y_pred = []\n",
        "\n",
        "for pred in predictions:\n",
        "  y_pred.append(np.argmax(pred))"
      ],
      "metadata": {
        "id": "TRncxMuXB7uj"
      },
      "execution_count": 27,
      "outputs": []
    },
    {
      "cell_type": "code",
      "source": [
        "y_test_argmax = []\n",
        "for test in y_test:\n",
        "  y_test_argmax.append(np.argmax(test))"
      ],
      "metadata": {
        "id": "rfHnqC7TB95D"
      },
      "execution_count": 28,
      "outputs": []
    },
    {
      "cell_type": "markdown",
      "source": [
        "### Classification Report for each class and overall"
      ],
      "metadata": {
        "id": "MTt2tB5wYCKg"
      }
    },
    {
      "cell_type": "markdown",
      "source": [
        "#### Create accuracy metric"
      ],
      "metadata": {
        "id": "-CzMS5E2aQzW"
      }
    },
    {
      "cell_type": "code",
      "source": [
        "# Return macro accuracy\n",
        "accuracy = accuracy_score(y_test_argmax, y_pred)\n",
        "\n",
        "# Return weighted accuracy\n",
        "accuracy_bal = balanced_accuracy_score(y_test_argmax, y_pred)\n",
        "\n",
        "accuracy, accuracy_bal"
      ],
      "metadata": {
        "colab": {
          "base_uri": "https://localhost:8080/"
        },
        "id": "9ErkDUvnZ6Ql",
        "outputId": "072849a8-7a67-449b-85d0-5ce10dd06c97"
      },
      "execution_count": 29,
      "outputs": [
        {
          "output_type": "execute_result",
          "data": {
            "text/plain": [
              "(0.7054263565891473, 0.7005599954986288)"
            ]
          },
          "metadata": {},
          "execution_count": 29
        }
      ]
    },
    {
      "cell_type": "code",
      "source": [
        "from sklearn.metrics import classification_report\n",
        "from sklearn import datasets, svm, metrics"
      ],
      "metadata": {
        "id": "--LpDPVOScaf"
      },
      "execution_count": 30,
      "outputs": []
    },
    {
      "cell_type": "code",
      "source": [
        "#classification report\n",
        "\n",
        "labels=['basking', 'blue', 'hammerhead', 'mako', 'sand tiger', 'tiger', 'white', 'blacktip', 'bull', 'lemon', 'nurse', 'thresher', 'whale', 'whitetip']\n",
        "\n",
        "report = classification_report(y_test_argmax, y_pred, target_names=labels)\n",
        "print(report)"
      ],
      "metadata": {
        "colab": {
          "base_uri": "https://localhost:8080/"
        },
        "id": "iH3TKTl4ZeO9",
        "outputId": "c32be100-b6ef-4e05-ccd4-8c2b652b9311"
      },
      "execution_count": 31,
      "outputs": [
        {
          "output_type": "stream",
          "name": "stdout",
          "text": [
            "              precision    recall  f1-score   support\n",
            "\n",
            "     basking       0.88      0.88      0.88        16\n",
            "        blue       0.73      0.65      0.69        17\n",
            "  hammerhead       0.66      0.95      0.78        22\n",
            "        mako       0.85      0.81      0.83        21\n",
            "  sand tiger       0.62      0.87      0.72        15\n",
            "       tiger       0.80      0.84      0.82        19\n",
            "       white       0.50      0.78      0.61        18\n",
            "    blacktip       0.42      0.36      0.38        14\n",
            "        bull       0.64      0.41      0.50        17\n",
            "       lemon       0.55      0.52      0.54        21\n",
            "       nurse       0.92      0.69      0.79        16\n",
            "    thresher       0.91      0.71      0.80        28\n",
            "       whale       1.00      0.77      0.87        13\n",
            "    whitetip       0.63      0.57      0.60        21\n",
            "\n",
            "    accuracy                           0.71       258\n",
            "   macro avg       0.72      0.70      0.70       258\n",
            "weighted avg       0.72      0.71      0.70       258\n",
            "\n"
          ]
        }
      ]
    },
    {
      "cell_type": "code",
      "source": [
        "#classification report\n",
        "##note that this also ranks accuracy, weight avg and macroavg, so these can be ignored (and taken from the table above)\n",
        "\n",
        "report = classification_report(y_test_argmax, y_pred, target_names=labels, output_dict=True)\n",
        "\n",
        "# Convert the report to a pandas DataFrame\n",
        "df = pd.DataFrame(report).transpose()\n",
        "df = df.sort_values(by='f1-score', ascending=False)\n",
        "df.reset_index(inplace=True)\n",
        "df"
      ],
      "metadata": {
        "colab": {
          "base_uri": "https://localhost:8080/",
          "height": 582
        },
        "id": "O6mEngoTSbAN",
        "outputId": "3ab301b2-74ab-4181-9595-560cb42f676d"
      },
      "execution_count": 32,
      "outputs": [
        {
          "output_type": "execute_result",
          "data": {
            "text/plain": [
              "           index  precision    recall  f1-score     support\n",
              "0        basking   0.875000  0.875000  0.875000   16.000000\n",
              "1          whale   1.000000  0.769231  0.869565   13.000000\n",
              "2           mako   0.850000  0.809524  0.829268   21.000000\n",
              "3          tiger   0.800000  0.842105  0.820513   19.000000\n",
              "4       thresher   0.909091  0.714286  0.800000   28.000000\n",
              "5          nurse   0.916667  0.687500  0.785714   16.000000\n",
              "6     hammerhead   0.656250  0.954545  0.777778   22.000000\n",
              "7     sand tiger   0.619048  0.866667  0.722222   15.000000\n",
              "8       accuracy   0.705426  0.705426  0.705426    0.705426\n",
              "9   weighted avg   0.724131  0.705426  0.703959  258.000000\n",
              "10     macro avg   0.721000  0.700560  0.699818  258.000000\n",
              "11          blue   0.733333  0.647059  0.687500   17.000000\n",
              "12         white   0.500000  0.777778  0.608696   18.000000\n",
              "13      whitetip   0.631579  0.571429  0.600000   21.000000\n",
              "14         lemon   0.550000  0.523810  0.536585   21.000000\n",
              "15          bull   0.636364  0.411765  0.500000   17.000000\n",
              "16      blacktip   0.416667  0.357143  0.384615   14.000000"
            ],
            "text/html": [
              "\n",
              "  <div id=\"df-518b0057-2ecc-414e-822d-0bdd9e697131\">\n",
              "    <div class=\"colab-df-container\">\n",
              "      <div>\n",
              "<style scoped>\n",
              "    .dataframe tbody tr th:only-of-type {\n",
              "        vertical-align: middle;\n",
              "    }\n",
              "\n",
              "    .dataframe tbody tr th {\n",
              "        vertical-align: top;\n",
              "    }\n",
              "\n",
              "    .dataframe thead th {\n",
              "        text-align: right;\n",
              "    }\n",
              "</style>\n",
              "<table border=\"1\" class=\"dataframe\">\n",
              "  <thead>\n",
              "    <tr style=\"text-align: right;\">\n",
              "      <th></th>\n",
              "      <th>index</th>\n",
              "      <th>precision</th>\n",
              "      <th>recall</th>\n",
              "      <th>f1-score</th>\n",
              "      <th>support</th>\n",
              "    </tr>\n",
              "  </thead>\n",
              "  <tbody>\n",
              "    <tr>\n",
              "      <th>0</th>\n",
              "      <td>basking</td>\n",
              "      <td>0.875000</td>\n",
              "      <td>0.875000</td>\n",
              "      <td>0.875000</td>\n",
              "      <td>16.000000</td>\n",
              "    </tr>\n",
              "    <tr>\n",
              "      <th>1</th>\n",
              "      <td>whale</td>\n",
              "      <td>1.000000</td>\n",
              "      <td>0.769231</td>\n",
              "      <td>0.869565</td>\n",
              "      <td>13.000000</td>\n",
              "    </tr>\n",
              "    <tr>\n",
              "      <th>2</th>\n",
              "      <td>mako</td>\n",
              "      <td>0.850000</td>\n",
              "      <td>0.809524</td>\n",
              "      <td>0.829268</td>\n",
              "      <td>21.000000</td>\n",
              "    </tr>\n",
              "    <tr>\n",
              "      <th>3</th>\n",
              "      <td>tiger</td>\n",
              "      <td>0.800000</td>\n",
              "      <td>0.842105</td>\n",
              "      <td>0.820513</td>\n",
              "      <td>19.000000</td>\n",
              "    </tr>\n",
              "    <tr>\n",
              "      <th>4</th>\n",
              "      <td>thresher</td>\n",
              "      <td>0.909091</td>\n",
              "      <td>0.714286</td>\n",
              "      <td>0.800000</td>\n",
              "      <td>28.000000</td>\n",
              "    </tr>\n",
              "    <tr>\n",
              "      <th>5</th>\n",
              "      <td>nurse</td>\n",
              "      <td>0.916667</td>\n",
              "      <td>0.687500</td>\n",
              "      <td>0.785714</td>\n",
              "      <td>16.000000</td>\n",
              "    </tr>\n",
              "    <tr>\n",
              "      <th>6</th>\n",
              "      <td>hammerhead</td>\n",
              "      <td>0.656250</td>\n",
              "      <td>0.954545</td>\n",
              "      <td>0.777778</td>\n",
              "      <td>22.000000</td>\n",
              "    </tr>\n",
              "    <tr>\n",
              "      <th>7</th>\n",
              "      <td>sand tiger</td>\n",
              "      <td>0.619048</td>\n",
              "      <td>0.866667</td>\n",
              "      <td>0.722222</td>\n",
              "      <td>15.000000</td>\n",
              "    </tr>\n",
              "    <tr>\n",
              "      <th>8</th>\n",
              "      <td>accuracy</td>\n",
              "      <td>0.705426</td>\n",
              "      <td>0.705426</td>\n",
              "      <td>0.705426</td>\n",
              "      <td>0.705426</td>\n",
              "    </tr>\n",
              "    <tr>\n",
              "      <th>9</th>\n",
              "      <td>weighted avg</td>\n",
              "      <td>0.724131</td>\n",
              "      <td>0.705426</td>\n",
              "      <td>0.703959</td>\n",
              "      <td>258.000000</td>\n",
              "    </tr>\n",
              "    <tr>\n",
              "      <th>10</th>\n",
              "      <td>macro avg</td>\n",
              "      <td>0.721000</td>\n",
              "      <td>0.700560</td>\n",
              "      <td>0.699818</td>\n",
              "      <td>258.000000</td>\n",
              "    </tr>\n",
              "    <tr>\n",
              "      <th>11</th>\n",
              "      <td>blue</td>\n",
              "      <td>0.733333</td>\n",
              "      <td>0.647059</td>\n",
              "      <td>0.687500</td>\n",
              "      <td>17.000000</td>\n",
              "    </tr>\n",
              "    <tr>\n",
              "      <th>12</th>\n",
              "      <td>white</td>\n",
              "      <td>0.500000</td>\n",
              "      <td>0.777778</td>\n",
              "      <td>0.608696</td>\n",
              "      <td>18.000000</td>\n",
              "    </tr>\n",
              "    <tr>\n",
              "      <th>13</th>\n",
              "      <td>whitetip</td>\n",
              "      <td>0.631579</td>\n",
              "      <td>0.571429</td>\n",
              "      <td>0.600000</td>\n",
              "      <td>21.000000</td>\n",
              "    </tr>\n",
              "    <tr>\n",
              "      <th>14</th>\n",
              "      <td>lemon</td>\n",
              "      <td>0.550000</td>\n",
              "      <td>0.523810</td>\n",
              "      <td>0.536585</td>\n",
              "      <td>21.000000</td>\n",
              "    </tr>\n",
              "    <tr>\n",
              "      <th>15</th>\n",
              "      <td>bull</td>\n",
              "      <td>0.636364</td>\n",
              "      <td>0.411765</td>\n",
              "      <td>0.500000</td>\n",
              "      <td>17.000000</td>\n",
              "    </tr>\n",
              "    <tr>\n",
              "      <th>16</th>\n",
              "      <td>blacktip</td>\n",
              "      <td>0.416667</td>\n",
              "      <td>0.357143</td>\n",
              "      <td>0.384615</td>\n",
              "      <td>14.000000</td>\n",
              "    </tr>\n",
              "  </tbody>\n",
              "</table>\n",
              "</div>\n",
              "      <button class=\"colab-df-convert\" onclick=\"convertToInteractive('df-518b0057-2ecc-414e-822d-0bdd9e697131')\"\n",
              "              title=\"Convert this dataframe to an interactive table.\"\n",
              "              style=\"display:none;\">\n",
              "        \n",
              "  <svg xmlns=\"http://www.w3.org/2000/svg\" height=\"24px\"viewBox=\"0 0 24 24\"\n",
              "       width=\"24px\">\n",
              "    <path d=\"M0 0h24v24H0V0z\" fill=\"none\"/>\n",
              "    <path d=\"M18.56 5.44l.94 2.06.94-2.06 2.06-.94-2.06-.94-.94-2.06-.94 2.06-2.06.94zm-11 1L8.5 8.5l.94-2.06 2.06-.94-2.06-.94L8.5 2.5l-.94 2.06-2.06.94zm10 10l.94 2.06.94-2.06 2.06-.94-2.06-.94-.94-2.06-.94 2.06-2.06.94z\"/><path d=\"M17.41 7.96l-1.37-1.37c-.4-.4-.92-.59-1.43-.59-.52 0-1.04.2-1.43.59L10.3 9.45l-7.72 7.72c-.78.78-.78 2.05 0 2.83L4 21.41c.39.39.9.59 1.41.59.51 0 1.02-.2 1.41-.59l7.78-7.78 2.81-2.81c.8-.78.8-2.07 0-2.86zM5.41 20L4 18.59l7.72-7.72 1.47 1.35L5.41 20z\"/>\n",
              "  </svg>\n",
              "      </button>\n",
              "      \n",
              "  <style>\n",
              "    .colab-df-container {\n",
              "      display:flex;\n",
              "      flex-wrap:wrap;\n",
              "      gap: 12px;\n",
              "    }\n",
              "\n",
              "    .colab-df-convert {\n",
              "      background-color: #E8F0FE;\n",
              "      border: none;\n",
              "      border-radius: 50%;\n",
              "      cursor: pointer;\n",
              "      display: none;\n",
              "      fill: #1967D2;\n",
              "      height: 32px;\n",
              "      padding: 0 0 0 0;\n",
              "      width: 32px;\n",
              "    }\n",
              "\n",
              "    .colab-df-convert:hover {\n",
              "      background-color: #E2EBFA;\n",
              "      box-shadow: 0px 1px 2px rgba(60, 64, 67, 0.3), 0px 1px 3px 1px rgba(60, 64, 67, 0.15);\n",
              "      fill: #174EA6;\n",
              "    }\n",
              "\n",
              "    [theme=dark] .colab-df-convert {\n",
              "      background-color: #3B4455;\n",
              "      fill: #D2E3FC;\n",
              "    }\n",
              "\n",
              "    [theme=dark] .colab-df-convert:hover {\n",
              "      background-color: #434B5C;\n",
              "      box-shadow: 0px 1px 3px 1px rgba(0, 0, 0, 0.15);\n",
              "      filter: drop-shadow(0px 1px 2px rgba(0, 0, 0, 0.3));\n",
              "      fill: #FFFFFF;\n",
              "    }\n",
              "  </style>\n",
              "\n",
              "      <script>\n",
              "        const buttonEl =\n",
              "          document.querySelector('#df-518b0057-2ecc-414e-822d-0bdd9e697131 button.colab-df-convert');\n",
              "        buttonEl.style.display =\n",
              "          google.colab.kernel.accessAllowed ? 'block' : 'none';\n",
              "\n",
              "        async function convertToInteractive(key) {\n",
              "          const element = document.querySelector('#df-518b0057-2ecc-414e-822d-0bdd9e697131');\n",
              "          const dataTable =\n",
              "            await google.colab.kernel.invokeFunction('convertToInteractive',\n",
              "                                                     [key], {});\n",
              "          if (!dataTable) return;\n",
              "\n",
              "          const docLinkHtml = 'Like what you see? Visit the ' +\n",
              "            '<a target=\"_blank\" href=https://colab.research.google.com/notebooks/data_table.ipynb>data table notebook</a>'\n",
              "            + ' to learn more about interactive tables.';\n",
              "          element.innerHTML = '';\n",
              "          dataTable['output_type'] = 'display_data';\n",
              "          await google.colab.output.renderOutput(dataTable, element);\n",
              "          const docLink = document.createElement('div');\n",
              "          docLink.innerHTML = docLinkHtml;\n",
              "          element.appendChild(docLink);\n",
              "        }\n",
              "      </script>\n",
              "    </div>\n",
              "  </div>\n",
              "  "
            ]
          },
          "metadata": {},
          "execution_count": 32
        }
      ]
    },
    {
      "cell_type": "markdown",
      "source": [
        "### Confusion Matrix for class analysis"
      ],
      "metadata": {
        "id": "4jQXpG7EYGdP"
      }
    },
    {
      "cell_type": "code",
      "source": [
        "cm = confusion_matrix(y_test_argmax, y_pred)"
      ],
      "metadata": {
        "id": "jt2yrF9tU3_5"
      },
      "execution_count": 33,
      "outputs": []
    },
    {
      "cell_type": "code",
      "source": [
        "shark_labels = ['basking', 'blue', 'hammerhead', 'mako', 'sand tiger', 'tiger', 'white', 'blacktip', 'bull', 'lemon', 'nurse', 'thresher', 'whale', 'whitetip']\n",
        "\n",
        "disp = ConfusionMatrixDisplay(confusion_matrix=cm, display_labels=shark_labels)\n",
        "\n",
        "fig, ax = plt.subplots(figsize=(10,10))\n",
        "disp.plot(ax=ax)\n",
        "ax.set_xticklabels(shark_labels, rotation=45)\n",
        "\n",
        "plt.show()"
      ],
      "metadata": {
        "colab": {
          "base_uri": "https://localhost:8080/",
          "height": 837
        },
        "id": "I2MAMuFYT9ur",
        "outputId": "0c4233e6-feb6-4040-8121-5c97b8af9d32"
      },
      "execution_count": 34,
      "outputs": [
        {
          "output_type": "display_data",
          "data": {
            "text/plain": [
              "<Figure size 1000x1000 with 2 Axes>"
            ],
            "image/png": "[encoded data removed]"
          },
          "metadata": {}
        }
      ]
    },
    {
      "cell_type": "code",
      "source": [],
      "metadata": {
        "id": "IjYKgx25U1KJ"
      },
      "execution_count": 34,
      "outputs": []
    }
  ]
}