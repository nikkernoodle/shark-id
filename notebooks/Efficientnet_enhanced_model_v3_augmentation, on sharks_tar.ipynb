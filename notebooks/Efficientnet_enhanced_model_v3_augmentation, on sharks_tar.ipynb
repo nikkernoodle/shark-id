{
  "nbformat": 4,
  "nbformat_minor": 0,
  "metadata": {
    "colab": {
      "provenance": [],
      "gpuType": "T4",
      "include_colab_link": true
    },
    "kernelspec": {
      "name": "python3",
      "display_name": "Python 3"
    },
    "language_info": {
      "name": "python"
    },
    "accelerator": "GPU"
  },
  "cells": [
    {
      "cell_type": "markdown",
      "metadata": {
        "id": "view-in-github",
        "colab_type": "text"
      },
      "source": [
        "<a href=\"https://colab.research.google.com/github/nikkernoodle/shark-id/blob/models/Efficientnet_enhanced_model_v3_augmentation%2C%20on%20sharks_tar.ipynb\" target=\"_parent\"><img src=\"https://colab.research.google.com/assets/colab-badge.svg\" alt=\"Open In Colab\"/></a>"
      ]
    },
    {
      "cell_type": "markdown",
      "source": [
        "# IMPORTS"
      ],
      "metadata": {
        "id": "0I9VGNFmYe8p"
      }
    },
    {
      "cell_type": "code",
      "source": [
        "from google.colab import drive\n",
        "drive.mount('/content/drive', force_remount = True)"
      ],
      "metadata": {
        "colab": {
          "base_uri": "https://localhost:8080/"
        },
        "id": "wJFxFhQg94U9",
        "outputId": "01f64ad5-11b3-4fd7-c003-d30a88edcc80"
      },
      "execution_count": 1,
      "outputs": [
        {
          "output_type": "stream",
          "name": "stdout",
          "text": [
            "Mounted at /content/drive\n"
          ]
        }
      ]
    },
    {
      "cell_type": "code",
      "source": [
        "from tensorflow.keras import layers, models, metrics, optimizers\n",
        "from tensorflow.keras.callbacks import EarlyStopping\n",
        "from tensorflow.keras.utils import to_categorical\n",
        "from tensorflow.keras.preprocessing.image import ImageDataGenerator\n",
        "from tensorflow.keras import regularizers\n",
        "from tensorflow.random import set_seed\n",
        "from tensorflow.keras.applications import EfficientNetB2, EfficientNetB3\n",
        "from tensorflow.keras.preprocessing import image\n",
        "from tensorflow.keras.applications.efficientnet import preprocess_input, decode_predictions\n",
        "\n",
        "from sklearn.metrics import confusion_matrix, ConfusionMatrixDisplay\n",
        "from sklearn.metrics import accuracy_score, balanced_accuracy_score\n",
        "\n",
        "import numpy as np # linear algebra\n",
        "import pandas as pd # data processing, CSV file I/O (e.g. pd.read_csv)\n",
        "import seaborn as sns\n",
        "import matplotlib.pyplot as plt\n",
        "import os, sys\n",
        "import cv2\n",
        "from tqdm import tqdm\n",
        "from PIL import Image"
      ],
      "metadata": {
        "id": "Szbu6ckA96DK"
      },
      "execution_count": 2,
      "outputs": []
    },
    {
      "cell_type": "markdown",
      "source": [
        "# PREPROCESSING"
      ],
      "metadata": {
        "id": "-i1jf484YvgI"
      }
    },
    {
      "cell_type": "code",
      "source": [
        "def load_sharks_data(loading_method):\n",
        "    if loading_method == 'colab':\n",
        "        data_path = '/content/drive/My Drive/shark-datasets/sharks_tar'\n",
        "    elif loading_method == 'direct':\n",
        "        data_path = '../raw_data/sharks/'\n",
        "    classes = {'basking': 0, 'blue': 1, 'hammerhead': 2, 'mako': 3, 'sand tiger': 4, 'tiger': 5, 'white' : 6,\n",
        "               'blacktip': 7 , 'bull': 8, 'lemon':9 , 'nurse': 10, 'thresher': 11, 'whale': 12, 'whitetip': 13}\n",
        "    imgs = []\n",
        "    labels = []\n",
        "    for (cl, i) in classes.items():\n",
        "        images_path = [elt for elt in os.listdir(os.path.join(data_path, cl))]\n",
        "        for img in tqdm(images_path[:300]):\n",
        "            path = os.path.join(data_path, cl, img)\n",
        "            if os.path.exists(path):\n",
        "                image = Image.open(path)\n",
        "                image = image.resize((224, 224))\n",
        "                image = cv2.cvtColor(np.float32(image), cv2.COLOR_BGR2RGB)\n",
        "                imgs.append(np.array(image))\n",
        "                labels.append(i)\n",
        "\n",
        "    X = np.array(imgs)\n",
        "    num_classes = len(set(labels))\n",
        "    y = to_categorical(labels, num_classes)\n",
        "\n",
        "    # Finally we shuffle:\n",
        "    p = np.random.RandomState(seed=42).permutation(len(X))\n",
        "    X, y = X[p], y[p]\n",
        "\n",
        "    first_split = int(len(imgs) /6.)\n",
        "    second_split = first_split + int(len(imgs) * 0.2)\n",
        "    X_test, X_val, X_train = X[:first_split], X[first_split:second_split], X[second_split:]\n",
        "    y_test, y_val, y_train = y[:first_split], y[first_split:second_split], y[second_split:]\n",
        "\n",
        "    return X_train, y_train, X_val, y_val, X_test, y_test, num_classes"
      ],
      "metadata": {
        "id": "xS4kPA-097uD"
      },
      "execution_count": 3,
      "outputs": []
    },
    {
      "cell_type": "code",
      "source": [
        "X_train, y_train, X_val, y_val, X_test, y_test, num_classes = load_sharks_data(\"colab\")"
      ],
      "metadata": {
        "colab": {
          "base_uri": "https://localhost:8080/"
        },
        "id": "VKjdHkHB-roE",
        "outputId": "2c04e7ab-58fd-4cc7-93c0-b888d7e7030f"
      },
      "execution_count": 4,
      "outputs": [
        {
          "output_type": "stream",
          "name": "stderr",
          "text": [
            "100%|██████████| 93/93 [00:28<00:00,  3.31it/s]\n",
            "100%|██████████| 107/107 [00:07<00:00, 14.47it/s]\n",
            "100%|██████████| 127/127 [00:07<00:00, 16.47it/s]\n",
            "100%|██████████| 100/100 [00:06<00:00, 15.94it/s]\n",
            "100%|██████████| 94/94 [00:26<00:00,  3.57it/s]\n",
            "100%|██████████| 97/97 [00:33<00:00,  2.93it/s]\n",
            "100%|██████████| 134/134 [00:08<00:00, 15.47it/s]\n",
            "100%|██████████| 113/113 [00:06<00:00, 18.71it/s]\n",
            "100%|██████████| 107/107 [00:06<00:00, 16.93it/s]\n",
            "100%|██████████| 119/119 [00:06<00:00, 19.53it/s]\n",
            "100%|██████████| 71/71 [00:18<00:00,  3.79it/s]\n",
            "100%|██████████| 116/116 [00:05<00:00, 19.58it/s]\n",
            "100%|██████████| 132/132 [00:09<00:00, 14.24it/s]\n",
            "100%|██████████| 124/124 [00:07<00:00, 16.02it/s]\n"
          ]
        }
      ]
    },
    {
      "cell_type": "code",
      "source": [
        "X_train.shape, y_train.shape, X_val.shape, y_val.shape, X_test.shape, y_test.shape"
      ],
      "metadata": {
        "id": "7HVR93jWXSbn",
        "colab": {
          "base_uri": "https://localhost:8080/"
        },
        "outputId": "cd29ed9a-f335-4717-c972-cae4bc69cffa"
      },
      "execution_count": 5,
      "outputs": [
        {
          "output_type": "execute_result",
          "data": {
            "text/plain": [
              "((973, 224, 224, 3),\n",
              " (973, 14),\n",
              " (306, 224, 224, 3),\n",
              " (306, 14),\n",
              " (255, 224, 224, 3),\n",
              " (255, 14))"
            ]
          },
          "metadata": {},
          "execution_count": 5
        }
      ]
    },
    {
      "cell_type": "markdown",
      "source": [
        "# Augmentation"
      ],
      "metadata": {
        "id": "lvpuQum3O_Yx"
      }
    },
    {
      "cell_type": "code",
      "source": [
        "datagen = ImageDataGenerator(\n",
        "    featurewise_center = False,\n",
        "    featurewise_std_normalization = False,\n",
        "    rotation_range = 10,\n",
        "    width_shift_range = 0.1,\n",
        "    height_shift_range = 0.1,\n",
        "    horizontal_flip = True,\n",
        "    zoom_range = (0.8, 1.2),\n",
        "    preprocessing_function=preprocess_input\n",
        "    )\n",
        "\n",
        "datagen.fit(X_train)\n",
        "datagen"
      ],
      "metadata": {
        "colab": {
          "base_uri": "https://localhost:8080/"
        },
        "id": "4y0F8IUwPDGd",
        "outputId": "2aac8d36-7201-4114-fe80-27065dfa8042"
      },
      "execution_count": 6,
      "outputs": [
        {
          "output_type": "execute_result",
          "data": {
            "text/plain": [
              "<keras.preprocessing.image.ImageDataGenerator at 0x7f5898f66ef0>"
            ]
          },
          "metadata": {},
          "execution_count": 6
        }
      ]
    },
    {
      "cell_type": "markdown",
      "source": [
        "## Apply to dataset"
      ],
      "metadata": {
        "id": "J63mfSBkPqJe"
      }
    },
    {
      "cell_type": "code",
      "source": [
        "train_flow = datagen.flow(X_train, y_train, batch_size=16)"
      ],
      "metadata": {
        "id": "LPJvBK9EPnz4"
      },
      "execution_count": 7,
      "outputs": []
    },
    {
      "cell_type": "markdown",
      "source": [
        "# MODEL"
      ],
      "metadata": {
        "id": "VmUpDuKEY2BW"
      }
    },
    {
      "cell_type": "markdown",
      "source": [
        "## Define model"
      ],
      "metadata": {
        "id": "ZbBrJAoiZAXb"
      }
    },
    {
      "cell_type": "code",
      "source": [
        "def load_model():\n",
        "\n",
        "    model = EfficientNetB2(weights=\"imagenet\", include_top=False, input_shape=X_train[0].shape)\n",
        "\n",
        "    return model\n"
      ],
      "metadata": {
        "id": "Z9iUinZa_jtV"
      },
      "execution_count": 8,
      "outputs": []
    },
    {
      "cell_type": "code",
      "source": [
        "model = load_model()\n",
        "# model.summary()"
      ],
      "metadata": {
        "id": "u5KEujGb-uk8",
        "colab": {
          "base_uri": "https://localhost:8080/"
        },
        "outputId": "df36fb85-7a31-4215-dc82-40fdf132465d"
      },
      "execution_count": 9,
      "outputs": [
        {
          "output_type": "stream",
          "name": "stdout",
          "text": [
            "Downloading data from https://storage.googleapis.com/keras-applications/efficientnetb2_notop.h5\n",
            "31790344/31790344 [==============================] - 0s 0us/step\n"
          ]
        }
      ]
    },
    {
      "cell_type": "code",
      "source": [
        "def set_nontrainable_layers(model):\n",
        "    # Set the first layers to be untrainable\n",
        "    model.trainable = False\n",
        "\n",
        "    return model"
      ],
      "metadata": {
        "id": "NQdRGDMCAEiX"
      },
      "execution_count": 10,
      "outputs": []
    },
    {
      "cell_type": "code",
      "source": [
        "model = set_nontrainable_layers(model)\n",
        "# model.summary()"
      ],
      "metadata": {
        "id": "sh8-sHZgAMqf"
      },
      "execution_count": 11,
      "outputs": []
    },
    {
      "cell_type": "markdown",
      "source": [
        "### Actually build the model"
      ],
      "metadata": {
        "id": "gtik_Tw9ZJG1"
      }
    },
    {
      "cell_type": "code",
      "source": [
        "def add_last_layers(model):\n",
        "    '''Take a pre-trained model, set its parameters as non-trainable, and add additional trainable layers on top'''\n",
        "    # $CHALLENGIFY_BEGIN\n",
        "    base_model = set_nontrainable_layers(model)\n",
        "    flatten_layer = layers.Flatten()\n",
        "    dense_layer1 = layers.Dense(500, activation='relu', kernel_regularizer=regularizers.L1(0.001))\n",
        "    dropout_layer1 = layers.Dropout(0.3)\n",
        "    dense_layer2 = layers.Dense(400, activation='relu', kernel_regularizer=regularizers.L1(0.001))\n",
        "    dropout_layer2 = layers.Dropout(0.3)\n",
        "    dense_layer3 = layers.Dense(300, activation='relu', kernel_regularizer=regularizers.L1(0.001))\n",
        "    dropout_layer3 = layers.Dropout(0.3)\n",
        "    prediction_layer = layers.Dense(14, activation='softmax')\n",
        "#creating dense layer 1 (changed from 50 to 500), dense layer 2 (400) and dense layer 3 (300) and dropout layers\n",
        "\n",
        "    model = models.Sequential([\n",
        "        base_model,\n",
        "        flatten_layer,\n",
        "        dense_layer1,\n",
        "        dropout_layer1,\n",
        "        dense_layer2,\n",
        "        dropout_layer2,\n",
        "        dense_layer3,\n",
        "        dropout_layer3,\n",
        "        prediction_layer\n",
        "    ])\n",
        "    # $CHALLENGIFY_END\n",
        "    return model"
      ],
      "metadata": {
        "id": "RQ6qF663AQtc"
      },
      "execution_count": 12,
      "outputs": []
    },
    {
      "cell_type": "code",
      "source": [
        "model = add_last_layers(model)\n",
        "model.summary()"
      ],
      "metadata": {
        "colab": {
          "base_uri": "https://localhost:8080/"
        },
        "id": "A559KrQMAhFw",
        "outputId": "bf0a57cc-14b1-4a9c-d532-675051db3478"
      },
      "execution_count": 13,
      "outputs": [
        {
          "output_type": "stream",
          "name": "stdout",
          "text": [
            "Model: \"sequential\"\n",
            "_________________________________________________________________\n",
            " Layer (type)                Output Shape              Param #   \n",
            "=================================================================\n",
            " efficientnetb2 (Functional)  (None, 7, 7, 1408)       7768569   \n",
            "                                                                 \n",
            " flatten (Flatten)           (None, 68992)             0         \n",
            "                                                                 \n",
            " dense (Dense)               (None, 500)               34496500  \n",
            "                                                                 \n",
            " dropout (Dropout)           (None, 500)               0         \n",
            "                                                                 \n",
            " dense_1 (Dense)             (None, 400)               200400    \n",
            "                                                                 \n",
            " dropout_1 (Dropout)         (None, 400)               0         \n",
            "                                                                 \n",
            " dense_2 (Dense)             (None, 300)               120300    \n",
            "                                                                 \n",
            " dropout_2 (Dropout)         (None, 300)               0         \n",
            "                                                                 \n",
            " dense_3 (Dense)             (None, 14)                4214      \n",
            "                                                                 \n",
            "=================================================================\n",
            "Total params: 42,589,983\n",
            "Trainable params: 34,821,414\n",
            "Non-trainable params: 7,768,569\n",
            "_________________________________________________________________\n"
          ]
        }
      ]
    },
    {
      "cell_type": "markdown",
      "source": [
        "## Compile EfficientnetB2 + layers"
      ],
      "metadata": {
        "id": "FKwW45-2ZLkf"
      }
    },
    {
      "cell_type": "code",
      "source": [
        "def build_model():\n",
        "\n",
        "    model = load_model()\n",
        "    model = add_last_layers(model)\n",
        "\n",
        "    opt = optimizers.Adam(learning_rate=1e-4)\n",
        "    model.compile(loss='categorical_crossentropy',\n",
        "                  optimizer=opt,\n",
        "                  weighted_metrics=['accuracy'])\n",
        "\n",
        "    return model\n"
      ],
      "metadata": {
        "id": "RMJeFOsFAi2E"
      },
      "execution_count": 14,
      "outputs": []
    },
    {
      "cell_type": "markdown",
      "source": [
        "## Fit the model"
      ],
      "metadata": {
        "id": "4nDGcr9TZWmu"
      }
    },
    {
      "cell_type": "code",
      "source": [
        "model = build_model()\n",
        "model.summary()"
      ],
      "metadata": {
        "colab": {
          "base_uri": "https://localhost:8080/"
        },
        "id": "ahLaOP9kAmyC",
        "outputId": "2621dea8-e6b1-46b4-8a65-551f4f307412"
      },
      "execution_count": 15,
      "outputs": [
        {
          "output_type": "stream",
          "name": "stdout",
          "text": [
            "Model: \"sequential_1\"\n",
            "_________________________________________________________________\n",
            " Layer (type)                Output Shape              Param #   \n",
            "=================================================================\n",
            " efficientnetb2 (Functional)  (None, 7, 7, 1408)       7768569   \n",
            "                                                                 \n",
            " flatten_1 (Flatten)         (None, 68992)             0         \n",
            "                                                                 \n",
            " dense_4 (Dense)             (None, 500)               34496500  \n",
            "                                                                 \n",
            " dropout_3 (Dropout)         (None, 500)               0         \n",
            "                                                                 \n",
            " dense_5 (Dense)             (None, 400)               200400    \n",
            "                                                                 \n",
            " dropout_4 (Dropout)         (None, 400)               0         \n",
            "                                                                 \n",
            " dense_6 (Dense)             (None, 300)               120300    \n",
            "                                                                 \n",
            " dropout_5 (Dropout)         (None, 300)               0         \n",
            "                                                                 \n",
            " dense_7 (Dense)             (None, 14)                4214      \n",
            "                                                                 \n",
            "=================================================================\n",
            "Total params: 42,589,983\n",
            "Trainable params: 34,821,414\n",
            "Non-trainable params: 7,768,569\n",
            "_________________________________________________________________\n"
          ]
        }
      ]
    },
    {
      "cell_type": "code",
      "source": [
        "set_seed(42)\n",
        "model = build_model()\n",
        "\n",
        "es = EarlyStopping(monitor = 'val_accuracy',\n",
        "                   mode = 'max',\n",
        "                   patience = 20,\n",
        "                   verbose = 1,\n",
        "                   restore_best_weights = True)\n",
        "#patience changes from 5 to 20\n",
        "history = model.fit(train_flow,\n",
        "                    validation_data=(X_val, y_val),\n",
        "                    epochs=100,\n",
        "                    batch_size=16,\n",
        "                    callbacks=[es])\n",
        "#patience changes from 50 to 100\n",
        "#batch_size changed from 16 to 32"
      ],
      "metadata": {
        "colab": {
          "base_uri": "https://localhost:8080/"
        },
        "id": "T_F6HQbCAt32",
        "outputId": "63b9ba43-ab4a-4e5c-a320-cae590b27b7b"
      },
      "execution_count": 16,
      "outputs": [
        {
          "output_type": "stream",
          "name": "stdout",
          "text": [
            "Epoch 1/100\n",
            "61/61 [==============================] - 36s 277ms/step - loss: 143.6702 - accuracy: 0.1819 - val_loss: 110.4824 - val_accuracy: 0.3889\n",
            "Epoch 2/100\n",
            "61/61 [==============================] - 13s 218ms/step - loss: 86.6010 - accuracy: 0.2765 - val_loss: 66.1601 - val_accuracy: 0.5033\n",
            "Epoch 3/100\n",
            "61/61 [==============================] - 13s 212ms/step - loss: 54.2805 - accuracy: 0.3782 - val_loss: 43.8936 - val_accuracy: 0.5752\n",
            "Epoch 4/100\n",
            "61/61 [==============================] - 13s 220ms/step - loss: 38.1293 - accuracy: 0.4090 - val_loss: 32.6324 - val_accuracy: 0.5588\n",
            "Epoch 5/100\n",
            "61/61 [==============================] - 14s 222ms/step - loss: 29.5407 - accuracy: 0.4512 - val_loss: 26.3407 - val_accuracy: 0.6536\n",
            "Epoch 6/100\n",
            "61/61 [==============================] - 13s 212ms/step - loss: 24.8967 - accuracy: 0.4758 - val_loss: 22.8720 - val_accuracy: 0.6471\n",
            "Epoch 7/100\n",
            "61/61 [==============================] - 13s 220ms/step - loss: 22.0650 - accuracy: 0.4954 - val_loss: 20.5543 - val_accuracy: 0.7026\n",
            "Epoch 8/100\n",
            "61/61 [==============================] - 13s 219ms/step - loss: 19.9089 - accuracy: 0.5324 - val_loss: 18.7852 - val_accuracy: 0.7124\n",
            "Epoch 9/100\n",
            "61/61 [==============================] - 13s 218ms/step - loss: 18.5318 - accuracy: 0.5385 - val_loss: 17.9149 - val_accuracy: 0.6993\n",
            "Epoch 10/100\n",
            "61/61 [==============================] - 14s 236ms/step - loss: 17.6969 - accuracy: 0.5745 - val_loss: 17.0417 - val_accuracy: 0.7026\n",
            "Epoch 11/100\n",
            "61/61 [==============================] - 13s 218ms/step - loss: 17.0922 - accuracy: 0.5540 - val_loss: 16.3686 - val_accuracy: 0.6961\n",
            "Epoch 12/100\n",
            "61/61 [==============================] - 13s 221ms/step - loss: 16.2632 - accuracy: 0.5755 - val_loss: 15.7141 - val_accuracy: 0.7222\n",
            "Epoch 13/100\n",
            "61/61 [==============================] - 13s 218ms/step - loss: 15.6252 - accuracy: 0.5889 - val_loss: 15.2247 - val_accuracy: 0.6634\n",
            "Epoch 14/100\n",
            "61/61 [==============================] - 12s 203ms/step - loss: 15.1244 - accuracy: 0.5940 - val_loss: 14.8891 - val_accuracy: 0.6993\n",
            "Epoch 15/100\n",
            "61/61 [==============================] - 12s 194ms/step - loss: 14.9144 - accuracy: 0.5971 - val_loss: 14.4885 - val_accuracy: 0.6993\n",
            "Epoch 16/100\n",
            "61/61 [==============================] - 13s 209ms/step - loss: 14.4607 - accuracy: 0.6125 - val_loss: 14.1243 - val_accuracy: 0.7222\n",
            "Epoch 17/100\n",
            "61/61 [==============================] - 13s 217ms/step - loss: 14.2170 - accuracy: 0.6187 - val_loss: 13.8744 - val_accuracy: 0.6863\n",
            "Epoch 18/100\n",
            "61/61 [==============================] - 12s 204ms/step - loss: 13.9465 - accuracy: 0.6341 - val_loss: 13.6368 - val_accuracy: 0.6928\n",
            "Epoch 19/100\n",
            "61/61 [==============================] - 12s 202ms/step - loss: 13.6880 - accuracy: 0.6095 - val_loss: 13.1678 - val_accuracy: 0.7516\n",
            "Epoch 20/100\n",
            "61/61 [==============================] - 12s 198ms/step - loss: 13.1959 - accuracy: 0.6300 - val_loss: 12.9654 - val_accuracy: 0.6895\n",
            "Epoch 21/100\n",
            "61/61 [==============================] - 13s 215ms/step - loss: 12.8238 - accuracy: 0.6331 - val_loss: 12.5823 - val_accuracy: 0.7353\n",
            "Epoch 22/100\n",
            "61/61 [==============================] - 13s 217ms/step - loss: 12.6613 - accuracy: 0.6475 - val_loss: 12.3367 - val_accuracy: 0.6961\n",
            "Epoch 23/100\n",
            "61/61 [==============================] - 12s 197ms/step - loss: 12.3904 - accuracy: 0.6475 - val_loss: 12.3598 - val_accuracy: 0.7059\n",
            "Epoch 24/100\n",
            "61/61 [==============================] - 12s 188ms/step - loss: 12.3188 - accuracy: 0.6259 - val_loss: 12.1158 - val_accuracy: 0.6993\n",
            "Epoch 25/100\n",
            "61/61 [==============================] - 13s 209ms/step - loss: 12.0951 - accuracy: 0.6444 - val_loss: 11.8092 - val_accuracy: 0.7190\n",
            "Epoch 26/100\n",
            "61/61 [==============================] - 13s 208ms/step - loss: 11.7005 - accuracy: 0.6629 - val_loss: 11.5664 - val_accuracy: 0.7386\n",
            "Epoch 27/100\n",
            "61/61 [==============================] - 13s 215ms/step - loss: 11.5879 - accuracy: 0.6567 - val_loss: 11.5109 - val_accuracy: 0.7059\n",
            "Epoch 28/100\n",
            "61/61 [==============================] - 14s 232ms/step - loss: 11.4239 - accuracy: 0.6413 - val_loss: 11.3974 - val_accuracy: 0.7320\n",
            "Epoch 29/100\n",
            "61/61 [==============================] - 13s 207ms/step - loss: 11.2956 - accuracy: 0.6691 - val_loss: 10.7967 - val_accuracy: 0.7288\n",
            "Epoch 30/100\n",
            "61/61 [==============================] - 13s 216ms/step - loss: 10.7648 - accuracy: 0.6732 - val_loss: 10.6848 - val_accuracy: 0.7092\n",
            "Epoch 31/100\n",
            "61/61 [==============================] - 12s 195ms/step - loss: 10.8080 - accuracy: 0.6845 - val_loss: 10.5372 - val_accuracy: 0.7353\n",
            "Epoch 32/100\n",
            "61/61 [==============================] - 12s 203ms/step - loss: 10.5331 - accuracy: 0.6742 - val_loss: 10.6381 - val_accuracy: 0.6961\n",
            "Epoch 33/100\n",
            "61/61 [==============================] - 13s 215ms/step - loss: 10.5786 - accuracy: 0.6793 - val_loss: 10.0958 - val_accuracy: 0.7582\n",
            "Epoch 34/100\n",
            "61/61 [==============================] - 13s 206ms/step - loss: 10.0592 - accuracy: 0.7020 - val_loss: 10.1821 - val_accuracy: 0.7026\n",
            "Epoch 35/100\n",
            "61/61 [==============================] - 13s 208ms/step - loss: 10.1077 - accuracy: 0.6650 - val_loss: 9.8901 - val_accuracy: 0.6993\n",
            "Epoch 36/100\n",
            "61/61 [==============================] - 13s 209ms/step - loss: 9.7942 - accuracy: 0.7009 - val_loss: 9.7584 - val_accuracy: 0.7288\n",
            "Epoch 37/100\n",
            "61/61 [==============================] - 12s 194ms/step - loss: 9.7867 - accuracy: 0.6906 - val_loss: 9.7902 - val_accuracy: 0.7320\n",
            "Epoch 38/100\n",
            "61/61 [==============================] - 13s 216ms/step - loss: 9.5904 - accuracy: 0.7040 - val_loss: 9.2196 - val_accuracy: 0.7092\n",
            "Epoch 39/100\n",
            "61/61 [==============================] - 13s 208ms/step - loss: 9.1341 - accuracy: 0.7153 - val_loss: 9.1551 - val_accuracy: 0.6732\n",
            "Epoch 40/100\n",
            "61/61 [==============================] - 13s 214ms/step - loss: 8.9538 - accuracy: 0.7102 - val_loss: 9.0310 - val_accuracy: 0.7288\n",
            "Epoch 41/100\n",
            "61/61 [==============================] - 13s 209ms/step - loss: 9.0690 - accuracy: 0.7081 - val_loss: 8.8715 - val_accuracy: 0.7418\n",
            "Epoch 42/100\n",
            "61/61 [==============================] - 13s 203ms/step - loss: 8.8310 - accuracy: 0.7174 - val_loss: 8.9499 - val_accuracy: 0.7124\n",
            "Epoch 43/100\n",
            "61/61 [==============================] - 13s 208ms/step - loss: 8.8160 - accuracy: 0.7133 - val_loss: 8.5963 - val_accuracy: 0.7386\n",
            "Epoch 44/100\n",
            "61/61 [==============================] - 12s 200ms/step - loss: 8.6630 - accuracy: 0.7328 - val_loss: 8.6028 - val_accuracy: 0.7124\n",
            "Epoch 45/100\n",
            "61/61 [==============================] - 12s 194ms/step - loss: 8.5253 - accuracy: 0.6989 - val_loss: 8.5198 - val_accuracy: 0.7353\n",
            "Epoch 46/100\n",
            "61/61 [==============================] - 13s 207ms/step - loss: 8.4315 - accuracy: 0.7122 - val_loss: 8.2177 - val_accuracy: 0.7124\n",
            "Epoch 47/100\n",
            "61/61 [==============================] - 13s 213ms/step - loss: 8.1082 - accuracy: 0.7030 - val_loss: 7.8546 - val_accuracy: 0.7353\n",
            "Epoch 48/100\n",
            "61/61 [==============================] - 13s 204ms/step - loss: 7.7228 - accuracy: 0.7554 - val_loss: 7.8826 - val_accuracy: 0.6928\n",
            "Epoch 49/100\n",
            "61/61 [==============================] - 13s 217ms/step - loss: 7.8330 - accuracy: 0.7194 - val_loss: 7.8761 - val_accuracy: 0.6993\n",
            "Epoch 50/100\n",
            "61/61 [==============================] - 13s 207ms/step - loss: 7.7406 - accuracy: 0.7348 - val_loss: 7.7914 - val_accuracy: 0.6765\n",
            "Epoch 51/100\n",
            "61/61 [==============================] - 13s 215ms/step - loss: 7.5892 - accuracy: 0.7297 - val_loss: 7.7058 - val_accuracy: 0.7418\n",
            "Epoch 52/100\n",
            "61/61 [==============================] - 13s 217ms/step - loss: 7.5488 - accuracy: 0.7441 - val_loss: 7.5947 - val_accuracy: 0.7418\n",
            "Epoch 53/100\n",
            "61/61 [==============================] - ETA: 0s - loss: 7.3739 - accuracy: 0.7400Restoring model weights from the end of the best epoch: 33.\n",
            "61/61 [==============================] - 13s 214ms/step - loss: 7.3739 - accuracy: 0.7400 - val_loss: 7.2335 - val_accuracy: 0.7255\n",
            "Epoch 53: early stopping\n"
          ]
        }
      ]
    },
    {
      "cell_type": "markdown",
      "source": [],
      "metadata": {
        "id": "6XEsR1NFH4XI"
      }
    },
    {
      "cell_type": "markdown",
      "source": [
        "### Plot accuracy"
      ],
      "metadata": {
        "id": "dknMI4yoZZng"
      }
    },
    {
      "cell_type": "code",
      "source": [
        "def plot_history(history, title='', axs=None, exp_name=\"\"):\n",
        "    if axs is not None:\n",
        "        ax1, ax2 = axs\n",
        "    else:\n",
        "        f, (ax1, ax2) = plt.subplots(1, 2, figsize=(12, 4))\n",
        "\n",
        "    if len(exp_name) > 0 and exp_name[0] != '_':\n",
        "        exp_name = '_' + exp_name\n",
        "    ax1.plot(history.history['loss'], label='train' + exp_name)\n",
        "    ax1.plot(history.history['val_loss'], label='val' + exp_name)\n",
        "    #ax1.set_ylim(0., 2.2)\n",
        "    ax1.set_title('loss')\n",
        "    ax1.legend()\n",
        "\n",
        "    ax2.plot(history.history['accuracy'], label='train accuracy'  + exp_name)\n",
        "    ax2.plot(history.history['val_accuracy'], label='val accuracy'  + exp_name)\n",
        "    #ax2.set_ylim(0.25, 1.)\n",
        "    ax2.set_title('Accuracy')\n",
        "    ax2.legend()\n",
        "    return (ax1, ax2)"
      ],
      "metadata": {
        "id": "NA9xR3PTA0Uq"
      },
      "execution_count": 17,
      "outputs": []
    },
    {
      "cell_type": "code",
      "source": [
        "plot_history(history)"
      ],
      "metadata": {
        "colab": {
          "base_uri": "https://localhost:8080/",
          "height": 408
        },
        "id": "1vCDkHPXBIha",
        "outputId": "ff3cc6a5-0e91-4a7e-e155-92223a3b45a8"
      },
      "execution_count": 18,
      "outputs": [
        {
          "output_type": "execute_result",
          "data": {
            "text/plain": [
              "(<Axes: title={'center': 'loss'}>, <Axes: title={'center': 'Accuracy'}>)"
            ]
          },
          "metadata": {},
          "execution_count": 18
        },
        {
          "output_type": "display_data",
          "data": {
            "text/plain": [
              "<Figure size 1200x400 with 2 Axes>"
            ],
            "image/png": "[encoded data removed]"
          },
          "metadata": {}
        }
      ]
    },
    {
      "cell_type": "code",
      "source": [
        "#overall accuarcy\n",
        "\n",
        "res_vgg = model.evaluate(X_test, y_test)\n",
        "\n",
        "test_accuracy_vgg = res_vgg[-1]\n",
        "\n",
        "\n",
        "print(f\"test_accuracy_vgg = {round(test_accuracy_vgg,2)*100} %\")\n",
        "\n",
        "# print(f\"test_accuracy = {round(test_accuracy,2)*100} %\")\n",
        "\n",
        "print(f'Chance level: {1./num_classes*100:.1f}%')\n"
      ],
      "metadata": {
        "colab": {
          "base_uri": "https://localhost:8080/"
        },
        "id": "DBF0qu1VBUon",
        "outputId": "58549567-40f7-4b3d-e86c-495d7303a911"
      },
      "execution_count": 19,
      "outputs": [
        {
          "output_type": "stream",
          "name": "stdout",
          "text": [
            "8/8 [==============================] - 3s 241ms/step - loss: 10.2090 - accuracy: 0.7294\n",
            "test_accuracy_vgg = 73.0 %\n",
            "Chance level: 7.1%\n"
          ]
        }
      ]
    },
    {
      "cell_type": "code",
      "source": [
        "predictions = model.predict(X_test)"
      ],
      "metadata": {
        "colab": {
          "base_uri": "https://localhost:8080/"
        },
        "id": "7KcBn5KjBzpd",
        "outputId": "5bef5e3d-797a-498f-c9a5-d19629c5aaca"
      },
      "execution_count": 20,
      "outputs": [
        {
          "output_type": "stream",
          "name": "stdout",
          "text": [
            "8/8 [==============================] - 3s 89ms/step\n"
          ]
        }
      ]
    },
    {
      "cell_type": "code",
      "source": [
        "y_pred = []\n",
        "\n",
        "for pred in predictions:\n",
        "  y_pred.append(np.argmax(pred))"
      ],
      "metadata": {
        "id": "TRncxMuXB7uj"
      },
      "execution_count": 21,
      "outputs": []
    },
    {
      "cell_type": "code",
      "source": [
        "y_test_argmax = []\n",
        "for test in y_test:\n",
        "  y_test_argmax.append(np.argmax(test))"
      ],
      "metadata": {
        "id": "rfHnqC7TB95D"
      },
      "execution_count": 22,
      "outputs": []
    },
    {
      "cell_type": "markdown",
      "source": [
        "### Classification Report for each class and overall"
      ],
      "metadata": {
        "id": "MTt2tB5wYCKg"
      }
    },
    {
      "cell_type": "markdown",
      "source": [
        "#### Create accuracy metric"
      ],
      "metadata": {
        "id": "-CzMS5E2aQzW"
      }
    },
    {
      "cell_type": "code",
      "source": [
        "# Return macro accuracy\n",
        "accuracy = accuracy_score(y_test_argmax, y_pred)\n",
        "\n",
        "# Return weighted accuracy\n",
        "accuracy_bal = balanced_accuracy_score(y_test_argmax, y_pred)\n",
        "\n",
        "accuracy, accuracy_bal"
      ],
      "metadata": {
        "colab": {
          "base_uri": "https://localhost:8080/"
        },
        "id": "9ErkDUvnZ6Ql",
        "outputId": "d97dca70-8834-4896-de29-a85d208de41e"
      },
      "execution_count": 23,
      "outputs": [
        {
          "output_type": "execute_result",
          "data": {
            "text/plain": [
              "(0.7294117647058823, 0.731212927754834)"
            ]
          },
          "metadata": {},
          "execution_count": 23
        }
      ]
    },
    {
      "cell_type": "code",
      "source": [
        "from sklearn.metrics import classification_report\n",
        "from sklearn import datasets, svm, metrics"
      ],
      "metadata": {
        "id": "--LpDPVOScaf"
      },
      "execution_count": 24,
      "outputs": []
    },
    {
      "cell_type": "code",
      "source": [
        "#classification report\n",
        "\n",
        "labels=['basking', 'blue', 'hammerhead', 'mako', 'sand tiger', 'tiger', 'white', 'blacktip', 'bull', 'lemon', 'nurse', 'thresher', 'whale', 'whitetip']\n",
        "\n",
        "report = classification_report(y_test_argmax, y_pred, target_names=labels)\n",
        "print(report)"
      ],
      "metadata": {
        "colab": {
          "base_uri": "https://localhost:8080/"
        },
        "id": "iH3TKTl4ZeO9",
        "outputId": "11ee037d-6f48-439a-84ca-93b0f1c79531"
      },
      "execution_count": 25,
      "outputs": [
        {
          "output_type": "stream",
          "name": "stdout",
          "text": [
            "              precision    recall  f1-score   support\n",
            "\n",
            "     basking       0.89      1.00      0.94        17\n",
            "        blue       1.00      0.40      0.57        15\n",
            "  hammerhead       0.75      0.95      0.84        19\n",
            "        mako       1.00      0.74      0.85        19\n",
            "  sand tiger       0.50      0.64      0.56        11\n",
            "       tiger       0.69      0.50      0.58        18\n",
            "       white       0.64      0.76      0.70        21\n",
            "    blacktip       0.62      0.87      0.72        15\n",
            "        bull       0.53      0.53      0.53        19\n",
            "       lemon       0.62      0.54      0.58        24\n",
            "       nurse       0.88      0.94      0.91        16\n",
            "    thresher       0.90      0.86      0.88        22\n",
            "       whale       0.83      0.88      0.86        17\n",
            "    whitetip       0.61      0.64      0.62        22\n",
            "\n",
            "    accuracy                           0.73       255\n",
            "   macro avg       0.75      0.73      0.72       255\n",
            "weighted avg       0.75      0.73      0.72       255\n",
            "\n"
          ]
        }
      ]
    },
    {
      "cell_type": "code",
      "source": [
        "#classification report\n",
        "##note that this also ranks accuracy, weight avg and macroavg, so these can be ignored (and taken from the table above)\n",
        "\n",
        "report = classification_report(y_test_argmax, y_pred, target_names=labels, output_dict=True)\n",
        "\n",
        "# Convert the report to a pandas DataFrame\n",
        "df = pd.DataFrame(report).transpose()\n",
        "df = df.sort_values(by='f1-score', ascending=False)\n",
        "df.reset_index(inplace=True)\n",
        "df"
      ],
      "metadata": {
        "colab": {
          "base_uri": "https://localhost:8080/",
          "height": 582
        },
        "id": "O6mEngoTSbAN",
        "outputId": "b594f1af-13c2-435d-8738-35d301a754a8"
      },
      "execution_count": 26,
      "outputs": [
        {
          "output_type": "execute_result",
          "data": {
            "text/plain": [
              "           index  precision    recall  f1-score     support\n",
              "0        basking   0.894737  1.000000  0.944444   17.000000\n",
              "1          nurse   0.882353  0.937500  0.909091   16.000000\n",
              "2       thresher   0.904762  0.863636  0.883721   22.000000\n",
              "3          whale   0.833333  0.882353  0.857143   17.000000\n",
              "4           mako   1.000000  0.736842  0.848485   19.000000\n",
              "5     hammerhead   0.750000  0.947368  0.837209   19.000000\n",
              "6       accuracy   0.729412  0.729412  0.729412    0.729412\n",
              "7   weighted avg   0.747393  0.729412  0.724797  255.000000\n",
              "8      macro avg   0.747900  0.731213  0.724026  255.000000\n",
              "9       blacktip   0.619048  0.866667  0.722222   15.000000\n",
              "10         white   0.640000  0.761905  0.695652   21.000000\n",
              "11      whitetip   0.608696  0.636364  0.622222   22.000000\n",
              "12         tiger   0.692308  0.500000  0.580645   18.000000\n",
              "13         lemon   0.619048  0.541667  0.577778   24.000000\n",
              "14          blue   1.000000  0.400000  0.571429   15.000000\n",
              "15    sand tiger   0.500000  0.636364  0.560000   11.000000\n",
              "16          bull   0.526316  0.526316  0.526316   19.000000"
            ],
            "text/html": [
              "\n",
              "  <div id=\"df-0eb9f9a6-7d37-4e77-a9f7-81d34f81561a\">\n",
              "    <div class=\"colab-df-container\">\n",
              "      <div>\n",
              "<style scoped>\n",
              "    .dataframe tbody tr th:only-of-type {\n",
              "        vertical-align: middle;\n",
              "    }\n",
              "\n",
              "    .dataframe tbody tr th {\n",
              "        vertical-align: top;\n",
              "    }\n",
              "\n",
              "    .dataframe thead th {\n",
              "        text-align: right;\n",
              "    }\n",
              "</style>\n",
              "<table border=\"1\" class=\"dataframe\">\n",
              "  <thead>\n",
              "    <tr style=\"text-align: right;\">\n",
              "      <th></th>\n",
              "      <th>index</th>\n",
              "      <th>precision</th>\n",
              "      <th>recall</th>\n",
              "      <th>f1-score</th>\n",
              "      <th>support</th>\n",
              "    </tr>\n",
              "  </thead>\n",
              "  <tbody>\n",
              "    <tr>\n",
              "      <th>0</th>\n",
              "      <td>basking</td>\n",
              "      <td>0.894737</td>\n",
              "      <td>1.000000</td>\n",
              "      <td>0.944444</td>\n",
              "      <td>17.000000</td>\n",
              "    </tr>\n",
              "    <tr>\n",
              "      <th>1</th>\n",
              "      <td>nurse</td>\n",
              "      <td>0.882353</td>\n",
              "      <td>0.937500</td>\n",
              "      <td>0.909091</td>\n",
              "      <td>16.000000</td>\n",
              "    </tr>\n",
              "    <tr>\n",
              "      <th>2</th>\n",
              "      <td>thresher</td>\n",
              "      <td>0.904762</td>\n",
              "      <td>0.863636</td>\n",
              "      <td>0.883721</td>\n",
              "      <td>22.000000</td>\n",
              "    </tr>\n",
              "    <tr>\n",
              "      <th>3</th>\n",
              "      <td>whale</td>\n",
              "      <td>0.833333</td>\n",
              "      <td>0.882353</td>\n",
              "      <td>0.857143</td>\n",
              "      <td>17.000000</td>\n",
              "    </tr>\n",
              "    <tr>\n",
              "      <th>4</th>\n",
              "      <td>mako</td>\n",
              "      <td>1.000000</td>\n",
              "      <td>0.736842</td>\n",
              "      <td>0.848485</td>\n",
              "      <td>19.000000</td>\n",
              "    </tr>\n",
              "    <tr>\n",
              "      <th>5</th>\n",
              "      <td>hammerhead</td>\n",
              "      <td>0.750000</td>\n",
              "      <td>0.947368</td>\n",
              "      <td>0.837209</td>\n",
              "      <td>19.000000</td>\n",
              "    </tr>\n",
              "    <tr>\n",
              "      <th>6</th>\n",
              "      <td>accuracy</td>\n",
              "      <td>0.729412</td>\n",
              "      <td>0.729412</td>\n",
              "      <td>0.729412</td>\n",
              "      <td>0.729412</td>\n",
              "    </tr>\n",
              "    <tr>\n",
              "      <th>7</th>\n",
              "      <td>weighted avg</td>\n",
              "      <td>0.747393</td>\n",
              "      <td>0.729412</td>\n",
              "      <td>0.724797</td>\n",
              "      <td>255.000000</td>\n",
              "    </tr>\n",
              "    <tr>\n",
              "      <th>8</th>\n",
              "      <td>macro avg</td>\n",
              "      <td>0.747900</td>\n",
              "      <td>0.731213</td>\n",
              "      <td>0.724026</td>\n",
              "      <td>255.000000</td>\n",
              "    </tr>\n",
              "    <tr>\n",
              "      <th>9</th>\n",
              "      <td>blacktip</td>\n",
              "      <td>0.619048</td>\n",
              "      <td>0.866667</td>\n",
              "      <td>0.722222</td>\n",
              "      <td>15.000000</td>\n",
              "    </tr>\n",
              "    <tr>\n",
              "      <th>10</th>\n",
              "      <td>white</td>\n",
              "      <td>0.640000</td>\n",
              "      <td>0.761905</td>\n",
              "      <td>0.695652</td>\n",
              "      <td>21.000000</td>\n",
              "    </tr>\n",
              "    <tr>\n",
              "      <th>11</th>\n",
              "      <td>whitetip</td>\n",
              "      <td>0.608696</td>\n",
              "      <td>0.636364</td>\n",
              "      <td>0.622222</td>\n",
              "      <td>22.000000</td>\n",
              "    </tr>\n",
              "    <tr>\n",
              "      <th>12</th>\n",
              "      <td>tiger</td>\n",
              "      <td>0.692308</td>\n",
              "      <td>0.500000</td>\n",
              "      <td>0.580645</td>\n",
              "      <td>18.000000</td>\n",
              "    </tr>\n",
              "    <tr>\n",
              "      <th>13</th>\n",
              "      <td>lemon</td>\n",
              "      <td>0.619048</td>\n",
              "      <td>0.541667</td>\n",
              "      <td>0.577778</td>\n",
              "      <td>24.000000</td>\n",
              "    </tr>\n",
              "    <tr>\n",
              "      <th>14</th>\n",
              "      <td>blue</td>\n",
              "      <td>1.000000</td>\n",
              "      <td>0.400000</td>\n",
              "      <td>0.571429</td>\n",
              "      <td>15.000000</td>\n",
              "    </tr>\n",
              "    <tr>\n",
              "      <th>15</th>\n",
              "      <td>sand tiger</td>\n",
              "      <td>0.500000</td>\n",
              "      <td>0.636364</td>\n",
              "      <td>0.560000</td>\n",
              "      <td>11.000000</td>\n",
              "    </tr>\n",
              "    <tr>\n",
              "      <th>16</th>\n",
              "      <td>bull</td>\n",
              "      <td>0.526316</td>\n",
              "      <td>0.526316</td>\n",
              "      <td>0.526316</td>\n",
              "      <td>19.000000</td>\n",
              "    </tr>\n",
              "  </tbody>\n",
              "</table>\n",
              "</div>\n",
              "      <button class=\"colab-df-convert\" onclick=\"convertToInteractive('df-0eb9f9a6-7d37-4e77-a9f7-81d34f81561a')\"\n",
              "              title=\"Convert this dataframe to an interactive table.\"\n",
              "              style=\"display:none;\">\n",
              "        \n",
              "  <svg xmlns=\"http://www.w3.org/2000/svg\" height=\"24px\"viewBox=\"0 0 24 24\"\n",
              "       width=\"24px\">\n",
              "    <path d=\"M0 0h24v24H0V0z\" fill=\"none\"/>\n",
              "    <path d=\"M18.56 5.44l.94 2.06.94-2.06 2.06-.94-2.06-.94-.94-2.06-.94 2.06-2.06.94zm-11 1L8.5 8.5l.94-2.06 2.06-.94-2.06-.94L8.5 2.5l-.94 2.06-2.06.94zm10 10l.94 2.06.94-2.06 2.06-.94-2.06-.94-.94-2.06-.94 2.06-2.06.94z\"/><path d=\"M17.41 7.96l-1.37-1.37c-.4-.4-.92-.59-1.43-.59-.52 0-1.04.2-1.43.59L10.3 9.45l-7.72 7.72c-.78.78-.78 2.05 0 2.83L4 21.41c.39.39.9.59 1.41.59.51 0 1.02-.2 1.41-.59l7.78-7.78 2.81-2.81c.8-.78.8-2.07 0-2.86zM5.41 20L4 18.59l7.72-7.72 1.47 1.35L5.41 20z\"/>\n",
              "  </svg>\n",
              "      </button>\n",
              "      \n",
              "  <style>\n",
              "    .colab-df-container {\n",
              "      display:flex;\n",
              "      flex-wrap:wrap;\n",
              "      gap: 12px;\n",
              "    }\n",
              "\n",
              "    .colab-df-convert {\n",
              "      background-color: #E8F0FE;\n",
              "      border: none;\n",
              "      border-radius: 50%;\n",
              "      cursor: pointer;\n",
              "      display: none;\n",
              "      fill: #1967D2;\n",
              "      height: 32px;\n",
              "      padding: 0 0 0 0;\n",
              "      width: 32px;\n",
              "    }\n",
              "\n",
              "    .colab-df-convert:hover {\n",
              "      background-color: #E2EBFA;\n",
              "      box-shadow: 0px 1px 2px rgba(60, 64, 67, 0.3), 0px 1px 3px 1px rgba(60, 64, 67, 0.15);\n",
              "      fill: #174EA6;\n",
              "    }\n",
              "\n",
              "    [theme=dark] .colab-df-convert {\n",
              "      background-color: #3B4455;\n",
              "      fill: #D2E3FC;\n",
              "    }\n",
              "\n",
              "    [theme=dark] .colab-df-convert:hover {\n",
              "      background-color: #434B5C;\n",
              "      box-shadow: 0px 1px 3px 1px rgba(0, 0, 0, 0.15);\n",
              "      filter: drop-shadow(0px 1px 2px rgba(0, 0, 0, 0.3));\n",
              "      fill: #FFFFFF;\n",
              "    }\n",
              "  </style>\n",
              "\n",
              "      <script>\n",
              "        const buttonEl =\n",
              "          document.querySelector('#df-0eb9f9a6-7d37-4e77-a9f7-81d34f81561a button.colab-df-convert');\n",
              "        buttonEl.style.display =\n",
              "          google.colab.kernel.accessAllowed ? 'block' : 'none';\n",
              "\n",
              "        async function convertToInteractive(key) {\n",
              "          const element = document.querySelector('#df-0eb9f9a6-7d37-4e77-a9f7-81d34f81561a');\n",
              "          const dataTable =\n",
              "            await google.colab.kernel.invokeFunction('convertToInteractive',\n",
              "                                                     [key], {});\n",
              "          if (!dataTable) return;\n",
              "\n",
              "          const docLinkHtml = 'Like what you see? Visit the ' +\n",
              "            '<a target=\"_blank\" href=https://colab.research.google.com/notebooks/data_table.ipynb>data table notebook</a>'\n",
              "            + ' to learn more about interactive tables.';\n",
              "          element.innerHTML = '';\n",
              "          dataTable['output_type'] = 'display_data';\n",
              "          await google.colab.output.renderOutput(dataTable, element);\n",
              "          const docLink = document.createElement('div');\n",
              "          docLink.innerHTML = docLinkHtml;\n",
              "          element.appendChild(docLink);\n",
              "        }\n",
              "      </script>\n",
              "    </div>\n",
              "  </div>\n",
              "  "
            ]
          },
          "metadata": {},
          "execution_count": 26
        }
      ]
    },
    {
      "cell_type": "markdown",
      "source": [
        "### Confusion Matrix for class analysis"
      ],
      "metadata": {
        "id": "4jQXpG7EYGdP"
      }
    },
    {
      "cell_type": "code",
      "source": [
        "cm = confusion_matrix(y_test_argmax, y_pred)"
      ],
      "metadata": {
        "id": "jt2yrF9tU3_5"
      },
      "execution_count": 27,
      "outputs": []
    },
    {
      "cell_type": "code",
      "source": [
        "shark_labels = ['basking', 'blue', 'hammerhead', 'mako', 'sand tiger', 'tiger', 'white', 'blacktip', 'bull', 'lemon', 'nurse', 'thresher', 'whale', 'whitetip']\n",
        "\n",
        "disp = ConfusionMatrixDisplay(confusion_matrix=cm, display_labels=shark_labels)\n",
        "\n",
        "fig, ax = plt.subplots(figsize=(10,10))\n",
        "disp.plot(ax=ax)\n",
        "ax.set_xticklabels(shark_labels, rotation=45)\n",
        "\n",
        "plt.show()"
      ],
      "metadata": {
        "colab": {
          "base_uri": "https://localhost:8080/",
          "height": 837
        },
        "id": "I2MAMuFYT9ur",
        "outputId": "e66685f1-2565-4f33-9f77-1598fbcd1689"
      },
      "execution_count": 28,
      "outputs": [
        {
          "output_type": "display_data",
          "data": {
            "text/plain": [
              "<Figure size 1000x1000 with 2 Axes>"
            ],
            "image/png": "[encoded data removed]"
          },
          "metadata": {}
        }
      ]
    },
    {
      "cell_type": "code",
      "source": [],
      "metadata": {
        "id": "IjYKgx25U1KJ"
      },
      "execution_count": 28,
      "outputs": []
    }
  ]
}